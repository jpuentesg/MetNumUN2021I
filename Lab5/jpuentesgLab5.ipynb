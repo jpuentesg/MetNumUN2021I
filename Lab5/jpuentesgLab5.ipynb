{
  "nbformat": 4,
  "nbformat_minor": 0,
  "metadata": {
    "kernelspec": {
      "display_name": "Python 3",
      "language": "python",
      "name": "python3"
    },
    "language_info": {
      "codemirror_mode": {
        "name": "ipython",
        "version": 3
      },
      "file_extension": ".py",
      "mimetype": "text/x-python",
      "name": "python",
      "nbconvert_exporter": "python",
      "pygments_lexer": "ipython3",
      "version": "3.6.8"
    },
    "colab": {
      "name": "jpuentesgLab5.ipynb",
      "provenance": [],
      "collapsed_sections": []
    }
  },
  "cells": [
    {
      "cell_type": "markdown",
      "metadata": {
        "id": "dLLcR8BP3R8Y"
      },
      "source": [
        "#**QUANTCONNECT**\n",
        "##Lab5: Buy and Hold / Equities\n",
        "\\\n",
        "###1. Portafolio Completo (2 años)\n",
        "Creamos un portafolio completo con las empresas encontradas inicializando el ***SetCash*** con un Millon de dolares."
      ]
    },
    {
      "cell_type": "code",
      "metadata": {
        "id": "7jjMUsbFqjn2"
      },
      "source": [
        "\n",
        "def Initialize(self):\n",
        "        self.SetStartDate(2019, 1, 1)  # Set Start Date\n",
        "        self.SetEndDate(2021, 1, 1) #Set End Date\n",
        "        self.SetCash(1000000)  # Set Strategy Cash\n",
        "        \n",
        "        \n",
        "        self.tsla = self.AddEquity(\"TSLA\", Resolution.Minute)\n",
        "        self.tsla.SetDataNormalizationMode(DataNormalizationMode.Raw)\n",
        "        \n",
        "        self.amzn = self.AddEquity(\"AMZN\", Resolution.Minute)\n",
        "        self.amzn.SetDataNormalizationMode(DataNormalizationMode.Raw)\n",
        "        \n",
        "        self.goog = self.AddEquity(\"GOOG\", Resolution.Minute)\n",
        "        self.goog.SetDataNormalizationMode(DataNormalizationMode.Raw)\n",
        "        \n",
        "        self.nvda = self.AddEquity(\"NVDA\", Resolution.Minute)\n",
        "        self.nvda.SetDataNormalizationMode(DataNormalizationMode.Raw)\n",
        "        \n",
        "        self.aapl = self.AddEquity(\"AAPL\", Resolution.Minute)\n",
        "        self.aapl.SetDataNormalizationMode(DataNormalizationMode.Raw)"
      ],
      "execution_count": null,
      "outputs": []
    },
    {
      "cell_type": "markdown",
      "metadata": {
        "id": "l2KsTkR5522M"
      },
      "source": [
        "###prueba 1\n",
        "\n",
        "Utilizamos ***self.log*** para devolver un mensaje por consola y la función ***self.Portfolio*** que nos regresa el número de acciones compradas. Se hace esta primer prueba repartiendo el dinero en cantidades iguales"
      ]
    },
    {
      "cell_type": "code",
      "metadata": {
        "id": "FHShdWXj6QRu"
      },
      "source": [
        "def OnData(self, data):\n",
        "\n",
        "        if not self.Portfolio.Invested:\n",
        "            self.SetHoldings(\"TSLA\", 0.2)\n",
        "            self.SetHoldings(\"AMZN\", 0.2)\n",
        "            self.SetHoldings(\"GOOG\", 0.2)\n",
        "            self.SetHoldings(\"NVDA\", 0.2)\n",
        "            self.SetHoldings(\"AAPL\", 0.2)\n",
        "            \n",
        "            \n",
        "            self.Log(\"quantity for Tesla\" + str(self.Portfolio[\"TSLA\"].Quantity));\n",
        "            self.Log(\"quantity for Amazon \" + str(self.Portfolio[\"AMZN\"].Quantity));\n",
        "            self.Log(\"quantity for Google \" + str(self.Portfolio[\"GOOG\"].Quantity));\n",
        "            self.Log(\"quantity for Nvidia \" + str(self.Portfolio[\"NVDA\"].Quantity));\n",
        "            self.Log(\"quantity for Apple \" + str(self.Portfolio[\"AAPL\"].Quantity));"
      ],
      "execution_count": null,
      "outputs": []
    },
    {
      "cell_type": "markdown",
      "metadata": {
        "id": "NXxezk-ULk0W"
      },
      "source": [
        "<img src=\"https://github.com/jpuentesg/MetNumUN2021I/blob/main/Lab5/2%20a%C3%B1os/20%25.png?raw=true\">"
      ]
    },
    {
      "cell_type": "markdown",
      "metadata": {
        "id": "R-5sJRSeMFuX"
      },
      "source": [
        "<img src=\"https://github.com/jpuentesg/MetNumUN2021I/blob/main/Lab5/2%20a%C3%B1os/quantity%2020%25.png?raw=true\">"
      ]
    },
    {
      "cell_type": "markdown",
      "metadata": {
        "id": "R9rr2CwCMeGq"
      },
      "source": [
        "###Prueba 2\n",
        "Para el segundo experimento realizamos una pequeña operación manualmente usando los datos de crecimiento individuales de cada empresa:"
      ]
    },
    {
      "cell_type": "markdown",
      "metadata": {
        "id": "ILRdbe_zM1en"
      },
      "source": [
        "###1.Tesla"
      ]
    },
    {
      "cell_type": "code",
      "metadata": {
        "id": "4GATCXx4LkL1"
      },
      "source": [
        "class BootCampTask(QCAlgorithm):\n",
        "\n",
        "    def Initialize(self):\n",
        "        self.SetStartDate(2019, 1, 1)\n",
        "        self.SetEndDate(2021, 1, 1)\n",
        "\n",
        "        #1,2. Select TSLA minute resolution data and set it to Raw normalization mode\n",
        "        self.tsla = self.AddEquity(\"TSLA\", Resolution.Minute)\n",
        "        self.tsla.SetDataNormalizationMode(DataNormalizationMode.Raw)\n",
        "\n",
        "    def OnData(self, data):\n",
        "\n",
        "        #3. Place an order for 100 shares of TSLA and print the average fill price\n",
        "        if not self.Portfolio.Invested:\n",
        "            self.MarketOrder(\"TSLA\", 100)\n",
        "            self.Debug( str(self.Portfolio[\"TSLA\"].AveragePrice))"
      ],
      "execution_count": null,
      "outputs": []
    },
    {
      "cell_type": "markdown",
      "metadata": {
        "id": "_zTXfcJYPEtS"
      },
      "source": [
        "<img src=\"https://github.com/jpuentesg/MetNumUN2021I/blob/main/Lab5/2%20a%C3%B1os/Tesla.png?raw=true\">"
      ]
    },
    {
      "cell_type": "markdown",
      "metadata": {
        "id": "JyxONRvuRQat"
      },
      "source": [
        "###2.Google"
      ]
    },
    {
      "cell_type": "code",
      "metadata": {
        "id": "JHkz2qlSRFh2"
      },
      "source": [
        "class BootCampTask(QCAlgorithm):\n",
        "\n",
        "    def Initialize(self):\n",
        "        self.SetStartDate(2019, 1, 1)\n",
        "        self.SetEndDate(2021, 1, 1)\n",
        "\n",
        "        #1,2. Select GOOG minute resolution data and set it to Raw normalization mode\n",
        "        self.goog = self.AddEquity(\"GOOG\", Resolution.Minute)\n",
        "        self.goog.SetDataNormalizationMode(DataNormalizationMode.Raw)\n",
        "\n",
        "    def OnData(self, data):\n",
        "\n",
        "        #3. Place an order for 100 shares of GOOG and print the average fill price\n",
        "        if not self.Portfolio.Invested:\n",
        "            self.MarketOrder(\"GOOG\", 100)\n",
        "            self.Debug( str(self.Portfolio[\"GOOG\"].AveragePrice))"
      ],
      "execution_count": null,
      "outputs": []
    },
    {
      "cell_type": "markdown",
      "metadata": {
        "id": "dy5L5W1EPuYU"
      },
      "source": [
        "<img src=\"https://github.com/jpuentesg/MetNumUN2021I/blob/main/Lab5/2%20a%C3%B1os/Google.png?raw=true\">\n"
      ]
    },
    {
      "cell_type": "markdown",
      "metadata": {
        "id": "OXvL3zevRXLA"
      },
      "source": [
        "###3.Apple"
      ]
    },
    {
      "cell_type": "code",
      "metadata": {
        "id": "zrqbZR1vRcTO"
      },
      "source": [
        "class BootCampTask(QCAlgorithm):\n",
        "\n",
        "    def Initialize(self):\n",
        "        self.SetStartDate(2019, 1, 1)\n",
        "        self.SetEndDate(2021, 1, 1)\n",
        "\n",
        "        #1,2. Select AAPL minute resolution data and set it to Raw normalization mode\n",
        "        self.aapl = self.AddEquity(\"AAPL\", Resolution.Minute)\n",
        "        self.aapl.SetDataNormalizationMode(DataNormalizationMode.Raw)\n",
        "\n",
        "    def OnData(self, data):\n",
        "\n",
        "        #3. Place an order for 100 shares of AAPL and print the average fill price\n",
        "        if not self.Portfolio.Invested:\n",
        "            self.MarketOrder(\"AAPL\", 100)\n",
        "            self.Debug( str(self.Portfolio[\"AAPL\"].AveragePrice))"
      ],
      "execution_count": null,
      "outputs": []
    },
    {
      "cell_type": "markdown",
      "metadata": {
        "id": "81RJ6qShQJxb"
      },
      "source": [
        "<img src=\"https://github.com/jpuentesg/MetNumUN2021I/blob/main/Lab5/2%20a%C3%B1os/Apple.png?raw=true\">"
      ]
    },
    {
      "cell_type": "markdown",
      "metadata": {
        "id": "DXbzAaYVRp30"
      },
      "source": [
        "###4.Amazon"
      ]
    },
    {
      "cell_type": "code",
      "metadata": {
        "id": "gsP5CTw8RuIB"
      },
      "source": [
        "class BootCampTask(QCAlgorithm):\n",
        "\n",
        "    def Initialize(self):\n",
        "        self.SetStartDate(2019, 1, 1)\n",
        "        self.SetEndDate(2021, 1, 1)\n",
        "\n",
        "        #1,2. Select AMZN minute resolution data and set it to Raw normalization mode\n",
        "        self.amzn = self.AddEquity(\"AMZN\", Resolution.Minute)\n",
        "        self.amzn.SetDataNormalizationMode(DataNormalizationMode.Raw)\n",
        "\n",
        "    def OnData(self, data):\n",
        "\n",
        "        #3. Place an order for 100 shares of AMZN and print the average fill price\n",
        "        if not self.Portfolio.Invested:\n",
        "            self.MarketOrder(\"AMZN\", 100)\n",
        "            self.Debug( str(self.Portfolio[\"AMZN\"].AveragePrice))"
      ],
      "execution_count": null,
      "outputs": []
    },
    {
      "cell_type": "markdown",
      "metadata": {
        "id": "0xmx4jRTQll_"
      },
      "source": [
        "<img src=\"https://github.com/jpuentesg/MetNumUN2021I/blob/main/Lab5/2%20a%C3%B1os/Amazon.png?raw=true\">"
      ]
    },
    {
      "cell_type": "markdown",
      "metadata": {
        "id": "x3GwOxRTR32R"
      },
      "source": [
        "###5.Nvidia"
      ]
    },
    {
      "cell_type": "code",
      "metadata": {
        "id": "ejLPS0AnR-HZ"
      },
      "source": [
        "class BootCampTask(QCAlgorithm):\n",
        "\n",
        "    def Initialize(self):\n",
        "        self.SetStartDate(2019, 1, 1)\n",
        "        self.SetEndDate(2021, 1, 1)\n",
        "\n",
        "        #1,2. Select NVDA minute resolution data and set it to Raw normalization mode\n",
        "        self.nvda = self.AddEquity(\"NVDA\", Resolution.Minute)\n",
        "        self.nvda.SetDataNormalizationMode(DataNormalizationMode.Raw)\n",
        "\n",
        "    def OnData(self, data):\n",
        "\n",
        "        #3. Place an order for 100 shares of NVDA and print the average fill price\n",
        "        if not self.Portfolio.Invested:\n",
        "            self.MarketOrder(\"NVDA\", 100)\n",
        "            self.Debug( str(self.Portfolio[\"NVDA\"].AveragePrice))"
      ],
      "execution_count": null,
      "outputs": []
    },
    {
      "cell_type": "markdown",
      "metadata": {
        "id": "dbxocctzQ-xd"
      },
      "source": [
        "<img src=\"https://github.com/jpuentesg/MetNumUN2021I/blob/main/Lab5/2%20a%C3%B1os/Nvidia.png?raw=true\">"
      ]
    },
    {
      "cell_type": "markdown",
      "metadata": {
        "id": "B8hNXzaeSR5G"
      },
      "source": [
        "A partir del porcentaje de retorno de cada empresa se calcula el aporte al portafolio de cada empresa obteniendo los siguientes porcentajes:\n",
        "\n",
        "Google : 11,23%\n",
        "\n",
        "Apple : 5,86%\n",
        "\n",
        "Tesla : 49,43%\n",
        "\n",
        "Amazon : 27,47%\n",
        "\n",
        "Nvidia : 6,01%\n",
        "\n",
        "Con ellos se ejecuta la segunda prueba:\n"
      ]
    },
    {
      "cell_type": "code",
      "metadata": {
        "id": "Ixn-_ktcTIj5"
      },
      "source": [
        "def OnData(self, data):\n",
        "    \n",
        "    if not self.Portfolio.Invested:\n",
        "        self.SetHoldings(\"TSLA\", 0.4943)\n",
        "        self.SetHoldings(\"AMZN\", 0.2747)\n",
        "        self.SetHoldings(\"GOOG\", 0.1123)\n",
        "        self.SetHoldings(\"NVDA\", 0.0601)\n",
        "        self.SetHoldings(\"AAPL\", 0.0586)\n",
        "            \n",
        "        self.Log(\"Quantity For Tesla \" + str(self.Portfolio[\"TSLA\"].Quantity));\n",
        "        self.Log(\"Quantity For Amazon \" + str(self.Portfolio[\"AMZN\"].Quantity));\n",
        "        self.Log(\"Quantity For Google \" + str(self.Portfolio[\"GOOG\"].Quantity));\n",
        "        self.Log(\"Quantity For Nvidia \" + str(self.Portfolio[\"NVDA\"].Quantity));\n",
        "        self.Log(\"Quantity For Apple \" + str(self.Portfolio[\"AAPL\"].Quantity));"
      ],
      "execution_count": null,
      "outputs": []
    },
    {
      "cell_type": "markdown",
      "metadata": {
        "id": "dMmBeVOSU4U9"
      },
      "source": [
        "<img src=\"https://github.com/jpuentesg/MetNumUN2021I/blob/main/Lab5/2%20a%C3%B1os/R.%25.png?raw=truee\">"
      ]
    },
    {
      "cell_type": "markdown",
      "metadata": {
        "id": "Ok2Oys6bOOxS"
      },
      "source": [
        "<img src=\"https://github.com/jpuentesg/MetNumUN2021I/blob/main/Lab5/2%20a%C3%B1os/quantity%20R.%25.PNG?raw=true\">"
      ]
    },
    {
      "cell_type": "markdown",
      "metadata": {
        "id": "hWHYj2RIvnzE"
      },
      "source": [
        "\n",
        "###2. Portafolio Completo (6 meses)\n",
        "Creamos otro portafolio completo con las empresas encontradas inicializando el SetCash con el Millon de dolares."
      ]
    },
    {
      "cell_type": "code",
      "metadata": {
        "id": "QRa7bPUKv069"
      },
      "source": [
        "\n",
        "def Initialize(self):\n",
        "        self.SetStartDate(2020, 10, 30)  # Set Start Date\n",
        "        self.SetEndDate(2021, 4, 30) #Set End Date\n",
        "        self.SetCash(1000000)  # Set Strategy Cash\n",
        "        \n",
        "        \n",
        "        self.goog = self.AddEquity(\"GOOG\", Resolution.Minute)\n",
        "        self.goog.SetDataNormalizationMode(DataNormalizationMode.Raw)\n",
        "    \n",
        "        self.tsla = self.AddEquity(\"TSLA\", Resolution.Minute)\n",
        "        self.tsla.SetDataNormalizationMode(DataNormalizationMode.Raw)\n",
        "        \n",
        "        self.roku = self.AddEquity(\"ROKU\", Resolution.Minute)\n",
        "        self.roku.SetDataNormalizationMode(DataNormalizationMode.Raw)\n",
        "        \n",
        "        self.mrna = self.AddEquity(\"MRNA\", Resolution.Minute)\n",
        "        self.mrna.SetDataNormalizationMode(DataNormalizationMode.Raw)\n",
        "        \n",
        "        self.nvda = self.AddEquity(\"NVDA\", Resolution.Minute)\n",
        "        self.nvda.SetDataNormalizationMode(DataNormalizationMode.Raw)"
      ],
      "execution_count": null,
      "outputs": []
    },
    {
      "cell_type": "markdown",
      "metadata": {
        "id": "d9DsdkddwXTU"
      },
      "source": [
        "###Prueba 1\n",
        "Para el experimento realizamos la anterior operación usando los datos de crecimiento individuales y con ello calcular el aporte al portafolio de cada empresa:"
      ]
    },
    {
      "cell_type": "markdown",
      "metadata": {
        "id": "WnVce33Kwyh2"
      },
      "source": [
        "###1.Google"
      ]
    },
    {
      "cell_type": "code",
      "metadata": {
        "id": "AHZPoNKmxyGP"
      },
      "source": [
        "class BootCampTask(QCAlgorithm):\n",
        "\n",
        "    def Initialize(self):\n",
        "        self.SetStartDate(2020, 10, 30)\n",
        "        self.SetEndDate(2021, 4, 30)\n",
        "\n",
        "        #1,2. Select GOOG minute resolution data and set it to Raw normalization mode\n",
        "        self.goog = self.AddEquity(\"GOOG\", Resolution.Minute)\n",
        "        self.goog.SetDataNormalizationMode(DataNormalizationMode.Raw)\n",
        "\n",
        "    def OnData(self, data):\n",
        "\n",
        "        #3. Place an order for 100 shares of GOOG and print the average fill price\n",
        "        if not self.Portfolio.Invested:\n",
        "            self.MarketOrder(\"GOOG\", 100)\n",
        "            self.Debug( str(self.Portfolio[\"GOOG\"].AveragePrice))"
      ],
      "execution_count": null,
      "outputs": []
    },
    {
      "cell_type": "markdown",
      "metadata": {
        "id": "EKHSXX2k3iRF"
      },
      "source": [
        "<img src=\"https://github.com/jpuentesg/MetNumUN2021I/blob/main/Lab5/6%20meses/Google%206M.PNG?raw=true\">"
      ]
    },
    {
      "cell_type": "markdown",
      "metadata": {
        "id": "R95Gx6QTw30T"
      },
      "source": [
        "###2.Tesla"
      ]
    },
    {
      "cell_type": "code",
      "metadata": {
        "id": "mKGLoFjoyNSj"
      },
      "source": [
        "class BootCampTask(QCAlgorithm):\n",
        "\n",
        "    def Initialize(self):\n",
        "        self.SetStartDate(2020, 10, 30)\n",
        "        self.SetEndDate(2021, 4, 30)\n",
        "\n",
        "        #1,2. Select TSLA minute resolution data and set it to Raw normalization mode\n",
        "        self.tsla = self.AddEquity(\"TSLA\", Resolution.Minute)\n",
        "        self.tsla.SetDataNormalizationMode(DataNormalizationMode.Raw)\n",
        "\n",
        "    def OnData(self, data):\n",
        "\n",
        "        #3. Place an order for 100 shares of TSLA and print the average fill price\n",
        "        if not self.Portfolio.Invested:\n",
        "            self.MarketOrder(\"TSLA\", 100)\n",
        "            self.Debug( str(self.Portfolio[\"TSLA\"].AveragePrice))"
      ],
      "execution_count": null,
      "outputs": []
    },
    {
      "cell_type": "markdown",
      "metadata": {
        "id": "nrTfFgDM3rZ0"
      },
      "source": [
        "<img src=\"https://github.com/jpuentesg/MetNumUN2021I/blob/main/Lab5/6%20meses/Tesla%206M.PNG?raw=true\">"
      ]
    },
    {
      "cell_type": "markdown",
      "metadata": {
        "id": "mUv57ax_w66h"
      },
      "source": [
        "###3.Roku"
      ]
    },
    {
      "cell_type": "code",
      "metadata": {
        "id": "7Q0L7QVtyag9"
      },
      "source": [
        "class BootCampTask(QCAlgorithm):\n",
        "\n",
        "    def Initialize(self):\n",
        "        self.SetStartDate(2020, 10, 30)\n",
        "        self.SetEndDate(2021, 4, 30)\n",
        "\n",
        "        #1,2. Select ROKU minute resolution data and set it to Raw normalization mode\n",
        "        self.roku = self.AddEquity(\"ROKU\", Resolution.Minute)\n",
        "        self.roku.SetDataNormalizationMode(DataNormalizationMode.Raw)\n",
        "\n",
        "    def OnData(self, data):\n",
        "\n",
        "        #3. Place an order for 100 shares of ROKU and print the average fill price\n",
        "        if not self.Portfolio.Invested:\n",
        "            self.MarketOrder(\"ROKU\", 100)\n",
        "            self.Debug( str(self.Portfolio[\"ROKU\"].AveragePrice))"
      ],
      "execution_count": null,
      "outputs": []
    },
    {
      "cell_type": "markdown",
      "metadata": {
        "id": "PB4_-qYQ4VFg"
      },
      "source": [
        "<img src=\"https://github.com/jpuentesg/MetNumUN2021I/blob/main/Lab5/6%20meses/Roku%206M.PNG?raw=true\">"
      ]
    },
    {
      "cell_type": "markdown",
      "metadata": {
        "id": "h4KfO9Ocw_xi"
      },
      "source": [
        "###4.Moderna"
      ]
    },
    {
      "cell_type": "code",
      "metadata": {
        "id": "hQEhgO_Tyl4D"
      },
      "source": [
        "class BootCampTask(QCAlgorithm):\n",
        "\n",
        "    def Initialize(self):\n",
        "        self.SetStartDate(2020, 10, 30)\n",
        "        self.SetEndDate(2021, 4, 30)\n",
        "\n",
        "        #1,2. Select MRNA minute resolution data and set it to Raw normalization mode\n",
        "        self.mrna = self.AddEquity(\"MRNA\", Resolution.Minute)\n",
        "        self.mrna.SetDataNormalizationMode(DataNormalizationMode.Raw)\n",
        "\n",
        "    def OnData(self, data):\n",
        "\n",
        "        #3. Place an order for 100 shares of MRNA and print the average fill price\n",
        "        if not self.Portfolio.Invested:\n",
        "            self.MarketOrder(\"MRNA\", 100)\n",
        "            self.Debug( str(self.Portfolio[\"MRNA\"].AveragePrice))"
      ],
      "execution_count": null,
      "outputs": []
    },
    {
      "cell_type": "markdown",
      "metadata": {
        "id": "r3sssp9C4JkU"
      },
      "source": [
        "<img src=\"https://github.com/jpuentesg/MetNumUN2021I/blob/main/Lab5/6%20meses/Moderna%206M.PNG?raw=true\">"
      ]
    },
    {
      "cell_type": "markdown",
      "metadata": {
        "id": "XAH3SG8nxE1D"
      },
      "source": [
        "###5.Nvidia"
      ]
    },
    {
      "cell_type": "code",
      "metadata": {
        "id": "03rMCXrgywo8"
      },
      "source": [
        "class BootCampTask(QCAlgorithm):\n",
        "\n",
        "    def Initialize(self):\n",
        "        self.SetStartDate(2020, 10, 30)\n",
        "        self.SetEndDate(2021, 4, 30)\n",
        "\n",
        "        #1,2. Select NVDA minute resolution data and set it to Raw normalization mode\n",
        "        self.nvda = self.AddEquity(\"NVDA\", Resolution.Minute)\n",
        "        self.nvda.SetDataNormalizationMode(DataNormalizationMode.Raw)\n",
        "\n",
        "    def OnData(self, data):\n",
        "\n",
        "        #3. Place an order for 100 shares of NVDA and print the average fill price\n",
        "        if not self.Portfolio.Invested:\n",
        "            self.MarketOrder(\"NVDA\", 100)\n",
        "            self.Debug( str(self.Portfolio[\"NVDA\"].AveragePrice))"
      ],
      "execution_count": null,
      "outputs": []
    },
    {
      "cell_type": "markdown",
      "metadata": {
        "id": "8kMI871k4eH_"
      },
      "source": [
        "<img src=\"https://github.com/jpuentesg/MetNumUN2021I/blob/main/Lab5/6%20meses/Nvidia%206M.PNG?raw=true\">"
      ]
    },
    {
      "cell_type": "markdown",
      "metadata": {
        "id": "K-g4PJa64x-h"
      },
      "source": [
        "Porcentaje por empresa:\n",
        "\n",
        "Google : 54,18%\n",
        "\n",
        "Tesla : 22,28%\n",
        "\n",
        "Roku : 9,27%\n",
        "\n",
        "Moderna : 7,90%\n",
        "\n",
        "Nvidia : 6,37%\n",
        "\n",
        "con estos valores se ejecuta la prueba:"
      ]
    },
    {
      "cell_type": "code",
      "metadata": {
        "id": "4em42gYW6WVf"
      },
      "source": [
        "def OnData(self, data):\n",
        "\n",
        "        if not self.Portfolio.Invested:\n",
        "            self.SetHoldings(\"GOOG\", 0.5418)\n",
        "            self.SetHoldings(\"TSLA\", 0.2228)\n",
        "            self.SetHoldings(\"ROKU\", 0.0927)\n",
        "            self.SetHoldings(\"MRNA\", 0.079)\n",
        "            self.SetHoldings(\"NVDA\", 0.0637)\n",
        "            \n",
        "            self.Log(\"quantity for Google\" + str(self.Portfolio[\"GOOG\"].Quantity));\n",
        "            self.Log(\"quantity for Tesla \" + str(self.Portfolio[\"TSLA\"].Quantity));\n",
        "            self.Log(\"quantity for Roku \" + str(self.Portfolio[\"ROKU\"].Quantity));\n",
        "            self.Log(\"quantity for Moderna \" + str(self.Portfolio[\"MRNA\"].Quantity));\n",
        "            self.Log(\"quantity for Nvidia \" + str(self.Portfolio[\"NVDA\"].Quantity));"
      ],
      "execution_count": null,
      "outputs": []
    },
    {
      "cell_type": "markdown",
      "metadata": {
        "id": "SqjMA8tFLSk9"
      },
      "source": [
        "<img src=\"https://github.com/jpuentesg/MetNumUN2021I/blob/main/Lab5/6%20meses/R.%25%206M.JPG?raw=true\">"
      ]
    },
    {
      "cell_type": "markdown",
      "metadata": {
        "id": "AI2U4Ob2LacC"
      },
      "source": [
        "<img src=\"https://github.com/jpuentesg/MetNumUN2021I/blob/main/Lab5/6%20meses/quantity%206M.JPG?raw=true\">"
      ]
    }
  ]
}