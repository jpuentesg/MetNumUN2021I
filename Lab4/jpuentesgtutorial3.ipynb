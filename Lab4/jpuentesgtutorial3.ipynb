{
  "nbformat": 4,
  "nbformat_minor": 0,
  "metadata": {
    "colab": {
      "name": "Untitled2.ipynb",
      "provenance": []
    },
    "kernelspec": {
      "name": "python3",
      "display_name": "Python 3"
    },
    "language_info": {
      "name": "python"
    }
  },
  "cells": [
    {
      "cell_type": "markdown",
      "metadata": {
        "id": "rUP9QkZ8Hg3O"
      },
      "source": [
        "#Tutorial 3: Introduction to Financial Python#\n",
        "Functions and Objective-Oriented Programming"
      ]
    },
    {
      "cell_type": "markdown",
      "metadata": {
        "id": "zV7nPPXrH4xg"
      },
      "source": [
        "##Introducción\n",
        "En este capítulo se presentan funciones y programación orientada a objetos, lo que permitirá construir algoritmos complejos de formas más flexibles.\n",
        "\n"
      ]
    },
    {
      "cell_type": "markdown",
      "metadata": {
        "id": "CIjgKs2fH4jX"
      },
      "source": [
        "##funciones\n",
        "Una función es un bloque de código reutilizable. Podemos usar una función para generar un valor o hacer cualquier otra cosa que queramos. Podemos definir fácilmente nuestra propia función usando la palabra clave \"def\"."
      ]
    },
    {
      "cell_type": "code",
      "metadata": {
        "colab": {
          "base_uri": "https://localhost:8080/"
        },
        "id": "R24Shob8HIkG",
        "outputId": "cff64906-4158-4e6b-aa9a-f5096593e496"
      },
      "source": [
        "def product(x,y):\n",
        "    return x*y\n",
        "print (product(2,3))\n",
        "\n",
        "print (product(5,10))\n"
      ],
      "execution_count": 5,
      "outputs": [
        {
          "output_type": "stream",
          "text": [
            "6\n",
            "50\n"
          ],
          "name": "stdout"
        }
      ]
    },
    {
      "cell_type": "markdown",
      "metadata": {
        "id": "8m730TEeIjTQ"
      },
      "source": [
        "La palabra clave \"def\" va seguida del nombre de la función y la lista entre paréntesis de parámetros formales. Las declaraciones que forman el cuerpo de la función comienzan en la siguiente línea y deben estar indentado. La función **product ()** anterior tiene \"x\" e \"y\" como parámetros. Una función no tiene necesariamente parámetros:"
      ]
    },
    {
      "cell_type": "code",
      "metadata": {
        "colab": {
          "base_uri": "https://localhost:8080/"
        },
        "id": "_YRe6LQCJou4",
        "outputId": "74f1e152-b526-4bb0-b81e-93419d3040a3"
      },
      "source": [
        "def say_hi():\n",
        "    print (\"Welcome to QuantConnect\")\n",
        "say_hi()\n"
      ],
      "execution_count": 7,
      "outputs": [
        {
          "output_type": "stream",
          "text": [
            "Welcome to QuantConnect\n"
          ],
          "name": "stdout"
        }
      ]
    },
    {
      "cell_type": "markdown",
      "metadata": {
        "id": "Updhy6JLJ3dP"
      },
      "source": [
        "##Función incorporada\n",
        "**range ()** es una función que crea una lista que contiene una secuencia aritmética. A menudo se usa en bucles for. Los argumentos deben ser números enteros. Si se omite el argumento \"step\", el valor predeterminado es 1."
      ]
    },
    {
      "cell_type": "code",
      "metadata": {
        "colab": {
          "base_uri": "https://localhost:8080/"
        },
        "id": "w1YUN6axKaKw",
        "outputId": "f144571e-65f4-491c-940d-9e1b8586e430"
      },
      "source": [
        "i=0\n",
        "for i in range(10):\n",
        "  print (i)\n",
        "for i in range(1,11):\n",
        "  print (i)\n",
        "for i in range(1, 11, 2):\n",
        "  print (i)\n",
        "\n",
        "\n"
      ],
      "execution_count": 34,
      "outputs": [
        {
          "output_type": "stream",
          "text": [
            "0\n",
            "1\n",
            "2\n",
            "3\n",
            "4\n",
            "5\n",
            "6\n",
            "7\n",
            "8\n",
            "9\n",
            "1\n",
            "2\n",
            "3\n",
            "4\n",
            "5\n",
            "6\n",
            "7\n",
            "8\n",
            "9\n",
            "10\n",
            "1\n",
            "3\n",
            "5\n",
            "7\n",
            "9\n"
          ],
          "name": "stdout"
        }
      ]
    },
    {
      "cell_type": "markdown",
      "metadata": {
        "id": "ZVewAmRgTdDc"
      },
      "source": [
        "**len ()** es otra función que se usa junto con **range ()** para crear un bucle **for**. Esta función devuelve la longitud de un objeto. El argumento debe ser una secuencia o una colección.\n"
      ]
    },
    {
      "cell_type": "code",
      "metadata": {
        "colab": {
          "base_uri": "https://localhost:8080/"
        },
        "id": "p9ghhj7bTvGP",
        "outputId": "c1b8825c-b567-4c51-d08e-47e24a3690d5"
      },
      "source": [
        "tickers = ['AAPL', 'GOOGL', 'IBM', 'FB', 'F', 'V', 'G', 'GE']\n",
        "print (\"The number of tickers is {}\".format(len(tickers)))\n",
        "for k in range(len(tickers)):\n",
        "    print (k + 1, tickers[k])\n"
      ],
      "execution_count": 29,
      "outputs": [
        {
          "output_type": "stream",
          "text": [
            "The number of tickers is 8\n",
            "1 AAPL\n",
            "2 GOOGL\n",
            "3 IBM\n",
            "4 FB\n",
            "5 F\n",
            "6 V\n",
            "7 G\n",
            "8 GE\n"
          ],
          "name": "stdout"
        }
      ]
    },
    {
      "cell_type": "markdown",
      "metadata": {
        "id": "1lXo0stcUCV_"
      },
      "source": [
        "**map ()** es una función que aplica una función específica a cada elemento de una secuencia o colección y devuelve una lista de los resultados."
      ]
    },
    {
      "cell_type": "code",
      "metadata": {
        "colab": {
          "base_uri": "https://localhost:8080/"
        },
        "id": "NFGKLLA9ULtG",
        "outputId": "10a32339-4f50-4acc-e380-cf7b6b31c09d"
      },
      "source": [
        "tickers = ['AAPL','GOOG','IBM','FB','F','V', 'G', 'GE']\n",
        "print(list(map(len,tickers)))\n"
      ],
      "execution_count": 30,
      "outputs": [
        {
          "output_type": "stream",
          "text": [
            "[4, 4, 3, 2, 1, 1, 1, 2]\n"
          ],
          "name": "stdout"
        }
      ]
    },
    {
      "cell_type": "markdown",
      "metadata": {
        "id": "4OKu4ut3UR5D"
      },
      "source": [
        "El operador **lambda** es una forma de crear pequeñas funciones anónimas. Estas funciones solo son necesarias donde se han creado. Por ejemplo:"
      ]
    },
    {
      "cell_type": "code",
      "metadata": {
        "colab": {
          "base_uri": "https://localhost:8080/"
        },
        "id": "fIi3vHMTUqIK",
        "outputId": "6703f8a9-a29c-498c-f47a-24c659e88302"
      },
      "source": [
        "print(list(map(lambda x: x**2, range(10))))"
      ],
      "execution_count": 32,
      "outputs": [
        {
          "output_type": "stream",
          "text": [
            "[0, 1, 4, 9, 16, 25, 36, 49, 64, 81]\n"
          ],
          "name": "stdout"
        }
      ]
    },
    {
      "cell_type": "markdown",
      "metadata": {
        "id": "S3BPr2PXVbaf"
      },
      "source": [
        "**map ()** se puede aplicar a más de una lista. Las listas deben tener la misma longitud.\n"
      ]
    },
    {
      "cell_type": "code",
      "metadata": {
        "colab": {
          "base_uri": "https://localhost:8080/"
        },
        "id": "KORyyn6SVWp_",
        "outputId": "22b8f3f2-d78c-417e-c195-3528ae9e3c88"
      },
      "source": [
        "list(map(lambda x, y: x+y, [1,2,3,4,5], [5,4,3,2,1]))"
      ],
      "execution_count": 38,
      "outputs": [
        {
          "output_type": "execute_result",
          "data": {
            "text/plain": [
              "[6, 6, 6, 6, 6]"
            ]
          },
          "metadata": {
            "tags": []
          },
          "execution_count": 38
        }
      ]
    },
    {
      "cell_type": "markdown",
      "metadata": {
        "id": "VojskBrrV_m9"
      },
      "source": [
        "**sorted ()** toma una lista o conjunto y devuelve una nueva lista ordenada:"
      ]
    },
    {
      "cell_type": "code",
      "metadata": {
        "colab": {
          "base_uri": "https://localhost:8080/"
        },
        "id": "RIrVUL49VoHK",
        "outputId": "f9681502-93c5-4d84-e37e-a7119633ec1c"
      },
      "source": [
        "sorted([5,2,3,4,1])"
      ],
      "execution_count": 39,
      "outputs": [
        {
          "output_type": "execute_result",
          "data": {
            "text/plain": [
              "[1, 2, 3, 4, 5]"
            ]
          },
          "metadata": {
            "tags": []
          },
          "execution_count": 39
        }
      ]
    },
    {
      "cell_type": "markdown",
      "metadata": {
        "id": "Llg3srmWWROS"
      },
      "source": [
        "Podemos agregar un parámetro \"key\" para especificar una función que se llamará en cada elemento de la lista antes de hacer comparaciones. Por ejemplo:"
      ]
    },
    {
      "cell_type": "code",
      "metadata": {
        "colab": {
          "base_uri": "https://localhost:8080/"
        },
        "id": "cR9gkvJSWVuq",
        "outputId": "e457fd39-a4f5-4bc9-eb0e-997373bc2da8"
      },
      "source": [
        "price_list = [('AAPL', 144.09), ('GOOGL', 911.71), ('MSFT', 69), ('FB', 150), ('WMT', 75.32)]\n",
        "sorted(price_list, key = lambda x: x[1])\n"
      ],
      "execution_count": 40,
      "outputs": [
        {
          "output_type": "execute_result",
          "data": {
            "text/plain": [
              "[('MSFT', 69),\n",
              " ('WMT', 75.32),\n",
              " ('AAPL', 144.09),\n",
              " ('FB', 150),\n",
              " ('GOOGL', 911.71)]"
            ]
          },
          "metadata": {
            "tags": []
          },
          "execution_count": 40
        }
      ]
    },
    {
      "cell_type": "markdown",
      "metadata": {
        "id": "veIBDb0_WaRK"
      },
      "source": [
        "De forma predeterminada, los valores se ordenan de forma ascendente. Podemos cambiarlo a descendente agregando un parámetro opcional \"reverse\"."
      ]
    },
    {
      "cell_type": "code",
      "metadata": {
        "colab": {
          "base_uri": "https://localhost:8080/"
        },
        "id": "x3fsw6ZZWiP0",
        "outputId": "024704be-24cd-4f22-db21-a3c6b8b8d0ee"
      },
      "source": [
        "price_list = [('AAPL', 144.09), ('GOOGL', 911.71), ('MSFT', 69), ('FB', 150), ('WMT', 75.32)]\n",
        "sorted(price_list, key = lambda x: x[1], reverse = True)"
      ],
      "execution_count": 41,
      "outputs": [
        {
          "output_type": "execute_result",
          "data": {
            "text/plain": [
              "[('GOOGL', 911.71),\n",
              " ('FB', 150),\n",
              " ('AAPL', 144.09),\n",
              " ('WMT', 75.32),\n",
              " ('MSFT', 69)]"
            ]
          },
          "metadata": {
            "tags": []
          },
          "execution_count": 41
        }
      ]
    },
    {
      "cell_type": "markdown",
      "metadata": {
        "id": "9QdXRUKvWvHT"
      },
      "source": [
        "Las listas también tienen una función **list.sort ()**. Esta función toma los mismos argumentos \"key\" e \"reverse\" que **sorted ()**, pero no devuelve una nueva lista."
      ]
    },
    {
      "cell_type": "code",
      "metadata": {
        "colab": {
          "base_uri": "https://localhost:8080/"
        },
        "id": "oGH2CgFFW8Y0",
        "outputId": "c2c3befe-6802-4fc6-a59f-d0d81df2b547"
      },
      "source": [
        "price_list = [('AAPL', 144.09), ('GOOGL', 911.71), ('MSFT', 69), ('FB', 150), ('WMT', 75.32)]\n",
        "price_list.sort(key = lambda x: x[1])\n",
        "print (price_list)\n"
      ],
      "execution_count": 43,
      "outputs": [
        {
          "output_type": "stream",
          "text": [
            "[('MSFT', 69), ('WMT', 75.32), ('AAPL', 144.09), ('FB', 150), ('GOOGL', 911.71)]\n"
          ],
          "name": "stdout"
        }
      ]
    },
    {
      "cell_type": "markdown",
      "metadata": {
        "id": "WcOOHGr6XIoD"
      },
      "source": [
        "##Programación orientada a objetos\n",
        "Python es un lenguaje de programación orientado a objetos. Es importante comprender el concepto de \"objetos\" porque casi todos los tipos de datos de la API QuantConnect son objetos.\n",
        "###Clase\n",
        "Una clase es un tipo de datos, como una cadena, flotante o lista. Cuando creamos un objeto de ese tipo de datos, lo llamamos instancia de una clase.\n",
        "\n",
        "En Python, todo lo que es un objeto, es una instancia de alguna clase. Los datos almacenados dentro de un objeto se denominan atributos y las funciones asociadas con el objeto se denominan métodos.\n",
        "\n",
        "Por ejemplo, como se mencionó anteriormente, una lista es un objeto de la clase \"lista\" y tiene un método **list.sort ()**.\n",
        "\n",
        "Podemos crear nuestros propios objetos definiendo una clase. Haríamos esto cuando sea útil agrupar ciertas funciones. Por ejemplo, aquí definimos una clase llamada \"Stock\":"
      ]
    },
    {
      "cell_type": "code",
      "metadata": {
        "id": "toM1jdiwZTSq"
      },
      "source": [
        "class Stock:\n",
        "    def __init__(self, ticker, open, close, volume):\n",
        "        self.ticker = ticker\n",
        "        self.open = open\n",
        "        self.close = close\n",
        "        self.volume = volume\n",
        "        self.rate_return = float(close)/open - 1\n",
        "\n",
        "    def update(self, open, close):\n",
        "        self.open = open\n",
        "        self.close = close\n",
        "        self.rate_return = float(self.close)/self.open - 1\n",
        "\n",
        "    def print_return(self):\n",
        "        print (self.rate_return)"
      ],
      "execution_count": 59,
      "outputs": []
    },
    {
      "cell_type": "markdown",
      "metadata": {
        "id": "M3KeDpw0Zj3g"
      },
      "source": [
        "La clase \"Stock\" tiene los atributos \"ticker\", \"open\", \"close\", \"volume\" y \"rate_return\". Dentro del cuerpo de la clase, el primer método se llama  ____ init ____ , que es un método especial. Cuando creamos una nueva instancia de la clase, el método  ____ init ____  se ejecuta inmediatamente con todos los parámetros que pasamos al objeto \"Stock\". El propósito de este método es configurar un nuevo objeto \"Stock\" utilizando los datos que hemos proporcionado.\n",
        "\n",
        "Aquí creamos dos objetos Stock llamados \"apple\" y \"google\"."
      ]
    },
    {
      "cell_type": "code",
      "metadata": {
        "id": "5JKnFIi-bCP0"
      },
      "source": [
        "apple  = Stock('AAPL', 143.69, 144.09, 20109375)\n",
        "google = Stock('GOOGL', 898.7, 911.7, 1561616)"
      ],
      "execution_count": 60,
      "outputs": []
    },
    {
      "cell_type": "markdown",
      "metadata": {
        "id": "uXscwKNwbMIg"
      },
      "source": [
        "Los objetos de stock también tienen otros dos métodos: **update ()** y **print_return ()**. Podemos acceder a los atributos de un objeto Stock y llamar a sus métodos:"
      ]
    },
    {
      "cell_type": "code",
      "metadata": {
        "colab": {
          "base_uri": "https://localhost:8080/",
          "height": 35
        },
        "id": "0R7d3bxUdBm6",
        "outputId": "3ec1aa79-92db-4748-c915-b739277629a9"
      },
      "source": [
        "apple.ticker"
      ],
      "execution_count": 61,
      "outputs": [
        {
          "output_type": "execute_result",
          "data": {
            "application/vnd.google.colaboratory.intrinsic+json": {
              "type": "string"
            },
            "text/plain": [
              "'AAPL'"
            ]
          },
          "metadata": {
            "tags": []
          },
          "execution_count": 61
        }
      ]
    },
    {
      "cell_type": "code",
      "metadata": {
        "colab": {
          "base_uri": "https://localhost:8080/"
        },
        "id": "HXRRpZWPdP2X",
        "outputId": "4d7a7c95-9330-46eb-97c0-f845a175abfe"
      },
      "source": [
        "google.print_return()"
      ],
      "execution_count": 62,
      "outputs": [
        {
          "output_type": "stream",
          "text": [
            "0.014465338822744034\n"
          ],
          "name": "stdout"
        }
      ]
    },
    {
      "cell_type": "code",
      "metadata": {
        "colab": {
          "base_uri": "https://localhost:8080/"
        },
        "id": "84PQYMkjeodJ",
        "outputId": "adcbddd3-a55f-408d-a833-4c33e6aad258"
      },
      "source": [
        "google.update(912.8,913.4)\n",
        "google.print_return()"
      ],
      "execution_count": 63,
      "outputs": [
        {
          "output_type": "stream",
          "text": [
            "0.0006573181419806673\n"
          ],
          "name": "stdout"
        }
      ]
    },
    {
      "cell_type": "markdown",
      "metadata": {
        "id": "GZBhuBD-e874"
      },
      "source": [
        "Al llamar a la función **update ()**, actualizamos los precios de apertura y cierre de una acción. Tenga en cuenta que cuando usamos los atributos o llamamos a los métodos dentro de una clase, debemos especificarlos como **self.attribute** o **self.method ()**, de lo contrario, Python los considerará como variables globales y, por lo tanto, generará un error.\n",
        "\n",
        "Podemos agregar un atributo a un objeto en cualquier lugar:"
      ]
    },
    {
      "cell_type": "code",
      "metadata": {
        "colab": {
          "base_uri": "https://localhost:8080/",
          "height": 35
        },
        "id": "O89I6ICxfF7P",
        "outputId": "d846b26c-17d0-4327-989d-0f9cbc550b04"
      },
      "source": [
        "apple.ceo = 'Tim Cook'\n",
        "apple.ceo"
      ],
      "execution_count": 64,
      "outputs": [
        {
          "output_type": "execute_result",
          "data": {
            "application/vnd.google.colaboratory.intrinsic+json": {
              "type": "string"
            },
            "text/plain": [
              "'Tim Cook'"
            ]
          },
          "metadata": {
            "tags": []
          },
          "execution_count": 64
        }
      ]
    },
    {
      "cell_type": "markdown",
      "metadata": {
        "id": "qoR06NpLfNhu"
      },
      "source": [
        "We can check what names (i.e. attributes and methods) are defined on an object using the **dir()** function:"
      ]
    },
    {
      "cell_type": "code",
      "metadata": {
        "colab": {
          "base_uri": "https://localhost:8080/"
        },
        "id": "sbFiq00YfULS",
        "outputId": "a807cc6f-6db0-4e01-b394-0e8c05ff056e"
      },
      "source": [
        "dir(apple)"
      ],
      "execution_count": 65,
      "outputs": [
        {
          "output_type": "execute_result",
          "data": {
            "text/plain": [
              "['__class__',\n",
              " '__delattr__',\n",
              " '__dict__',\n",
              " '__dir__',\n",
              " '__doc__',\n",
              " '__eq__',\n",
              " '__format__',\n",
              " '__ge__',\n",
              " '__getattribute__',\n",
              " '__gt__',\n",
              " '__hash__',\n",
              " '__init__',\n",
              " '__init_subclass__',\n",
              " '__le__',\n",
              " '__lt__',\n",
              " '__module__',\n",
              " '__ne__',\n",
              " '__new__',\n",
              " '__reduce__',\n",
              " '__reduce_ex__',\n",
              " '__repr__',\n",
              " '__setattr__',\n",
              " '__sizeof__',\n",
              " '__str__',\n",
              " '__subclasshook__',\n",
              " '__weakref__',\n",
              " 'ceo',\n",
              " 'close',\n",
              " 'open',\n",
              " 'print_return',\n",
              " 'rate_return',\n",
              " 'ticker',\n",
              " 'update',\n",
              " 'volume']"
            ]
          },
          "metadata": {
            "tags": []
          },
          "execution_count": 65
        }
      ]
    },
    {
      "cell_type": "markdown",
      "metadata": {
        "id": "SJIfM17sfkUI"
      },
      "source": [
        "###Herencia\n",
        "La herencia es una forma de organizar las clases en una jerarquía desde la más general hasta la más específica. Una clase \"secundaria\" es un tipo más específico de una clase \"principal\" porque una clase secundaria heredará todos los atributos y métodos de su clase principal. Por ejemplo, definimos una clase llamada \"Child\" que hereda \"Stock\":"
      ]
    },
    {
      "cell_type": "code",
      "metadata": {
        "id": "ZN4BVTFAfxza"
      },
      "source": [
        "class Child(Stock):\n",
        "    def __init__(self, name):\n",
        "        self.name = name"
      ],
      "execution_count": 66,
      "outputs": []
    },
    {
      "cell_type": "markdown",
      "metadata": {
        "id": "7xXJL1QFf2yv"
      },
      "source": [
        "Luego creamos un objeto:"
      ]
    },
    {
      "cell_type": "code",
      "metadata": {
        "colab": {
          "base_uri": "https://localhost:8080/"
        },
        "id": "9BThFq3gf4R7",
        "outputId": "6b7c7cb0-7105-4978-de17-0b4c8a436230"
      },
      "source": [
        "aa = Child('AA')\n",
        "print (aa.name)\n",
        "\n",
        "aa.update(100, 102)\n",
        "print (aa.open)\n",
        "\n",
        "print (aa.close)\n",
        "\n",
        "print (aa.print_return())\n"
      ],
      "execution_count": 67,
      "outputs": [
        {
          "output_type": "stream",
          "text": [
            "AA\n",
            "100\n",
            "102\n",
            "0.020000000000000018\n",
            "None\n"
          ],
          "name": "stdout"
        }
      ]
    },
    {
      "cell_type": "markdown",
      "metadata": {
        "id": "jrvHQ47XgRrY"
      },
      "source": [
        "Como se vio anteriormente, la nueva clase Child ha heredado los métodos de Stock.\n",
        "\n",
        "##Resumen\n",
        "En este capítulo hemos introducido funciones y clases. Cuando escribimos un algoritmo de QuantConnect, definiríamos nuestro algoritmo como una clase (QCAlgorithm). Esto significa que nuestro algoritmo heredó los métodos API de QC de la clase QCAlgorithm."
      ]
    }
  ]
}