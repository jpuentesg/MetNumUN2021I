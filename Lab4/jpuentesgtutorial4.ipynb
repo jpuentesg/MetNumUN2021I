{
  "nbformat": 4,
  "nbformat_minor": 0,
  "metadata": {
    "colab": {
      "name": "jpuentesgtutorial4.ipynb",
      "provenance": []
    },
    "kernelspec": {
      "name": "python3",
      "display_name": "Python 3"
    },
    "language_info": {
      "name": "python"
    }
  },
  "cells": [
    {
      "cell_type": "markdown",
      "metadata": {
        "id": "sMFNpqYgjOy4"
      },
      "source": [
        "#Introduction to Financial Python\n",
        "##NumPy and Basic Pandas\n",
        "###Introducción\n",
        "Ahora que hemos introducido los fundamentos de Python, es hora de aprender sobre NumPy y Pandas.\n",
        "\n",
        "###NumPy\n",
        "NumPy es la biblioteca central para la computación científica en Python. Proporciona un objeto de matriz multidimensional de alto rendimiento y herramientas para trabajar con estas matrices. También tiene una fuerte integración con Pandas, que es otra herramienta poderosa para manipular datos financieros.\n",
        "\n",
        "Los paquetes de Python como NumPy y Pandas contienen clases y métodos que podemos usar al importar el paquete:"
      ]
    },
    {
      "cell_type": "code",
      "metadata": {
        "id": "UktFDsX9kAlH"
      },
      "source": [
        "import numpy as np"
      ],
      "execution_count": 1,
      "outputs": []
    },
    {
      "cell_type": "markdown",
      "metadata": {
        "id": "XtGjvwKekGvP"
      },
      "source": [
        "####Matrices básicas de NumPy \n",
        "Una matriz de NumPy es una cuadrícula de valores, todos del mismo tipo, y está indexada por una tupla de enteros no negativos. Aquí hacemos una matriz pasando una lista de precios de acciones de Apple:"
      ]
    },
    {
      "cell_type": "code",
      "metadata": {
        "colab": {
          "base_uri": "https://localhost:8080/"
        },
        "id": "hev9hj9alrhf",
        "outputId": "a94c4614-8bb0-42d4-b861-6f9420f448f1"
      },
      "source": [
        "price_list = [143.73, 145.83, 143.68, 144.02, 143.5, 142.62]\n",
        "price_array = np.array(price_list)\n",
        "print (price_array, type(price_array))"
      ],
      "execution_count": 3,
      "outputs": [
        {
          "output_type": "stream",
          "text": [
            "[143.73 145.83 143.68 144.02 143.5  142.62] <class 'numpy.ndarray'>\n"
          ],
          "name": "stdout"
        }
      ]
    },
    {
      "cell_type": "markdown",
      "metadata": {
        "id": "WHJ9rdizl52u"
      },
      "source": [
        "Observe que el tipo de matriz es \"ndarray\", que es una matriz multidimensional. Si pasamos **np.array ()** una lista de listas, creará una matriz bidimensional."
      ]
    },
    {
      "cell_type": "code",
      "metadata": {
        "colab": {
          "base_uri": "https://localhost:8080/"
        },
        "id": "CMEOTT5hl9xd",
        "outputId": "979ca6d0-1531-4e70-acce-36353a5c795b"
      },
      "source": [
        "Ar = np.array([[1,3], [2,4]])\n",
        "print (Ar, type(Ar))"
      ],
      "execution_count": 5,
      "outputs": [
        {
          "output_type": "stream",
          "text": [
            "[[1 3]\n",
            " [2 4]] <class 'numpy.ndarray'>\n"
          ],
          "name": "stdout"
        }
      ]
    },
    {
      "cell_type": "markdown",
      "metadata": {
        "id": "23r1tbhTmR90"
      },
      "source": [
        "Obtenemos las dimensiones de un ndarray usando el atributo **.shape**:"
      ]
    },
    {
      "cell_type": "code",
      "metadata": {
        "colab": {
          "base_uri": "https://localhost:8080/"
        },
        "id": "_reDqHY2mXqm",
        "outputId": "76e016b1-6ac9-4ee0-f6b5-e2d71da30bd4"
      },
      "source": [
        "print (Ar.shape)"
      ],
      "execution_count": 6,
      "outputs": [
        {
          "output_type": "stream",
          "text": [
            "(2, 2)\n"
          ],
          "name": "stdout"
        }
      ]
    },
    {
      "cell_type": "markdown",
      "metadata": {
        "id": "0Zeo-YMQmoHb"
      },
      "source": [
        "Si creamos una matriz bidimensional (es decir, una matriz), se puede acceder a cada fila por índice:"
      ]
    },
    {
      "cell_type": "code",
      "metadata": {
        "colab": {
          "base_uri": "https://localhost:8080/"
        },
        "id": "hnU80Folm3bU",
        "outputId": "7a889100-258f-49c4-c85a-1841267eca1f"
      },
      "source": [
        "print (Ar[0])\n",
        "print (Ar[1])"
      ],
      "execution_count": 8,
      "outputs": [
        {
          "output_type": "stream",
          "text": [
            "[1 3]\n",
            "[2 4]\n"
          ],
          "name": "stdout"
        }
      ]
    },
    {
      "cell_type": "markdown",
      "metadata": {
        "id": "v0kY7ylRneOG"
      },
      "source": [
        "Si queremos acceder a la matriz por columna en su lugar:"
      ]
    },
    {
      "cell_type": "code",
      "metadata": {
        "colab": {
          "base_uri": "https://localhost:8080/"
        },
        "id": "7QxfcYIunhSb",
        "outputId": "409e0376-fa80-458f-a6bd-900dde82688c"
      },
      "source": [
        "print ('First column:', Ar[:,0])\n",
        "print ('Second column:', Ar[:,1])"
      ],
      "execution_count": 10,
      "outputs": [
        {
          "output_type": "stream",
          "text": [
            "First column: [1 2]\n",
            "Second column: [3 4]\n"
          ],
          "name": "stdout"
        }
      ]
    },
    {
      "cell_type": "markdown",
      "metadata": {
        "id": "5HkEXnh8oQSL"
      },
      "source": [
        "####Funciones de matriz\n",
        "Hay algunas funciones integradas en NumPy que nos permiten realizar cálculos en matrices. Por ejemplo, podemos aplicar el logaritmo natural a cada elemento de una matriz:"
      ]
    },
    {
      "cell_type": "code",
      "metadata": {
        "colab": {
          "base_uri": "https://localhost:8080/"
        },
        "id": "SW50dkx7oaEr",
        "outputId": "84d65126-90a9-4b26-c0ca-607e88bae5d4"
      },
      "source": [
        "np.log(price_array)"
      ],
      "execution_count": 11,
      "outputs": [
        {
          "output_type": "execute_result",
          "data": {
            "text/plain": [
              "array([4.96793654, 4.98244156, 4.9675886 , 4.96995218, 4.96633504,\n",
              "       4.96018375])"
            ]
          },
          "metadata": {
            "tags": []
          },
          "execution_count": 11
        }
      ]
    },
    {
      "cell_type": "markdown",
      "metadata": {
        "id": "HJprswGqolka"
      },
      "source": [
        "Otras funciones devuelven un solo valor:"
      ]
    },
    {
      "cell_type": "code",
      "metadata": {
        "colab": {
          "base_uri": "https://localhost:8080/"
        },
        "id": "H1NXuyyZo2wG",
        "outputId": "0b526bdd-b21b-4722-dfe1-bb36e397fd0a"
      },
      "source": [
        "print (np.mean(price_array))\n",
        "\n",
        "print (np.std(price_array))\n",
        "\n",
        "print (np.sum(price_array))\n",
        "\n",
        "print (np.max(price_array))"
      ],
      "execution_count": 13,
      "outputs": [
        {
          "output_type": "stream",
          "text": [
            "143.89666666666668\n",
            "0.9673790478515796\n",
            "863.38\n",
            "145.83\n"
          ],
          "name": "stdout"
        }
      ]
    },
    {
      "cell_type": "markdown",
      "metadata": {
        "id": "J80mX1rqpRkq"
      },
      "source": [
        "Las funciones anteriores devuelven la media, la desviación estándar, el valor total y máximo de una matriz.\n",
        "\n",
        "###Pandas\n",
        "Pandas es una de las herramientas más poderosas para manejar datos financieros. Primero necesitamos importar Pandas:"
      ]
    },
    {
      "cell_type": "code",
      "metadata": {
        "id": "yIPthKCdpYoS"
      },
      "source": [
        "import pandas as pd"
      ],
      "execution_count": 14,
      "outputs": []
    },
    {
      "cell_type": "markdown",
      "metadata": {
        "id": "iSScOi6gphEr"
      },
      "source": [
        "Serie\n",
        "La serie es una matriz etiquetada unidimensional capaz de contener cualquier tipo de datos (enteros, cadenas, flotante, objeto de Python, etc.)\n",
        "\n",
        "Creamos una serie llamando a **pd.Series (data)**, donde los datos pueden ser un diccionario, una matriz o simplemente un valor escalar."
      ]
    },
    {
      "cell_type": "code",
      "metadata": {
        "colab": {
          "base_uri": "https://localhost:8080/"
        },
        "id": "WGM3-JcUpoEC",
        "outputId": "1553aeb4-5272-4923-d508-a0a3d2cc0e30"
      },
      "source": [
        "price = [143.73, 145.83, 143.68, 144.02, 143.5, 142.62]\n",
        "s = pd.Series(price)\n",
        "print (s)"
      ],
      "execution_count": 15,
      "outputs": [
        {
          "output_type": "stream",
          "text": [
            "0    143.73\n",
            "1    145.83\n",
            "2    143.68\n",
            "3    144.02\n",
            "4    143.50\n",
            "5    142.62\n",
            "dtype: float64\n"
          ],
          "name": "stdout"
        }
      ]
    },
    {
      "cell_type": "markdown",
      "metadata": {
        "id": "JlZfxff-pwo5"
      },
      "source": [
        "Podemos personalizar los índices de una nueva Serie:"
      ]
    },
    {
      "cell_type": "code",
      "metadata": {
        "colab": {
          "base_uri": "https://localhost:8080/"
        },
        "id": "biyaM6dlp0CC",
        "outputId": "c704facc-c1bb-4aba-bfeb-03fc690eb666"
      },
      "source": [
        "s = pd.Series(price, index = ['a', 'b', 'c', 'd', 'e', 'f'])\n",
        "print (s)"
      ],
      "execution_count": 16,
      "outputs": [
        {
          "output_type": "stream",
          "text": [
            "a    143.73\n",
            "b    145.83\n",
            "c    143.68\n",
            "d    144.02\n",
            "e    143.50\n",
            "f    142.62\n",
            "dtype: float64\n"
          ],
          "name": "stdout"
        }
      ]
    },
    {
      "cell_type": "markdown",
      "metadata": {
        "id": "mSYRQ21fp6pf"
      },
      "source": [
        "O podemos cambiar los índices de una Serie existente:"
      ]
    },
    {
      "cell_type": "code",
      "metadata": {
        "colab": {
          "base_uri": "https://localhost:8080/"
        },
        "id": "l-m_M_B6p85i",
        "outputId": "d866d7a3-dd8b-47fb-c46f-445a5daf395f"
      },
      "source": [
        "s.index = [6,5,4,3,2,1]\n",
        "print (s)"
      ],
      "execution_count": 17,
      "outputs": [
        {
          "output_type": "stream",
          "text": [
            "6    143.73\n",
            "5    145.83\n",
            "4    143.68\n",
            "3    144.02\n",
            "2    143.50\n",
            "1    142.62\n",
            "dtype: float64\n"
          ],
          "name": "stdout"
        }
      ]
    },
    {
      "cell_type": "markdown",
      "metadata": {
        "id": "3AMjflEAqHVj"
      },
      "source": [
        "La serie es como una lista, ya que se puede dividir por índice:"
      ]
    },
    {
      "cell_type": "code",
      "metadata": {
        "colab": {
          "base_uri": "https://localhost:8080/"
        },
        "id": "3YpUTNyKqJ46",
        "outputId": "160c943e-0e03-44c1-c84a-cf0417e82e72"
      },
      "source": [
        "print (s[1:])\n",
        "print (s[:-2])"
      ],
      "execution_count": 18,
      "outputs": [
        {
          "output_type": "stream",
          "text": [
            "5    145.83\n",
            "4    143.68\n",
            "3    144.02\n",
            "2    143.50\n",
            "1    142.62\n",
            "dtype: float64\n",
            "6    143.73\n",
            "5    145.83\n",
            "4    143.68\n",
            "3    144.02\n",
            "dtype: float64\n"
          ],
          "name": "stdout"
        }
      ]
    },
    {
      "cell_type": "markdown",
      "metadata": {
        "id": "jEufFRM6qRFq"
      },
      "source": [
        "La serie también es como un diccionario cuyos valores se pueden establecer o recuperar por etiqueta de índice:\n"
      ]
    },
    {
      "cell_type": "code",
      "metadata": {
        "colab": {
          "base_uri": "https://localhost:8080/"
        },
        "id": "QN-Ctak1qY8K",
        "outputId": "08ba082f-97c9-4590-8200-41ebca0ac697"
      },
      "source": [
        "print (s[4])\n",
        "s[4] = 0\n",
        "print (s)"
      ],
      "execution_count": 19,
      "outputs": [
        {
          "output_type": "stream",
          "text": [
            "143.68\n",
            "6    143.73\n",
            "5    145.83\n",
            "4      0.00\n",
            "3    144.02\n",
            "2    143.50\n",
            "1    142.62\n",
            "dtype: float64\n"
          ],
          "name": "stdout"
        }
      ]
    },
    {
      "cell_type": "markdown",
      "metadata": {
        "id": "ThV6OZ0oqkiq"
      },
      "source": [
        "La serie también puede tener un atributo de nombre, que se utilizará cuando creemos un Pandas DataFrame utilizando varias series."
      ]
    },
    {
      "cell_type": "code",
      "metadata": {
        "colab": {
          "base_uri": "https://localhost:8080/"
        },
        "id": "wuJ9irhfqnOL",
        "outputId": "cef1d0a5-ba3c-4ff8-9ec4-4a7e4ee5a790"
      },
      "source": [
        "s = pd.Series(price, name = 'Apple Prices')\n",
        "print (s)\n",
        "print (s.name)"
      ],
      "execution_count": 20,
      "outputs": [
        {
          "output_type": "stream",
          "text": [
            "0    143.73\n",
            "1    145.83\n",
            "2    143.68\n",
            "3    144.02\n",
            "4    143.50\n",
            "5    142.62\n",
            "Name: Apple Prices, dtype: float64\n",
            "Apple Prices\n"
          ],
          "name": "stdout"
        }
      ]
    },
    {
      "cell_type": "markdown",
      "metadata": {
        "id": "zumtd6PPq7Jl"
      },
      "source": [
        "Podemos obtener los resúmenes estadísticos de una Serie:"
      ]
    },
    {
      "cell_type": "code",
      "metadata": {
        "colab": {
          "base_uri": "https://localhost:8080/"
        },
        "id": "vEeFqiJLq9M6",
        "outputId": "3b3b3e7a-002c-48a6-a910-92980a73ad17"
      },
      "source": [
        "print (s.describe())"
      ],
      "execution_count": 22,
      "outputs": [
        {
          "output_type": "stream",
          "text": [
            "count      6.000000\n",
            "mean     143.896667\n",
            "std        1.059711\n",
            "min      142.620000\n",
            "25%      143.545000\n",
            "50%      143.705000\n",
            "75%      143.947500\n",
            "max      145.830000\n",
            "Name: Apple Prices, dtype: float64\n"
          ],
          "name": "stdout"
        }
      ]
    },
    {
      "cell_type": "markdown",
      "metadata": {
        "id": "Z7KtkoaPrGiy"
      },
      "source": [
        "####Índice de tiempo\n",
        "Pandas tiene una función incorporada específicamente para crear índices de fecha: **pd.date_range ()**. Lo usamos para crear un nuevo índice para nuestra Serie:"
      ]
    },
    {
      "cell_type": "code",
      "metadata": {
        "colab": {
          "base_uri": "https://localhost:8080/"
        },
        "id": "BSEw5g0TrbQB",
        "outputId": "3ac2fe53-9ae4-4b19-a815-9cc66d967f47"
      },
      "source": [
        "time_index = pd.date_range('2017-01-01', periods = len(s), freq = 'D')\n",
        "print (time_index)\n",
        "s.index = time_index\n",
        "print (s)"
      ],
      "execution_count": 23,
      "outputs": [
        {
          "output_type": "stream",
          "text": [
            "DatetimeIndex(['2017-01-01', '2017-01-02', '2017-01-03', '2017-01-04',\n",
            "               '2017-01-05', '2017-01-06'],\n",
            "              dtype='datetime64[ns]', freq='D')\n",
            "2017-01-01    143.73\n",
            "2017-01-02    145.83\n",
            "2017-01-03    143.68\n",
            "2017-01-04    144.02\n",
            "2017-01-05    143.50\n",
            "2017-01-06    142.62\n",
            "Freq: D, Name: Apple Prices, dtype: float64\n"
          ],
          "name": "stdout"
        }
      ]
    },
    {
      "cell_type": "markdown",
      "metadata": {
        "id": "EtFaA9DZr4Vx"
      },
      "source": [
        "Por lo general, se accede a las series mediante los métodos **iloc [ ]** y **loc [ ]**. **iloc [ ]** se usa para acceder a elementos por índice entero, y **loc [ ]** se usa para acceder al índice de la serie.\n",
        "\n",
        "**iloc [ ]** es necesario cuando el índice de una serie son números enteros, tome nuestra serie definida anterior como ejemplo:"
      ]
    },
    {
      "cell_type": "code",
      "metadata": {
        "colab": {
          "base_uri": "https://localhost:8080/"
        },
        "id": "VxLe_n9ZsECc",
        "outputId": "eaee0993-5665-4a4c-8b4f-8b9fc4ebe2c9"
      },
      "source": [
        "s.index = [6,5,4,3,2,1]\n",
        "print (s)\n",
        "print (s[1])"
      ],
      "execution_count": 24,
      "outputs": [
        {
          "output_type": "stream",
          "text": [
            "6    143.73\n",
            "5    145.83\n",
            "4    143.68\n",
            "3    144.02\n",
            "2    143.50\n",
            "1    142.62\n",
            "Name: Apple Prices, dtype: float64\n",
            "142.62\n"
          ],
          "name": "stdout"
        }
      ]
    },
    {
      "cell_type": "markdown",
      "metadata": {
        "id": "JyV3NEImsWWh"
      },
      "source": [
        "Si tuviéramos la intención de tomar el segundo elemento de la serie, cometeríamos un error aquí, porque los índices son números enteros. Para acceder al elemento que queremos, usamos **iloc [ ]** aquí:"
      ]
    },
    {
      "cell_type": "code",
      "metadata": {
        "colab": {
          "base_uri": "https://localhost:8080/"
        },
        "id": "cDUNrtE3sZyl",
        "outputId": "d8a36e7f-9f3f-4904-cb1d-f8c6ca69b31e"
      },
      "source": [
        "print (s.iloc[1])"
      ],
      "execution_count": 25,
      "outputs": [
        {
          "output_type": "stream",
          "text": [
            "145.83\n"
          ],
          "name": "stdout"
        }
      ]
    },
    {
      "cell_type": "markdown",
      "metadata": {
        "id": "TYROVmfBsrJJ"
      },
      "source": [
        "Al trabajar con datos de series de tiempo, a menudo usamos el tiempo como índice. Pandas nos proporciona varios métodos para acceder a los datos por índice de tiempo."
      ]
    },
    {
      "cell_type": "code",
      "metadata": {
        "colab": {
          "base_uri": "https://localhost:8080/"
        },
        "id": "TF_3YmjVs4Op",
        "outputId": "87bfadd2-3cad-4c43-de2c-c65781cb1713"
      },
      "source": [
        "s.index = time_index\n",
        "print (s['2017-01-03'])"
      ],
      "execution_count": 26,
      "outputs": [
        {
          "output_type": "stream",
          "text": [
            "143.68\n"
          ],
          "name": "stdout"
        }
      ]
    },
    {
      "cell_type": "markdown",
      "metadata": {
        "id": "ihMeWC0es-zJ"
      },
      "source": [
        "Incluso podemos acceder a un rango de fechas:"
      ]
    },
    {
      "cell_type": "code",
      "metadata": {
        "colab": {
          "base_uri": "https://localhost:8080/"
        },
        "id": "wkzckrQPtBhh",
        "outputId": "fad0f747-03dc-478f-dc5f-7231ee5c7c7f"
      },
      "source": [
        "print (s['2017-01-02':'2017-01-05'])"
      ],
      "execution_count": 27,
      "outputs": [
        {
          "output_type": "stream",
          "text": [
            "2017-01-02    145.83\n",
            "2017-01-03    143.68\n",
            "2017-01-04    144.02\n",
            "2017-01-05    143.50\n",
            "Freq: D, Name: Apple Prices, dtype: float64\n"
          ],
          "name": "stdout"
        }
      ]
    },
    {
      "cell_type": "markdown",
      "metadata": {
        "id": "jn6_cNvvtPyJ"
      },
      "source": [
        "**Series [ ]** nos proporciona una forma muy flexible de indexar datos. Podemos agregar cualquier condición entre corchetes:"
      ]
    },
    {
      "cell_type": "code",
      "metadata": {
        "colab": {
          "base_uri": "https://localhost:8080/"
        },
        "id": "dMyHn1eBthwj",
        "outputId": "aa854221-c72a-4445-a04c-4888149ca88d"
      },
      "source": [
        "print (s[s < np.mean(s)])\n",
        "print (s[(s > np.mean(s)) & (s < np.mean(s) + 1.64*np.std(s))])"
      ],
      "execution_count": 28,
      "outputs": [
        {
          "output_type": "stream",
          "text": [
            "2017-01-01    143.73\n",
            "2017-01-03    143.68\n",
            "2017-01-05    143.50\n",
            "2017-01-06    142.62\n",
            "Name: Apple Prices, dtype: float64\n",
            "2017-01-04    144.02\n",
            "Freq: D, Name: Apple Prices, dtype: float64\n"
          ],
          "name": "stdout"
        }
      ]
    },
    {
      "cell_type": "markdown",
      "metadata": {
        "id": "N6SK-ipquS7k"
      },
      "source": [
        "Como se demostró, podemos usar operadores lógicos como & (y), | (o) y ~ (no) para agrupar varias condiciones.\n",
        "\n",
        "###Resumen\n",
        "Aquí presentamos NumPy y Pandas para la computación científica en Python. En el próximo capítulo, nos sumergiremos en Pandas para aprender a remuestrear y manipular Pandas DataFrame, que se usan comúnmente en el análisis de datos financieros."
      ]
    }
  ]
}