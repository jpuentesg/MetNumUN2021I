{
  "nbformat": 4,
  "nbformat_minor": 0,
  "metadata": {
    "colab": {
      "name": "jpuentesgtutorial6.ipynb",
      "provenance": [],
      "collapsed_sections": []
    },
    "kernelspec": {
      "name": "python3",
      "display_name": "Python 3"
    },
    "language_info": {
      "name": "python"
    }
  },
  "cells": [
    {
      "cell_type": "markdown",
      "metadata": {
        "id": "GMEPKve2Ypqx"
      },
      "source": [
        "#Introduction to Financial Python\n",
        "##Rate of Return, Mean and Variance\n",
        "###Introducción\n",
        "En este capítulo vamos a introducir algunos conceptos básicos en finanzas cuantitativas. Comenzamos con la tasa de rendimiento, la media y la varianza. Puede pensar que es sencillo calcular estos valores, sin embargo, existen varios métodos diferentes para calcularlos. Es importante elegir los métodos de cálculo adecuados caso por caso.\n",
        "\n",
        "###Tasa de rendimiento\n",
        "####Rendimiento de un solo período\n",
        "La tasa de rendimiento de un solo período se puede calcular de la siguiente manera:\n",
        "\n",
        "$$ r=\\frac{p_t}{p_0} -1=\\frac{p_t-p_0}{p_0}$$\n",
        "\n",
        "\n",
        "Donde $r$ es la tasa de rendimiento, $p_t$ es el precio del activo en el momento $t$ y $p_0$ es el precio del activo en el momento 0."
      ]
    },
    {
      "cell_type": "code",
      "metadata": {
        "colab": {
          "base_uri": "https://localhost:8080/"
        },
        "id": "CXXlv75dYi2J",
        "outputId": "23d40acf-2e98-4868-aa76-866411311e9e"
      },
      "source": [
        "import numpy as np\n",
        "rate_return = 102.0/100 - 1\n",
        "print (rate_return)\n"
      ],
      "execution_count": null,
      "outputs": [
        {
          "output_type": "stream",
          "text": [
            "0.020000000000000018\n"
          ],
          "name": "stdout"
        }
      ]
    },
    {
      "cell_type": "markdown",
      "metadata": {
        "id": "oM4qkfbGbBQ3"
      },
      "source": [
        "Digamos que compramos una acción 100 USD y medio año después crecerá a 102 USD. Un año después, el precio llegará a 104 dólares. ¿Cómo calcular nuestra rentabilidad total? Bueno, podemos considerarlo como un período único:  \n",
        "\n",
        "$$ \\ r=104/100-1=0.04$$\n",
        "\n",
        "o como un período de dos etapas:\n",
        "\n",
        "$$r = (1+r1)\\ast(1+r2)-1=\\frac{102}{100}\\ast\\frac{104}{102}-1=0.04$$\n",
        "\n",
        "Aquí hacemos cálculos dos veces al año. Se llama capitalización semestral. ¿Qué tal la capitalización trimestral? Supongamos que los precios de las acciones al final de cada trimestre son $p1, p2, p3, p4$ respectivamente.\n",
        "\n",
        "$$r=(1+r1)\\ast(1+r2)\\ast(1+r3)\\ast(1+r4)-1$$\n",
        "\n",
        "La tasa de rendimiento que calculamos aquí se llama rendimiento acumulado o rendimiento total. Mide el rendimiento total de este activo durante un período de tiempo.\n",
        "\n",
        "Ahora considere la siguiente situación: tenemos dos estrategias: la estrategia A y la estrategia B. Probamos la estrategia A durante 1 año y el rendimiento acumulado es del 20%, mientras que probamos la estrategia B durante 3 meses (un trimestre) y el rendimiento acumulado es 6 %. ¿Qué estrategia tiene una alta tasa de rendimiento? Nuestro método comúnmente utilizado es convertir todos los rendimientos en rendimiento anual compuesto, independientemente del horizonte de inversión de cada estrategia. Ahora podemos comparar los rendimientos de las estrategias con diferentes horizontes temporales. Dado que hay cuatro trimestres en un año, el rendimiento anual de la estrategia B es:\n",
        "\n",
        "$$(1+0.06)^4=1+r$$\n",
        ".\n",
        "$$r=0.262$$\n",
        "\n",
        "La estrategia B tiene un rendimiento anual compuesto más alto cuando comparamos el 26% con el 20%.\n",
        "\n",
        "####Rendimiento logarítmico\n",
        "En el ejemplo anterior, la estrategia A tiene un rendimiento del 6% durante tres meses. Nominalmente, el rendimiento anual sería 4 * 6% = 24%. Esta tasa de interés anual nominal se denomina tasa de interés anual establecida. Se calcula como la tasa de interés periódica multiplicada por el número de períodos por año. Funciona de acuerdo con el interés simple y no toma en cuenta los períodos de capitalización, mientras que la tasa de interés anual efectiva es del 26% como calculamos anteriormente y sí considera la capitalización intra-anual. La tasa de interés anual efectiva es una herramienta fundamental que permite evaluar el retorno real de la inversión. Si asumimos que el número de períodos de capitalización en un año es n, la fórmula para convertir la tasa de interés anual establecida en la tasa de interés anual efectiva es:\n",
        "\n",
        "$$r_{effective}=\\left(1+\\frac{r_{nominal}}{n}\\right)^n-1$$\n",
        "\n",
        "Ahora imagine que el precio del activo cambia cada segundo o incluso cada milisegundo, el período de capitalización n se acerca al infinito. A esto se le llama capitalización continua. La fórmula de cálculo se da a continuación:\n",
        "\n",
        "$$\\lim_{n \\to \\infty} \\left(1+\\frac{r}{n}\\right)^n=e^n$$\n",
        "\n",
        "De la ecuación de limitación anterior, sabemos que si asumimos una composición continua:\n",
        "\n",
        "$$e^{r_{nominal}}=1+r_{effective}=\\frac{p_t}{p_0}$$\n",
        "\n",
        "Luego tomamos $ln$ en ambos lados de la ecuación:\n",
        "\n",
        "$$r_{nominal}=ln\\left(\\frac{p_t}{p_0}\\right)=ln(p_t)-ln(p_0)$$\n",
        "\n",
        "Aquí tenemos el retorno logarítmico, o retorno compuesto continuamente. Este rendimiento es el rendimiento nominal con el interés compuesto cada milisegundo. Para ver cómo se acerca a la tasa de interés efectiva, recuerde la ecuación anterior:\n",
        "\n",
        "$$e^{r_{nominal}}=1+r_{effective}$$\n",
        "\n",
        "entonces tenemos:\n",
        "\n",
        "$$r_{effective}=e^{r_{nominal}}-1\\approx r_{nominal}$$\n",
        "\n",
        "donde la segunda igualdad se mantiene debido a la expansión de Taylor y la tasa de interés es pequeña. Esto se usa con frecuencia al calcular los rendimientos, porque una vez que tomamos el logaritmo de los precios de los activos, podemos calcular el rendimiento logarítmico simplemente haciendo una resta. Aquí usamos los precios de las acciones de Apple como ejemplo:\n"
      ]
    },
    {
      "cell_type": "code",
      "metadata": {
        "colab": {
          "base_uri": "https://localhost:8080/"
        },
        "id": "CxFKPnXhiNTz",
        "outputId": "6e29c151-bca1-4b59-f350-3b426d394380"
      },
      "source": [
        "!pip install quandl\n",
        "import quandl\n",
        "import numpy as np\n",
        "import quandl\n",
        "quandl.ApiConfig.api_key = 'grHAcMmas1Y5FAqBo5sT'\n",
        "#get quandl data\n",
        "aapl_table = quandl.get('WIKI/AAPL')\n",
        "aapl = aapl_table.loc['2017-3',['Open','Close']]\n",
        "#take log return\n",
        "aapl['log_price'] = np.log(aapl.Close)\n",
        "aapl['log_return'] = aapl['log_price'].diff()\n",
        "print (aapl)"
      ],
      "execution_count": null,
      "outputs": [
        {
          "output_type": "stream",
          "text": [
            "Collecting quandl\n",
            "  Downloading https://files.pythonhosted.org/packages/8b/2b/feefb36015beaecc5c0f9f2533e815b409621d9fa7b50b2aac621796f828/Quandl-3.6.1-py2.py3-none-any.whl\n",
            "Requirement already satisfied: numpy>=1.8 in /usr/local/lib/python3.7/dist-packages (from quandl) (1.19.5)\n",
            "Requirement already satisfied: more-itertools in /usr/local/lib/python3.7/dist-packages (from quandl) (8.7.0)\n",
            "Requirement already satisfied: requests>=2.7.0 in /usr/local/lib/python3.7/dist-packages (from quandl) (2.23.0)\n",
            "Requirement already satisfied: python-dateutil in /usr/local/lib/python3.7/dist-packages (from quandl) (2.8.1)\n",
            "Requirement already satisfied: pandas>=0.14 in /usr/local/lib/python3.7/dist-packages (from quandl) (1.1.5)\n",
            "Collecting inflection>=0.3.1\n",
            "  Downloading https://files.pythonhosted.org/packages/59/91/aa6bde563e0085a02a435aa99b49ef75b0a4b062635e606dab23ce18d720/inflection-0.5.1-py2.py3-none-any.whl\n",
            "Requirement already satisfied: six in /usr/local/lib/python3.7/dist-packages (from quandl) (1.15.0)\n",
            "Requirement already satisfied: certifi>=2017.4.17 in /usr/local/lib/python3.7/dist-packages (from requests>=2.7.0->quandl) (2020.12.5)\n",
            "Requirement already satisfied: idna<3,>=2.5 in /usr/local/lib/python3.7/dist-packages (from requests>=2.7.0->quandl) (2.10)\n",
            "Requirement already satisfied: urllib3!=1.25.0,!=1.25.1,<1.26,>=1.21.1 in /usr/local/lib/python3.7/dist-packages (from requests>=2.7.0->quandl) (1.24.3)\n",
            "Requirement already satisfied: chardet<4,>=3.0.2 in /usr/local/lib/python3.7/dist-packages (from requests>=2.7.0->quandl) (3.0.4)\n",
            "Requirement already satisfied: pytz>=2017.2 in /usr/local/lib/python3.7/dist-packages (from pandas>=0.14->quandl) (2018.9)\n",
            "Installing collected packages: inflection, quandl\n",
            "Successfully installed inflection-0.5.1 quandl-3.6.1\n",
            "               Open   Close  log_price  log_return\n",
            "Date                                              \n",
            "2017-03-01  137.890  139.79   4.940141         NaN\n",
            "2017-03-02  140.000  138.96   4.934186   -0.005955\n",
            "2017-03-03  138.780  139.78   4.940070    0.005884\n",
            "2017-03-06  139.365  139.34   4.936917   -0.003153\n",
            "2017-03-07  139.060  139.52   4.938208    0.001291\n",
            "2017-03-08  138.950  139.00   4.934474   -0.003734\n",
            "2017-03-09  138.740  138.68   4.932169   -0.002305\n",
            "2017-03-10  139.250  139.14   4.935481    0.003311\n",
            "2017-03-13  138.850  139.20   4.935912    0.000431\n",
            "2017-03-14  139.300  138.99   4.934402   -0.001510\n",
            "2017-03-15  139.410  140.46   4.944923    0.010521\n",
            "2017-03-16  140.720  140.69   4.946559    0.001636\n",
            "2017-03-17  141.000  139.99   4.941571   -0.004988\n",
            "2017-03-20  140.400  141.46   4.952017    0.010446\n",
            "2017-03-21  142.110  139.84   4.940499   -0.011518\n",
            "2017-03-22  139.845  141.42   4.951734    0.011235\n",
            "2017-03-23  141.260  140.92   4.948192   -0.003542\n",
            "2017-03-24  141.500  140.64   4.946203   -0.001989\n",
            "2017-03-27  139.390  140.88   4.947908    0.001705\n",
            "2017-03-28  140.910  143.80   4.968423    0.020515\n",
            "2017-03-29  143.680  144.12   4.970646    0.002223\n",
            "2017-03-30  144.190  143.93   4.969327   -0.001319\n",
            "2017-03-31  143.720  143.66   4.967449   -0.001878\n"
          ],
          "name": "stdout"
        }
      ]
    },
    {
      "cell_type": "markdown",
      "metadata": {
        "id": "_g0FLopVipKN"
      },
      "source": [
        "Aquí calculamos el rendimiento logarítmico diario de las acciones de Apple. Dado que conocemos el rendimiento del logaritmo diario de en este mes, podemos calcular el rendimiento mensual simplemente sumando todos los rendimientos diarios."
      ]
    },
    {
      "cell_type": "code",
      "metadata": {
        "colab": {
          "base_uri": "https://localhost:8080/"
        },
        "id": "I5sOWb1nbAtF",
        "outputId": "6ff9043e-3192-4438-b1a3-760cfc44dd29"
      },
      "source": [
        "month_return = aapl.log_return.sum()\n",
        "print (month_return)"
      ],
      "execution_count": null,
      "outputs": [
        {
          "output_type": "stream",
          "text": [
            "0.0273081001636184\n"
          ],
          "name": "stdout"
        }
      ]
    },
    {
      "cell_type": "markdown",
      "metadata": {
        "id": "ZVCZYIN-iy9B"
      },
      "source": [
        "Puede parecer incorrecto resumir los rendimientos diarios, pero podemos demostrar que es matemáticamente correcto. Supongamos que los precios de las acciones en un período de tiempo están representados por [$p_0, p_1, p_2, p_3 ..... p_n$]. Entonces, la tasa de rendimiento acumulada viene dada por:\n",
        "\n",
        "$$1+r_{effective}\\approx 1+r_{nominal}=ln\\left(\\frac{p_t}{p_0}\\right)=ln\\left(\\frac{p_t}{p_{t-1}}\\right)+ln\\left(\\frac{p_{t-1}}{p_{t-2}}\\right)+ ..... +ln\\left(\\frac{p_1}{p_0}\\right)$$\n",
        "\n",
        "De acuerdo con la ecuación anterior, podemos sumar simplemente cada retorno logarítmico en un período para obtener el retorno acumulativo. La conveniencia de este método es también una de las razones por las que utilizamos el rendimiento logarítmico en las finanzas cuantitativas.\n",
        "###Media\n",
        "####Media aritmética\n",
        "La media es una medida de la tendencia central de una serie de datos. Captura el carácter clave de la distribución de la serie de datos. Cuando hablamos de media, por defecto se refiere a media aritmética. Se define como la suma de los valores dividida por el número de observaciones:\n",
        "\n",
        "$$\\mu=\\frac{\\sum_{i=1}^{n}x_{i}}{n} $$\n",
        "\n",
        "Donde ($x_1, x_2, x_3 ... x_n$) es nuestra serie de datos.\n",
        "\n",
        "En Python podemos usar **NumPy.mean ()** para hacer el cálculo:\n"
      ]
    },
    {
      "cell_type": "code",
      "metadata": {
        "colab": {
          "base_uri": "https://localhost:8080/"
        },
        "id": "46gnsGnklGgU",
        "outputId": "631ff9df-b39f-40ae-8fe3-987b3d911974"
      },
      "source": [
        "print (np.mean(aapl.log_price))"
      ],
      "execution_count": null,
      "outputs": [
        {
          "output_type": "stream",
          "text": [
            "4.94597446550658\n"
          ],
          "name": "stdout"
        }
      ]
    },
    {
      "cell_type": "markdown",
      "metadata": {
        "id": "f_-KOpRulQOU"
      },
      "source": [
        "####Media geométrica\n",
        "La media geométrica es un promedio que es útil para series de datos de números positivos que se interpretan mejor según su producto, como la tasa de crecimiento. Se calcula por:\n",
        "\n",
        "$$\\bar{x}=\\sqrt[n]{x_1\\ast x_2\\ast x_3\\ast ...\\ast x_n}$$\n",
        "\n",
        "Calculemos la media geométrica de una serie de rendimiento de un solo período:\n",
        "\n",
        "$$1+\\bar{r}=\\sqrt[t]{\\frac{p_t}{p_{t−1}}\\ast \\frac{p_{t−1}}{p_{t−2}}\\ast ...\\ast \\frac{p_2}{p_1}\\ast \\frac{p_1}{p_0}}$$\n",
        "\n",
        "$$1+\\bar{r}=\\sqrt[t]{\\frac{p_t}{p_0}}$$\n",
        "\n",
        "Ahora la ecuación se convierte en la forma con la que estamos familiarizados:\n",
        "$$(1+\\bar{r})^t=\\frac{p_t}{p_0}$$\n",
        "\n",
        "Por eso dijimos que tiene sentido cuando se aplica a las tasas de crecimiento.\n",
        "###Varianza y desviación estándar\n",
        "####Varianza\n",
        "La varianza es una medida de dispersión. En finanzas, la mayoría de las veces, la variación es sinónimo de riesgo. Cuanto mayor sea la variación del precio de un activo, mayor riesgo asume el activo. La varianza generalmente se representa mediante $\\sigma^2$ y se calcula con la ecuación:\n",
        "\n",
        "$$\\sigma^2=\\frac{\\sum_{i=1}^{n}(x_i-\\mu)^2}{n}$$\n",
        "\n",
        "En python podemos usar **NumPy.var** para calcularlo:\n",
        "\n",
        "\n",
        "\n"
      ]
    },
    {
      "cell_type": "code",
      "metadata": {
        "colab": {
          "base_uri": "https://localhost:8080/"
        },
        "id": "od86FInapu1Y",
        "outputId": "def4fe24-ba82-4d06-8660-b9e2e50f4eb4"
      },
      "source": [
        "print (np.var(aapl.log_price))"
      ],
      "execution_count": null,
      "outputs": [
        {
          "output_type": "stream",
          "text": [
            "0.00014203280448152512\n"
          ],
          "name": "stdout"
        }
      ]
    },
    {
      "cell_type": "markdown",
      "metadata": {
        "id": "vZt35eW2qMRh"
      },
      "source": [
        "####Desviación Estándar\n",
        "La medida de dispersión más utilizada en las finanzas es la desviación estándar. Suele estar representado por $\\sigma$. Es obvio ver la relación entre la desviación estándar y la varianza:\n",
        "\n",
        "$$\\sigma=\\sqrt{\\sigma^2}=\\sqrt{\\frac{\\sum_{i=1}^{n}(x_i-\\mu)^2}{n}}$$\n",
        "\n",
        "NumPy también nos proporciona un método para calcular la desviación estándar."
      ]
    },
    {
      "cell_type": "code",
      "metadata": {
        "colab": {
          "base_uri": "https://localhost:8080/"
        },
        "id": "IpnrlZE3qmAJ",
        "outputId": "eb718f70-735d-4d51-cc24-1973ea9bff2d"
      },
      "source": [
        "print (np.std(aapl.log_price))"
      ],
      "execution_count": null,
      "outputs": [
        {
          "output_type": "stream",
          "text": [
            "0.011917751653794651\n"
          ],
          "name": "stdout"
        }
      ]
    },
    {
      "cell_type": "markdown",
      "metadata": {
        "id": "MIhgdIdKrFSZ"
      },
      "source": [
        "###Resumen\n",
        "En este capítulo presentamos diferentes tipos de tasa de rendimiento, que podrían ser un poco complicados cuando los calculamos. La media y la desviación estándar también son conceptos muy importantes cuando realizamos pruebas de hipótesis o medimos el riesgo asociado con un activo."
      ]
    }
  ]
}