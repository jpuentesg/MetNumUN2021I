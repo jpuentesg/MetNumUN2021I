{
  "nbformat": 4,
  "nbformat_minor": 0,
  "metadata": {
    "colab": {
      "name": "gapuentesrTaylorSeriesInPython.ipynb",
      "provenance": [],
      "collapsed_sections": [
        "AACovoe4EFaG"
      ]
    },
    "kernelspec": {
      "name": "python3",
      "display_name": "Python 3"
    },
    "language_info": {
      "name": "python"
    }
  },
  "cells": [
    {
      "cell_type": "markdown",
      "metadata": {
        "id": "cLUYfTYAHVrE"
      },
      "source": [
        "#Laboratorio 9 - Taylor series in Python\n",
        "##Métodos Numéricos\n",
        " * Julián David Puentes Gil\n",
        " * Gustavo Alberto Puentes Romero"
      ]
    },
    {
      "cell_type": "markdown",
      "metadata": {
        "id": "yj3HreBeygos"
      },
      "source": [
        "# Series de Taylor en Python"
      ]
    },
    {
      "cell_type": "markdown",
      "metadata": {
        "id": "aoKvEXmRyqGJ"
      },
      "source": [
        "![Serie Taylor en Python](https://pythonforundergradengineers.com/posts/functions/images/taylor.png)"
      ]
    },
    {
      "cell_type": "markdown",
      "metadata": {
        "id": "hobLPCimywzU"
      },
      "source": [
        "En esta publicación, revisaremos cómo crear una serie Taylor con Python y bucles for. Luego, refactorizaremos la serie de Taylor en funciones y compararemos la salida de nuestras funciones de la serie de Taylor con funciones de la biblioteca estándar de Python.\n",
        "\n",
        "Una serie de Taylor es una serie infinita de términos matemáticos que, cuando se suman, se aproximan a una función matemática. Se puede utilizar una serie de Taylor para aproximar **$e^{x}$** y **coseno**.\n",
        "\n",
        "Un ejemplo de una serie de Taylor que se aproxima a **$e^{x}$** esta abajo.\n",
        "\n",
        "\n",
        "$$ e^x\\approx \\sum _{n=0}^{\\infty }\\left(\\frac{x^n}{n!}\\right)\\approx 1+x+\\frac{x^2}{2!}+\\frac{x^3}{3!}+\\frac{x^4}{4!}+\\cdot \\cdot \\cdot \\cdot $$"
      ]
    },
    {
      "cell_type": "markdown",
      "metadata": {
        "id": "1nNj-QtqzrXv"
      },
      "source": [
        "Podemos ver que cada término en la expansión de la serie Taylor depende del lugar de ese término en la serie. A continuación se muestra una tabla que muestra cada término de la serie Taylor en una fila. Las columnas de la tabla representan el índice del término, el término matemático y cómo codificar ese término en Python. Tenga en cuenta que la funcion ***factorial()*** es parte del módulo ***math*** en la biblioteca estándar de Python.\n",
        "\n",
        "\n",
        "$$\\begin{array}{ccc}\\acute{I}ndice\\:de\\:t\\acute{e}rmino&T\\acute{e}rmino\\:matem\\acute{a}tico&T\\acute{e}rmino\\:en\\:Python \\\\\n",
        "0 & x^0/0! & x**0/math.factorial(0)               \\\\\n",
        "1 & x^1/1! & x**1/math.factorial(1)              \\\\\n",
        "2 & x^2/2! & x**2/math.factorial(2)              \\\\\n",
        "3 & x^3/3! & x**3/math.factorial(3)              \\\\\n",
        "4 & x^4/4! & x**4/math.factorial(4)\n",
        "\\end{array}$$\n"
      ]
    },
    {
      "cell_type": "markdown",
      "metadata": {
        "id": "LSSluG2H29bZ"
      },
      "source": [
        "# Codifique la serie de Taylor escribiendo cada término individualmente \n",
        "\n",
        "Podemos combinar estos términos en una línea de código Python para estimar **$e^2$**. El siguiente código calcula la suma de los primeros cinco términos de la expansión de la serie Taylor de $e^x$, donde $x=2$. Tenga en cuenta que el módulo ***math*** debe importarse antes de poder utilizar ***math.factorial()***."
      ]
    },
    {
      "cell_type": "code",
      "metadata": {
        "id": "u6_JjDNqvonJ",
        "colab": {
          "base_uri": "https://localhost:8080/"
        },
        "outputId": "d5c2f898-47cf-444d-9145-23becc9a6eb7"
      },
      "source": [
        "import math\n",
        "\n",
        "x = 2\n",
        "e_to_2 = x**0/math.factorial(0) + x**1/math.factorial(1) + x**2/math.factorial(2) + x**3/math.factorial(3) + x**4/math.factorial(4)\n",
        "print(e_to_2)"
      ],
      "execution_count": 1,
      "outputs": [
        {
          "output_type": "stream",
          "text": [
            "7.0\n"
          ],
          "name": "stdout"
        }
      ]
    },
    {
      "cell_type": "markdown",
      "metadata": {
        "id": "kU2FI06s3c8D"
      },
      "source": [
        "Nuestra aproximacion de la seria de Tailor of **$e^2$** fué calculada como ***7***. Comparemos nuestra aproximación de la serie Taylor con la función de Python ***math.exp()***."
      ]
    },
    {
      "cell_type": "code",
      "metadata": {
        "colab": {
          "base_uri": "https://localhost:8080/"
        },
        "id": "apmPxNo_3xyU",
        "outputId": "16532064-4615-4a02-aaca-b979d527764c"
      },
      "source": [
        "print(math.exp(2))"
      ],
      "execution_count": 2,
      "outputs": [
        {
          "output_type": "stream",
          "text": [
            "7.38905609893065\n"
          ],
          "name": "stdout"
        }
      ]
    },
    {
      "cell_type": "markdown",
      "metadata": {
        "id": "IiSLzMzX31XT"
      },
      "source": [
        "Nuestra aproximación ***7.0*** de la serie Taylor no está tan lejos del valor calculado ***7.389056...*** usando la función ***exp()*** de Python."
      ]
    },
    {
      "cell_type": "markdown",
      "metadata": {
        "id": "rTWU3a5d3738"
      },
      "source": [
        "# Use un bucle for para calcular una serie de Taylor\n",
        "\n",
        "Si queremos acercarnos al valor de **$e^x$** necesitamos agregar más términos a nuestra serie Taylor. El problema es que codificar cada término individual requiere mucho tiempo y es repetitivo. En lugar de codificar cada término individualmente, podemos usar un bucle for . Un bucle for es una estructura de repetición en Python que ejecuta una sección de código un número específico de veces. La sintaxis para codificar un bucle for en Python usando la funcion ***range()*** es la siguiente:\n",
        "\n",
        "```txt\n",
        "for <var> in range(<num>):\n",
        "    <code>\n",
        "```\n",
        "\n",
        "Donde ***\\<var>*** es cualquier nombre de variable de Python válido y ***\\<num>*** es un número entero para determinar cuántas veces se ejecuta ***\\<code>*** en el bucle?\n",
        "\n",
        "Podemos recrear nuestra aproximación de ***$e^x$*** con 5 términos usando un bucle ***for***. Tenga en cuenta que debemos establecer la variable  ***e_to_2 =  0*** antes de que comience el bucle. El operador matemático ***+=*** de la línea ***e_to_2 += x***** ***i/math.factorial(i)***  es equivalente a ***e_to_2 = e_to_2 + x***** ***i/math.factorial(i)***.\n"
      ]
    },
    {
      "cell_type": "code",
      "metadata": {
        "colab": {
          "base_uri": "https://localhost:8080/"
        },
        "id": "pKNA1A3z4l_X",
        "outputId": "095f0188-ed00-484d-bde3-138dab5b1bc5"
      },
      "source": [
        "import math\n",
        "\n",
        "x = 2\n",
        "e_to_2 = 0\n",
        "for i in range(5):\n",
        "    e_to_2 += x**i/math.factorial(i)\n",
        "    \n",
        "print(e_to_2)"
      ],
      "execution_count": 3,
      "outputs": [
        {
          "output_type": "stream",
          "text": [
            "7.0\n"
          ],
          "name": "stdout"
        }
      ]
    },
    {
      "cell_type": "markdown",
      "metadata": {
        "id": "8XekCaAP4uT4"
      },
      "source": [
        "El resultado ***7.0*** es el mismo que calculamos cuando escribimos cada término de la serie de Taylor individualmente.\n",
        "\n",
        "Una ventaja de usar un bucle for es que podemos aumentar fácilmente el número de términos. Si aumentamos el número de veces que se ejecuta el ciclo ***for*** , aumentamos el número de términos en la expansión de la serie Taylor. Probemos ***10*** términos. Tenga en cuenta cómo la línea ***for i in range(10):*** ahora incluye ***10*** pasada a la función ***range()***."
      ]
    },
    {
      "cell_type": "code",
      "metadata": {
        "colab": {
          "base_uri": "https://localhost:8080/"
        },
        "id": "_TEuDi8M458W",
        "outputId": "2c323c1d-39c3-42bd-d8d7-21764f7d37fb"
      },
      "source": [
        "import math\n",
        "\n",
        "x = 2\n",
        "e_to_2 = 0\n",
        "for i in range(10):\n",
        "    e_to_2 += x**i/math.factorial(i)\n",
        "    \n",
        "print(e_to_2)"
      ],
      "execution_count": 4,
      "outputs": [
        {
          "output_type": "stream",
          "text": [
            "7.3887125220458545\n"
          ],
          "name": "stdout"
        }
      ]
    },
    {
      "cell_type": "markdown",
      "metadata": {
        "id": "Gkri-rOy4-bn"
      },
      "source": [
        "El resultado es ***7.38871....*** Veamos qué tan cerca está eso de $e^2$ calculado con la función ***exp()*** de Python ."
      ]
    },
    {
      "cell_type": "code",
      "metadata": {
        "colab": {
          "base_uri": "https://localhost:8080/"
        },
        "id": "G5nooHNn5H5g",
        "outputId": "8e4a1e01-12af-449a-becb-d0a720f5ac81"
      },
      "source": [
        "print(math.exp(2))"
      ],
      "execution_count": 5,
      "outputs": [
        {
          "output_type": "stream",
          "text": [
            "7.38905609893065\n"
          ],
          "name": "stdout"
        }
      ]
    },
    {
      "cell_type": "markdown",
      "metadata": {
        "id": "ptJ7A-1M5Lcy"
      },
      "source": [
        "El resultado es ***7.38905....*** Nos acercamos al valor de **$e^2$** cuando se utilizan ***10*** términos en la serie Taylor en comparación con cuando se utilizan ***5*** términos en la serie Taylor."
      ]
    },
    {
      "cell_type": "markdown",
      "metadata": {
        "id": "4zoccPZv5TPZ"
      },
      "source": [
        "# Refactorice el bucle for en una función\n",
        "A continuación, refactoricemos el código anterior que contenía un bucle ***for*** (que calculó $e^2$) en una función que puede calcular ***$e$*** elevado a cualquier potencia estimada con cualquier número de términos en la Serie Taylor. La sintaxis general para definir una función en Python se encuentra a continuación.\n",
        "\n",
        "```python\n",
        "def <func name>(<arg 1>, <arg 2>, ...):\n",
        "    <code>\n",
        "    return <output>\n",
        "```"
      ]
    },
    {
      "cell_type": "markdown",
      "metadata": {
        "id": "uMsVb1em5hrC"
      },
      "source": [
        "Donde ***def*** es la palabra clave de Python que define una función, ***\\<func name>*** es un nombre de variable de Python válido y ***\\<arg 1>, <arg 2>*** son los argumentos de entrada que se pasan a la función. ***\\<code>***, que se ejecuta cuando se llama a la función debe tener sangría (la sangría estándar es de 4 espacios). La palabra clave ***return*** denota el ***\\<output>*** de la función.\n",
        "Codifiquemos nuestro bucle ***for*** que se aproxima **$e^2$** en una función."
      ]
    },
    {
      "cell_type": "code",
      "metadata": {
        "id": "MX8-No6u5whZ"
      },
      "source": [
        "import math\n",
        "\n",
        "def func_e_to_2(n):\n",
        "    x = 2\n",
        "    e_to_2 = 0\n",
        "    for i in range(n):\n",
        "        e_to_2 += x**i/math.factorial(i)\n",
        "    \n",
        "    return e_to_2"
      ],
      "execution_count": 6,
      "outputs": []
    },
    {
      "cell_type": "markdown",
      "metadata": {
        "id": "dcwq3HIO5y0P"
      },
      "source": [
        "Si llamamos a nuestra función ***func_e_to_2()*** con el argumento de entrada ***10***, el resultado es el mismo que cuando ejecutamos el bucle ***for*** 10 veces ."
      ]
    },
    {
      "cell_type": "code",
      "metadata": {
        "colab": {
          "base_uri": "https://localhost:8080/"
        },
        "id": "7RoAtp4354QB",
        "outputId": "e3b828ea-264f-406b-db87-de6f2d87b7f4"
      },
      "source": [
        "out = func_e_to_2(10)\n",
        "print(out)"
      ],
      "execution_count": 7,
      "outputs": [
        {
          "output_type": "stream",
          "text": [
            "7.3887125220458545\n"
          ],
          "name": "stdout"
        }
      ]
    },
    {
      "cell_type": "markdown",
      "metadata": {
        "id": "AU9bgCQU57vi"
      },
      "source": [
        "La salida de nuestra función ***func_e_to_2()*** es ***7.38871....***\n",
        "\n",
        "Podemos hacer nuestra función más general estableciendo ***x*** (el número al que queda elevado **$e$**) como argumento de entrada. Observe cómo ahora hay dos argumentos de entrada en la definición de la función ***(x, n)***. ***x*** es el numero al que **$e$** se eleva, y ***n*** es el número de términos en la serie de Taylor (que es el número de veces que el bucle ***for*** se ejecuta en el interior de la definición de la función)."
      ]
    },
    {
      "cell_type": "code",
      "metadata": {
        "id": "qnH7eD3r6MNH"
      },
      "source": [
        "import math\n",
        "\n",
        "def func_e(x, n):\n",
        "    e_approx = 0\n",
        "    for i in range(n):\n",
        "        e_approx += x**i/math.factorial(i)\n",
        "    \n",
        "    return e_approx"
      ],
      "execution_count": 8,
      "outputs": []
    },
    {
      "cell_type": "markdown",
      "metadata": {
        "id": "moN-FINw6OmK"
      },
      "source": [
        "Vamos a calcular **$e^2$** usando ***10*** términos con nuestra nueva funcion ***func_e()***."
      ]
    },
    {
      "cell_type": "code",
      "metadata": {
        "colab": {
          "base_uri": "https://localhost:8080/"
        },
        "id": "Yby_R5V46UkE",
        "outputId": "53d74c19-3fa2-4e9e-cbd2-f6bb2d7917e7"
      },
      "source": [
        "out = func_e(2,10)\n",
        "print(out)"
      ],
      "execution_count": 9,
      "outputs": [
        {
          "output_type": "stream",
          "text": [
            "7.3887125220458545\n"
          ],
          "name": "stdout"
        }
      ]
    },
    {
      "cell_type": "markdown",
      "metadata": {
        "id": "XOLucQZp6W3z"
      },
      "source": [
        "El resultado es ***7.38871...*** el mismo resultado que antes.\n",
        "\n",
        "Una ventaja de escribir nuestra expansión de la serie Taylor en una función es que ahora el cálculo de aproximación de la serie Taylor es reutilizable y se puede llamar en una línea de código. Por ejemplo, podemos estimar el valor de **$e^5$** con ***10*** términos, llamando a nuestra función ***func_e()*** con los argumentos de entrada ***(5,10)***."
      ]
    },
    {
      "cell_type": "code",
      "metadata": {
        "colab": {
          "base_uri": "https://localhost:8080/"
        },
        "id": "_p8jEFv96iKc",
        "outputId": "a3304f3f-a4fb-4d21-e247-c660ceca0779"
      },
      "source": [
        "out = func_e(5,10)\n",
        "print(out)"
      ],
      "execution_count": 10,
      "outputs": [
        {
          "output_type": "stream",
          "text": [
            "143.68945656966488\n"
          ],
          "name": "stdout"
        }
      ]
    },
    {
      "cell_type": "markdown",
      "metadata": {
        "id": "2mBYWl1i6ldF"
      },
      "source": [
        "El resultado es ***143.68945....*** Veamos qué tan cerca está este valor de la función ***exp()*** de Python cuando hacemos el mismo cálculo $e^5$."
      ]
    },
    {
      "cell_type": "code",
      "metadata": {
        "colab": {
          "base_uri": "https://localhost:8080/"
        },
        "id": "Cv0EDB6I6j0l",
        "outputId": "a260384e-6e6d-410e-8ebb-59b9d6f4143b"
      },
      "source": [
        "out = math.exp(5)\n",
        "print(out)"
      ],
      "execution_count": 11,
      "outputs": [
        {
          "output_type": "stream",
          "text": [
            "148.4131591025766\n"
          ],
          "name": "stdout"
        }
      ]
    },
    {
      "cell_type": "markdown",
      "metadata": {
        "id": "tIxKLs-66mb8"
      },
      "source": [
        "El resultado es ***148.41315....*** La aproximación de la serie de Taylor calculada por nuestra función ***func_e()***  está bastante cerca del valor calculado por la función ***exp()*** de Python ."
      ]
    },
    {
      "cell_type": "markdown",
      "metadata": {
        "id": "hl0tVK1J664M"
      },
      "source": [
        "# Use un bucle for para calcular la diferencia entre la expansión de la serie Taylor y la función ***exp( )*** de Python \n",
        "\n",
        "Ahora usemos un bucle for para calcular la diferencia entre la expansión de la serie Taylor calculada por nuestra función ***func_e()*** en comparación con la función ***exp()*** de Python . Calcularemos la diferencia entre las dos funciones cuando usemos términos entre ***1*** y ***10*** en la expansión de la serie de Taylor.\n",
        "\n",
        "El siguiente código usa ***f-strings*** , que es una sintaxis de Python para insertar el valor de una variable en una cadena. La sintaxis general de un ***f-string*** en Python se muestra a continuación.\n",
        "\n",
        "```python\n",
        "f'string statment {<var>}'\n",
        "```\n",
        "\n",
        "Donde ***f*** denota el comienzo de un ***F-string*** , el ***F-string*** está rodeado por comillas ***' '*** ,  y la variable ***\\<var>*** está encerrada entre llaves ***{ }***. El valor de ***\\<var>*** se imprimirá sin las llaves."
      ]
    },
    {
      "cell_type": "code",
      "metadata": {
        "colab": {
          "base_uri": "https://localhost:8080/"
        },
        "id": "MynkenZCCZE8",
        "outputId": "6f1b21f8-3e72-44b3-8f3b-5e0340415036"
      },
      "source": [
        "import math\n",
        "\n",
        "x = 5\n",
        "for i in range(1,11):\n",
        "    e_approx = func_e(x,i)\n",
        "    e_exp = math.exp(x)\n",
        "    e_error = abs(e_approx - e_exp)\n",
        "    print(f'{i} terms: Taylor Series approx= {e_approx}, exp calc= {e_exp}, error = {e_error}')"
      ],
      "execution_count": 12,
      "outputs": [
        {
          "output_type": "stream",
          "text": [
            "1 terms: Taylor Series approx= 1.0, exp calc= 148.4131591025766, error = 147.4131591025766\n",
            "2 terms: Taylor Series approx= 6.0, exp calc= 148.4131591025766, error = 142.4131591025766\n",
            "3 terms: Taylor Series approx= 18.5, exp calc= 148.4131591025766, error = 129.9131591025766\n",
            "4 terms: Taylor Series approx= 39.33333333333333, exp calc= 148.4131591025766, error = 109.07982576924327\n",
            "5 terms: Taylor Series approx= 65.375, exp calc= 148.4131591025766, error = 83.0381591025766\n",
            "6 terms: Taylor Series approx= 91.41666666666667, exp calc= 148.4131591025766, error = 56.99649243590993\n",
            "7 terms: Taylor Series approx= 113.11805555555556, exp calc= 148.4131591025766, error = 35.29510354702104\n",
            "8 terms: Taylor Series approx= 128.61904761904762, exp calc= 148.4131591025766, error = 19.79411148352898\n",
            "9 terms: Taylor Series approx= 138.30716765873015, exp calc= 148.4131591025766, error = 10.105991443846449\n",
            "10 terms: Taylor Series approx= 143.68945656966488, exp calc= 148.4131591025766, error = 4.723702532911716\n"
          ],
          "name": "stdout"
        }
      ]
    },
    {
      "cell_type": "markdown",
      "metadata": {
        "id": "J132BgfyCb50"
      },
      "source": [
        "Observe cómo el error disminuye a medida que agregamos términos a la serie de Taylor. Cuando la serie de Taylor solo tiene ***1*** término, el error es ***147.41....*** Cuando se utilizan ***10*** términos en la serie de Taylor, el error se reduce a ***4.7237....***."
      ]
    },
    {
      "cell_type": "markdown",
      "metadata": {
        "id": "TI08oEW2CipK"
      },
      "source": [
        "# Use una declaración ***break*** para salir de un bucle ***for*** antes. \n",
        "\n",
        "¿Cuántos términos se necesitarían para producir un error menor que 1? Podemos usar una instrucción ***break*** para salir del ciclo for cuando el error es menor que ***1***. El siguiente código calcula cuántos términos se necesitan en la serie Taylor, cuando $e^5$ se calcula, para mantener el error menor que ***1***."
      ]
    },
    {
      "cell_type": "code",
      "metadata": {
        "colab": {
          "base_uri": "https://localhost:8080/"
        },
        "id": "-nIhHPUQCrBi",
        "outputId": "000f4e86-7fce-4463-e9f4-5b04fcb47000"
      },
      "source": [
        "import math\n",
        "\n",
        "x = 5\n",
        "for i in range(1,20):\n",
        "    e_approx = func_e(x,i)\n",
        "    e_exp = math.exp(x)\n",
        "    e_error = abs(e_approx - e_exp)\n",
        "    if e_error < 1:\n",
        "        break\n",
        "        \n",
        "print(f'{i} terms: Taylor Series approx= {e_approx}, exp calc= {e_exp}, error = {e_error}')"
      ],
      "execution_count": 13,
      "outputs": [
        {
          "output_type": "stream",
          "text": [
            "12 terms: Taylor Series approx= 147.60384850489015, exp calc= 148.4131591025766, error = 0.8093105976864479\n"
          ],
          "name": "stdout"
        }
      ]
    },
    {
      "cell_type": "markdown",
      "metadata": {
        "id": "6CrauMj9CuAJ"
      },
      "source": [
        "El resultado muestra que se necesitan ***12*** términos en la serie de Taylor para eliminar el error mayor a ***1***."
      ]
    },
    {
      "cell_type": "markdown",
      "metadata": {
        "id": "DBhkXnSOCykT"
      },
      "source": [
        "# Cree una función para estimar el valor de ***$cos(x)$*** usando una serie de Taylor \n",
        "\n",
        "A continuación, calculemos el valor de la función ***coseno*** usando una serie de Taylor. La expansión de la serie Taylor para $cos(x)$ Esta abajo.\n",
        "\n",
        "$$cos\\left(x\\right)\\approx \\:\\sum \\:_{n=0}^{\\infty \\:}\\left(\\left(-1\\right)^n\\cdot \\frac{x^{2\\cdot n}}{\\left(2\\cdot n\\right)!}\\right)\\approx 1-\\frac{x^2}{2!}+\\frac{x^4}{6!}-\\frac{x^6}{6!}\\cdot \\:\\cdot \\:\\cdot \\:\\cdot \\:$$\n",
        "\n",
        "Podemos codificar esta fórmula en una función que contenga un bucle ***for***. Tenga en cuenta que la variable ***x*** es el valor del que estamos tratando de encontrar el ***coseno***, la variable ***n*** es el número de términos en la serie de Taylor y la variable ***i*** es el índice de bucle, que también es el número de término de la serie de Taylor. Estamos usando una variable separada para el coeficiente ***coef*** que es igual a $(-1)^i$, el numerador ***num*** que es igual a $x^{2*i}$ y el denominador ***denom*** que es igual a $(2*i!)$. Dividir la fórmula de la serie Taylor en tres partes puede reducir los errores de codificación."
      ]
    },
    {
      "cell_type": "code",
      "metadata": {
        "id": "ABEj3qc4Dr3q"
      },
      "source": [
        "import math\n",
        "\n",
        "def func_cos(x, n):\n",
        "    cos_approx = 0\n",
        "    for i in range(n):\n",
        "        coef = (-1)**i\n",
        "        num = x**(2*i)\n",
        "        denom = math.factorial(2*i)\n",
        "        cos_approx += ( coef ) * ( (num)/(denom) )\n",
        "    \n",
        "    return cos_approx"
      ],
      "execution_count": 14,
      "outputs": []
    },
    {
      "cell_type": "markdown",
      "metadata": {
        "id": "3WvtNbLHDtqk"
      },
      "source": [
        "Usemos nuestra ***func_cos()*** función para estimar el coseno de ***45*** grados. Tenga en cuenta que la función ***func_cos()*** calcula el coseno de un ángulo en radianes. Si queremos calcular el coseno de ***45*** grados usando nuestra función, primero tenemos que convertir ***45*** grados en radianes. Afortunadamente, el módulo ***math*** de Python tiene una función llamada ***radians()*** que hace la conversión de ángulo temprano."
      ]
    },
    {
      "cell_type": "code",
      "metadata": {
        "colab": {
          "base_uri": "https://localhost:8080/"
        },
        "id": "31EeL6HjDuvz",
        "outputId": "c6152af4-8e6e-4812-fbed-f619a89bf110"
      },
      "source": [
        "angle_rad = (math.radians(45))\n",
        "out = func_cos(angle_rad,5)\n",
        "print(out)"
      ],
      "execution_count": 15,
      "outputs": [
        {
          "output_type": "stream",
          "text": [
            "0.7071068056832942\n"
          ],
          "name": "stdout"
        }
      ]
    },
    {
      "cell_type": "markdown",
      "metadata": {
        "id": "H28x6U9UDygD"
      },
      "source": [
        "Usando nuestra `func_cos()`función y 5términos en la aproximación de la serie de Taylor, estimamos que el coseno de 45 grados es `0.707106805....` Comprobemos nuestra `func_cos()`función en comparación con la `cos()`función de Python del mathmódulo."
      ]
    },
    {
      "cell_type": "code",
      "metadata": {
        "colab": {
          "base_uri": "https://localhost:8080/"
        },
        "id": "_6foyjHaD0U9",
        "outputId": "d905cc99-e8ba-4a62-df77-76f18ed5e5c7"
      },
      "source": [
        "out = math.cos(angle_rad)\n",
        "print(out)"
      ],
      "execution_count": 16,
      "outputs": [
        {
          "output_type": "stream",
          "text": [
            "0.7071067811865476\n"
          ],
          "name": "stdout"
        }
      ]
    },
    {
      "cell_type": "markdown",
      "metadata": {
        "id": "jddxeR8YD2fe"
      },
      "source": [
        "Usando la función ***cos()*** de Python , el coseno de 45 grados devuelve ***0.707106781...*** Este valor está muy cerca de la aproximación calculada usando nuestra función ***func_cos()***."
      ]
    },
    {
      "cell_type": "markdown",
      "metadata": {
        "id": "a9loA4S8D30v"
      },
      "source": [
        "# Construya una gráfica para comparar la aproximación de la serie de Taylor con la función ***cos()*** de Python\n",
        "\n",
        "En la última parte de esta publicación, vamos a construir un gráfico que muestra cómo la aproximación de la serie de Taylor calculada por nuestra función ***func_cos()*** se compara con la función ***cos()*** de Python .\n",
        "\n",
        "La idea es hacer una gráfica que tenga una línea para la función ***cos()*** de Python y líneas para la aproximación de la serie de Taylor basada en diferentes números de términos.\n",
        "\n",
        "Por ejemplo, si usamos 3 términos en la aproximación de la serie de Taylor, nuestra gráfica tiene dos líneas. Una línea para la función ***cos()*** de Python y una línea para nuestra función ***func_cos()*** con tres términos en la aproximación de la serie de Taylor. Calcularemos el coseno usando ambas funciones para ángulos entre ***-2π*** radianes y ***2π*** radianes."
      ]
    },
    {
      "cell_type": "code",
      "metadata": {
        "colab": {
          "base_uri": "https://localhost:8080/",
          "height": 265
        },
        "id": "Bjg51oDXD9PG",
        "outputId": "5e8f2cb6-16b0-4080-a8c3-292d1adc8766"
      },
      "source": [
        "import math\n",
        "import numpy as np\n",
        "import matplotlib.pyplot as plt\n",
        "# if using a Jupyter notebook, include:\n",
        "%matplotlib inline\n",
        "\n",
        "angles = np.arange(-2*np.pi,2*np.pi,0.1)\n",
        "p_cos = np.cos(angles)\n",
        "t_cos = [func_cos(angle,3) for angle in angles]\n",
        "\n",
        "fig, ax = plt.subplots()\n",
        "ax.plot(angles,p_cos)\n",
        "ax.plot(angles,t_cos)\n",
        "ax.set_ylim([-5,5])\n",
        "ax.legend(['cos() function','Taylor Series - 3 terms'])\n",
        "\n",
        "plt.show()"
      ],
      "execution_count": 17,
      "outputs": [
        {
          "output_type": "display_data",
          "data": {
            "image/png": "[encoded data removed]",
            "text/plain": [
              "<Figure size 432x288 with 1 Axes>"
            ]
          },
          "metadata": {
            "tags": [],
            "needs_background": "light"
          }
        }
      ]
    },
    {
      "cell_type": "markdown",
      "metadata": {
        "id": "gBh-DwkPD_QH"
      },
      "source": [
        "Podemos usar un bucle ***for*** para ver cuánto mejor se compara la adición de términos adicionales a nuestra aproximación de la serie Taylor con la función ***cos()*** de Python ."
      ]
    },
    {
      "cell_type": "code",
      "metadata": {
        "colab": {
          "base_uri": "https://localhost:8080/",
          "height": 269
        },
        "id": "xEiDbMWJEBls",
        "outputId": "35c44c95-dc46-4794-b403-c6377ba79488"
      },
      "source": [
        "import math\n",
        "import numpy as np\n",
        "import matplotlib.pyplot as plt\n",
        "# if using a Jupyter notebook, include:\n",
        "%matplotlib inline\n",
        "\n",
        "angles = np.arange(-2*np.pi,2*np.pi,0.1)\n",
        "p_cos = np.cos(angles)\n",
        "\n",
        "fig, ax = plt.subplots()\n",
        "ax.plot(angles,p_cos)\n",
        "\n",
        "# add lines for between 1 and 6 terms in the Taylor Series\n",
        "for i in range(1,6):\n",
        "    t_cos = [func_cos(angle,i) for angle in angles]\n",
        "    ax.plot(angles,t_cos)\n",
        "\n",
        "ax.set_ylim([-7,4])\n",
        "\n",
        "# set up legend\n",
        "legend_lst = ['cos() function']\n",
        "for i in range(1,6):\n",
        "    legend_lst.append(f'Taylor Series - {i} terms')\n",
        "ax.legend(legend_lst, loc=3)\n",
        "\n",
        "plt.show()"
      ],
      "execution_count": 18,
      "outputs": [
        {
          "output_type": "display_data",
          "data": {
            "image/png": "[encoded data removed]",
            "text/plain": [
              "<Figure size 432x288 with 1 Axes>"
            ]
          },
          "metadata": {
            "tags": [],
            "needs_background": "light"
          }
        }
      ]
    },
    {
      "cell_type": "markdown",
      "metadata": {
        "id": "ETEEHLnTEEB8"
      },
      "source": [
        "Vemos que la serie de Taylor con 5 términos (la línea marrón) se acerca más a la aproximación de la función ***cos()*** de Python . La serie de Taylor con 5 términos es una buena aproximación del coseno de los ángulos entre aproximadamente ***-π*** y ***π*** radianes. La serie de Taylor con 5 términos es una peor aproximación para ángulos menores que ***-π*** o mayor que ***π***. A medida que el ángulo se aleja de cero radianes, la estimación del coseno utilizando una serie de Taylor empeora cada vez más."
      ]
    },
    {
      "cell_type": "markdown",
      "metadata": {
        "id": "aJtxPMgp0dza"
      },
      "source": [
        "# Cree una función para estimar el valor de  sin(x)  usando una serie de Taylor\n",
        "$$sin\\left(x\\right)\\approx \\:\\sum \\:_{n=0}^{\\infty \\:}\\left(\\left(-1\\right)^n\\cdot \\frac{x^{2\\cdot n+1}}{\\left(2\\cdot n+1\\right)!}\\right)\\approx x-\\frac{x^3}{3!}+\\frac{x^5}{5!}-\\frac{x^7}{7!}\\cdot \\:\\cdot \\:\\cdot \\:\\cdot \\:$$"
      ]
    },
    {
      "cell_type": "code",
      "metadata": {
        "id": "FCnWljPO2mML"
      },
      "source": [
        "import math\n",
        "\n",
        "def func_sin(x, n):\n",
        "    sin_approx = 0\n",
        "    for i in range(n):\n",
        "        coef = (-1)**i\n",
        "        num = x**(1+2*i)\n",
        "        denom = math.factorial(1+2*i)\n",
        "        sin_approx += ( coef ) * ( (num)/(denom) )\n",
        "    \n",
        "    return sin_approx"
      ],
      "execution_count": 19,
      "outputs": []
    },
    {
      "cell_type": "code",
      "metadata": {
        "colab": {
          "base_uri": "https://localhost:8080/"
        },
        "id": "N_MgBqHq2_Si",
        "outputId": "b5ac96cf-e2de-410b-f23c-4adb85c8ab05"
      },
      "source": [
        "angle_rad = (math.radians(45))\n",
        "out = func_sin(angle_rad,5)\n",
        "print(out)"
      ],
      "execution_count": 20,
      "outputs": [
        {
          "output_type": "stream",
          "text": [
            "0.7071067829368671\n"
          ],
          "name": "stdout"
        }
      ]
    },
    {
      "cell_type": "code",
      "metadata": {
        "colab": {
          "base_uri": "https://localhost:8080/"
        },
        "id": "MzLOLjQ-3E7j",
        "outputId": "40d31c6f-ea4c-4fb7-b0ee-17e6c8be1d07"
      },
      "source": [
        "out = math.sin(angle_rad)\n",
        "print(out)"
      ],
      "execution_count": 21,
      "outputs": [
        {
          "output_type": "stream",
          "text": [
            "0.7071067811865475\n"
          ],
          "name": "stdout"
        }
      ]
    },
    {
      "cell_type": "code",
      "metadata": {
        "colab": {
          "base_uri": "https://localhost:8080/",
          "height": 269
        },
        "id": "V2vkNj1b5jW_",
        "outputId": "99dc7b89-6e30-47a6-a5f2-192d0c0b78d4"
      },
      "source": [
        "import math\n",
        "import numpy as np\n",
        "import matplotlib.pyplot as plt\n",
        "# if using a Jupyter notebook, include:\n",
        "%matplotlib inline\n",
        "\n",
        "angles = np.arange(-2*np.pi,2*np.pi,0.1)\n",
        "p_sin = np.sin(angles)\n",
        "\n",
        "fig, ax = plt.subplots()\n",
        "ax.plot(angles,p_sin)\n",
        "\n",
        "# add lines for between 1 and 6 terms in the Taylor Series\n",
        "for i in range(1,6):\n",
        "    t_sin = [func_sin(angle,i) for angle in angles]\n",
        "    ax.plot(angles,t_sin)\n",
        "\n",
        "ax.set_ylim([-7,4])\n",
        "\n",
        "# set up legend\n",
        "legend_lst = ['sin() function']\n",
        "for i in range(1,6):\n",
        "    legend_lst.append(f'Taylor Series - {i} terms')\n",
        "ax.legend(legend_lst, loc=3)\n",
        "\n",
        "plt.show()"
      ],
      "execution_count": 22,
      "outputs": [
        {
          "output_type": "display_data",
          "data": {
            "image/png": "[encoded data removed]",
            "text/plain": [
              "<Figure size 432x288 with 1 Axes>"
            ]
          },
          "metadata": {
            "tags": [],
            "needs_background": "light"
          }
        }
      ]
    },
    {
      "cell_type": "markdown",
      "metadata": {
        "id": "iaaEYv-j6pPh"
      },
      "source": [
        "#Cree una función para estimar el valor de ln(x+1) usando una serie de Taylor\n",
        "$$ln\\left(x+1\\right)\\approx \\:\\sum \\:_{n=1}^{\\infty \\:}\\frac{\\left(-1\\right)^{n+1}}{n}\\cdot x^n\\approx x-\\frac{x^2}{2}+\\frac{x^3}{3}-\\frac{x^4}{4}\\cdot \\:\\cdot \\:\\cdot \\:\\cdot \\:$$"
      ]
    },
    {
      "cell_type": "code",
      "metadata": {
        "id": "gKNLCjKh8C-U"
      },
      "source": [
        "import math\n",
        "\n",
        "def func_ln(x, n):\n",
        "    ln_approx = 0\n",
        "    for i in range(1,n):\n",
        "        coef = (-1)**(i+1)\n",
        "        num = x**(i)\n",
        "        denom = i\n",
        "        ln_approx += ( coef ) * ( (num)/(denom) )\n",
        "    \n",
        "    return ln_approx"
      ],
      "execution_count": 23,
      "outputs": []
    },
    {
      "cell_type": "code",
      "metadata": {
        "colab": {
          "base_uri": "https://localhost:8080/"
        },
        "id": "Q59caf9E8jlx",
        "outputId": "aa544118-78c0-4925-a61f-71fcbfa6ebe5"
      },
      "source": [
        "out = func_ln(1,100)\n",
        "print(out)"
      ],
      "execution_count": 24,
      "outputs": [
        {
          "output_type": "stream",
          "text": [
            "0.698172179310195\n"
          ],
          "name": "stdout"
        }
      ]
    },
    {
      "cell_type": "code",
      "metadata": {
        "colab": {
          "base_uri": "https://localhost:8080/"
        },
        "id": "HAq4RRBc80aM",
        "outputId": "d3569c4d-c134-4b08-c73a-93f73c867678"
      },
      "source": [
        "out = math.log(2)\n",
        "print(out)"
      ],
      "execution_count": 25,
      "outputs": [
        {
          "output_type": "stream",
          "text": [
            "0.6931471805599453\n"
          ],
          "name": "stdout"
        }
      ]
    },
    {
      "cell_type": "code",
      "metadata": {
        "colab": {
          "base_uri": "https://localhost:8080/",
          "height": 269
        },
        "id": "D4kDVDGXZnZk",
        "outputId": "d8dc19b2-528d-4220-f55c-0a4326bf6d58"
      },
      "source": [
        "import math\n",
        "import numpy as np\n",
        "import matplotlib.pyplot as plt\n",
        "# if using a Jupyter notebook, include:\n",
        "%matplotlib inline\n",
        "\n",
        "angles = np.arange(0.1,10,0.1)\n",
        "p_ln = np.log(angles)\n",
        "\n",
        "fig, ax = plt.subplots()\n",
        "ax.plot(angles,p_ln)\n",
        "\n",
        "# add lines for between 1 and 6 terms in the Taylor Series\n",
        "for i in [1,2,3,4,5]:\n",
        "    t_ln = [func_ln(angle,i) for angle in angles]\n",
        "    ax.plot(angles,t_ln)\n",
        "\n",
        "ax.set_ylim([-7,4])\n",
        "\n",
        "# set up legend\n",
        "legend_lst = ['sin() function']\n",
        "for i in range(1,6):\n",
        "    legend_lst.append(f'Taylor Series - {i} terms')\n",
        "ax.legend(legend_lst, loc=3)\n",
        "\n",
        "plt.show()"
      ],
      "execution_count": 26,
      "outputs": [
        {
          "output_type": "display_data",
          "data": {
            "image/png": "[encoded data removed]",
            "text/plain": [
              "<Figure size 432x288 with 1 Axes>"
            ]
          },
          "metadata": {
            "tags": [],
            "needs_background": "light"
          }
        }
      ]
    },
    {
      "cell_type": "markdown",
      "metadata": {
        "id": "AACovoe4EFaG"
      },
      "source": [
        "# Resumen\n",
        "\n",
        "En esta publicación, revisamos cómo construir la serie Taylor de $e^x$ y porque ($x$)en Python. Primero, codificamos cada término de la serie de Taylor individualmente. A continuación, usamos un bucle for para calcularnortetérminos en la expansión de la serie Taylor. Luego refactorizamos el código con el bucle for en una función y parametrizamos nuestra función para que pudiéramos calcularmielevado a cualquier número calculado para cualquier número de términos. Al final de la publicación, codificamos la serie Taylor de ($x$)en una función de Python. Finalmente, usamos nuestra función coseno de la serie de Taylor para construir una gráfica con Matplotlib que muestra cómo la aproximación de la serie de Taylor se compara con la cos()función de Python para los ángulos entre ***-2π*** y ***2π*** radianes."
      ]
    }
  ]
}