{
  "nbformat": 4,
  "nbformat_minor": 0,
  "metadata": {
    "colab": {
      "name": "jpuentesgTaylorSymPy.ipynb",
      "provenance": [],
      "collapsed_sections": []
    },
    "kernelspec": {
      "name": "python3",
      "display_name": "Python 3"
    }
  },
  "cells": [
    {
      "cell_type": "markdown",
      "metadata": {
        "id": "GFmthnDoq6j6"
      },
      "source": [
        "Taylor Series Expansion with Python from Data Science Fabric \n",
        "\n",
        "https://dsfabric.org/taylor-series-expansion-with-python"
      ]
    },
    {
      "cell_type": "code",
      "metadata": {
        "id": "h7GY4uApqKr7"
      },
      "source": [
        "from sympy import series, Symbol\n",
        "from sympy.functions import sin, cos, exp, log\n",
        "from sympy.plotting import plot\n",
        "import matplotlib.pyplot as plt"
      ],
      "execution_count": 20,
      "outputs": []
    },
    {
      "cell_type": "code",
      "metadata": {
        "id": "Nnpm4V-AqdMs"
      },
      "source": [
        "# Define symbol\n",
        "x = Symbol('x')"
      ],
      "execution_count": 21,
      "outputs": []
    },
    {
      "cell_type": "code",
      "metadata": {
        "id": "_bF3LYe8qmNp"
      },
      "source": [
        "# Function for Taylor Series Expansion\n",
        "\n",
        "def taylor(function, x0, n):\n",
        "    \"\"\"\n",
        "    Parameter \"function\" is our function which we want to approximate\n",
        "    \"x0\" is the point where to approximate\n",
        "    \"n\" is the order of approximation\n",
        "    \"\"\"\n",
        "    return function.series(x,x0,n).removeO()"
      ],
      "execution_count": 22,
      "outputs": []
    },
    {
      "cell_type": "code",
      "metadata": {
        "id": "RHDTuup3q3r0",
        "colab": {
          "base_uri": "https://localhost:8080/"
        },
        "outputId": "b9adad2b-bed5-44ec-e439-79d940240a37"
      },
      "source": [
        "print('sin(x) ≅', taylor(sin(x), 0, 4))\n",
        "\n",
        "print('cos(x) ≅', taylor(cos(x), 0, 4))\n",
        "\n",
        "print('e(x) ≅', taylor(exp(x), 0, 4))\n",
        "\n",
        "print('ln(x)≅', taylor(log(x), 0, 4))\n"
      ],
      "execution_count": 23,
      "outputs": [
        {
          "output_type": "stream",
          "text": [
            "sin(x) ≅ -x**3/6 + x\n",
            "cos(x) ≅ 1 - x**2/2\n",
            "e(x) ≅ x**3/6 + x**2/2 + x + 1\n",
            "ln(x)≅ log(x)\n"
          ],
          "name": "stdout"
        }
      ]
    },
    {
      "cell_type": "code",
      "metadata": {
        "id": "WVlow_HJs9Uj",
        "colab": {
          "base_uri": "https://localhost:8080/"
        },
        "outputId": "ceff8007-07b0-4548-e0d7-8681e8248d8d"
      },
      "source": [
        "print('sin(1) =', taylor(sin(x), 0, 4).subs(x,1))\n",
        "\n",
        "print('cos(1) =', taylor(cos(x), 0, 4).subs(x,1))\n",
        "\n",
        "print('e(1) =', taylor(exp(x), 0, 4).subs(x,1))\n",
        "\n",
        "print('ln(1) =', taylor(log(x), 0, 4).subs(x,1))"
      ],
      "execution_count": 24,
      "outputs": [
        {
          "output_type": "stream",
          "text": [
            "sin(1) = 5/6\n",
            "cos(1) = 1/2\n",
            "e(1) = 8/3\n",
            "ln(1) = 0\n"
          ],
          "name": "stdout"
        }
      ]
    },
    {
      "cell_type": "code",
      "metadata": {
        "id": "U6mI5cVErKKb",
        "colab": {
          "base_uri": "https://localhost:8080/"
        },
        "outputId": "44810c84-3053-4e16-ccd4-ceb03b2ddad8"
      },
      "source": [
        "print('Taylor 0 exp(x) ≅', taylor(exp(x), 0, 0))\n",
        "print('Taylor 1 exp(x) ≅', taylor(exp(x), 0, 1))\n",
        "print('Taylor 2 exp(x) ≅', taylor(exp(x), 0, 2))\n",
        "print('Taylor 3 exp(x) ≅', taylor(exp(x), 0, 3))\n",
        "print('Taylor 4 exp(x) ≅', taylor(exp(x), 0, 4))\n",
        "print('Taylor 5 exp(x) ≅', taylor(exp(x), 0, 5))\n",
        "print('Taylor 6 exp(x) ≅', taylor(exp(x), 0, 6))\n",
        "print('Taylor 7 exp(x) ≅', taylor(exp(x), 0, 7))\n",
        "print('Taylor 8 exp(x) ≅', taylor(exp(x), 0, 8))"
      ],
      "execution_count": 6,
      "outputs": [
        {
          "output_type": "stream",
          "text": [
            "Taylor 0 exp(x) ≅ 0\n",
            "Taylor 1 exp(x) ≅ 1\n",
            "Taylor 2 exp(x) ≅ x + 1\n",
            "Taylor 3 exp(x) ≅ x**2/2 + x + 1\n",
            "Taylor 4 exp(x) ≅ x**3/6 + x**2/2 + x + 1\n",
            "Taylor 5 exp(x) ≅ x**4/24 + x**3/6 + x**2/2 + x + 1\n",
            "Taylor 6 exp(x) ≅ x**5/120 + x**4/24 + x**3/6 + x**2/2 + x + 1\n",
            "Taylor 7 exp(x) ≅ x**6/720 + x**5/120 + x**4/24 + x**3/6 + x**2/2 + x + 1\n",
            "Taylor 8 exp(x) ≅ x**7/5040 + x**6/720 + x**5/120 + x**4/24 + x**3/6 + x**2/2 + x + 1\n"
          ],
          "name": "stdout"
        }
      ]
    },
    {
      "cell_type": "code",
      "metadata": {
        "colab": {
          "base_uri": "https://localhost:8080/"
        },
        "id": "KunouTlJR8jr",
        "outputId": "84d22a27-ddf5-467a-ac61-fc4f4b58f553"
      },
      "source": [
        "print('Taylor 0 ln(x) ≅', taylor(log(x), 0, 0))\n",
        "print('Taylor 1 ln(x) ≅', taylor(log(x), 0, 1))\n",
        "print('Taylor 2 ln(x) ≅', taylor(log(x), 0, 2))\n",
        "print('Taylor 3 ln(x) ≅', taylor(log(x), 0, 3))\n",
        "print('Taylor 4 ln(x) ≅', taylor(log(x), 0, 4))\n",
        "print('Taylor 5 ln(x) ≅', taylor(log(x), 0, 5))\n",
        "print('Taylor 6 ln(x) ≅', taylor(log(x), 0, 6))\n",
        "print('Taylor 7 ln(x) ≅', taylor(log(x), 0, 7))\n",
        "print('Taylor 8 ln(x) ≅', taylor(log(x), 0, 8))"
      ],
      "execution_count": 25,
      "outputs": [
        {
          "output_type": "stream",
          "text": [
            "Taylor 0 ln(x) ≅ log(x)\n",
            "Taylor 1 ln(x) ≅ log(x)\n",
            "Taylor 2 ln(x) ≅ log(x)\n",
            "Taylor 3 ln(x) ≅ log(x)\n",
            "Taylor 4 ln(x) ≅ log(x)\n",
            "Taylor 5 ln(x) ≅ log(x)\n",
            "Taylor 6 ln(x) ≅ log(x)\n",
            "Taylor 7 ln(x) ≅ log(x)\n",
            "Taylor 8 ln(x) ≅ log(x)\n"
          ],
          "name": "stdout"
        }
      ]
    },
    {
      "cell_type": "code",
      "metadata": {
        "colab": {
          "base_uri": "https://localhost:8080/"
        },
        "id": "ZIhnQObeTJB_",
        "outputId": "0eaae26d-acdd-42d5-c28c-544a466d423e"
      },
      "source": [
        "print('Taylor 0 sin(x) ≅', taylor(sin(x), 0, 1))\n",
        "print('Taylor 1 sin(x) ≅', taylor(sin(x), 0, 3))\n",
        "print('Taylor 2 sin(x) ≅', taylor(sin(x), 0, 5))\n",
        "print('Taylor 3 sin(x) ≅', taylor(sin(x), 0, 7))\n",
        "print('Taylor 4 sin(x) ≅', taylor(sin(x), 0, 9))\n",
        "print('Taylor 5 sin(x) ≅', taylor(sin(x), 0, 11))\n",
        "print('Taylor 6 sin(x) ≅', taylor(sin(x), 0, 13))\n",
        "print('Taylor 7 sin(x) ≅', taylor(sin(x), 0, 15))\n",
        "print('Taylor 8 sin(x) ≅', taylor(sin(x), 0, 17))"
      ],
      "execution_count": 27,
      "outputs": [
        {
          "output_type": "stream",
          "text": [
            "Taylor 0 sin(x) ≅ 0\n",
            "Taylor 1 sin(x) ≅ x\n",
            "Taylor 2 sin(x) ≅ -x**3/6 + x\n",
            "Taylor 3 sin(x) ≅ x**5/120 - x**3/6 + x\n",
            "Taylor 4 sin(x) ≅ -x**7/5040 + x**5/120 - x**3/6 + x\n",
            "Taylor 5 sin(x) ≅ x**9/362880 - x**7/5040 + x**5/120 - x**3/6 + x\n",
            "Taylor 6 sin(x) ≅ -x**11/39916800 + x**9/362880 - x**7/5040 + x**5/120 - x**3/6 + x\n",
            "Taylor 7 sin(x) ≅ x**13/6227020800 - x**11/39916800 + x**9/362880 - x**7/5040 + x**5/120 - x**3/6 + x\n",
            "Taylor 8 sin(x) ≅ -x**15/1307674368000 + x**13/6227020800 - x**11/39916800 + x**9/362880 - x**7/5040 + x**5/120 - x**3/6 + x\n"
          ],
          "name": "stdout"
        }
      ]
    },
    {
      "cell_type": "code",
      "metadata": {
        "id": "ZvqiDRLOtAFa",
        "colab": {
          "base_uri": "https://localhost:8080/"
        },
        "outputId": "ac9519a6-5a15-4f72-8823-429952f691b8"
      },
      "source": [
        "\n",
        "print('Taylor 0 exp(x) ≅', taylor(exp(x), 0, 0).subs(x,2),' = ',taylor(exp(x), 0, 0).subs(x,2).evalf())\n",
        "print('Taylor 1 exp(x) ≅', taylor(exp(x), 0, 1).subs(x,2),' = ',taylor(exp(x), 0, 1).subs(x,2).evalf())\n",
        "print('Taylor 2 exp(x) ≅', taylor(exp(x), 0, 2).subs(x,2),' = ',taylor(exp(x), 0, 2).subs(x,2).evalf())\n",
        "print('Taylor 3 exp(x) ≅', taylor(exp(x), 0, 3).subs(x,2),' = ',taylor(exp(x), 0, 3).subs(x,2).evalf())\n",
        "print('Taylor 4 exp(x) ≅', taylor(exp(x), 0, 4).subs(x,2),' = ',taylor(exp(x), 0, 4).subs(x,2).evalf())\n",
        "print('Taylor 5 exp(x) ≅', taylor(exp(x), 0, 5).subs(x,2),' = ',taylor(exp(x), 0, 5).subs(x,2).evalf())\n",
        "print('Taylor 6 exp(x) ≅', taylor(exp(x), 0, 6).subs(x,2),' = ',taylor(exp(x), 0, 6).subs(x,2).evalf())\n",
        "print('Taylor 7 exp(x) ≅', taylor(exp(x), 0, 8).subs(x,2),' = ',taylor(exp(x), 0, 7).subs(x,2).evalf())"
      ],
      "execution_count": 29,
      "outputs": [
        {
          "output_type": "stream",
          "text": [
            "Taylor 0 exp(x) ≅ 0  =  0\n",
            "Taylor 1 exp(x) ≅ 1  =  1.00000000000000\n",
            "Taylor 2 exp(x) ≅ 3  =  3.00000000000000\n",
            "Taylor 3 exp(x) ≅ 5  =  5.00000000000000\n",
            "Taylor 4 exp(x) ≅ 19/3  =  6.33333333333333\n",
            "Taylor 5 exp(x) ≅ 7  =  7.00000000000000\n",
            "Taylor 6 exp(x) ≅ 109/15  =  7.26666666666667\n",
            "Taylor 7 exp(x) ≅ 155/21  =  7.35555555555556\n"
          ],
          "name": "stdout"
        }
      ]
    },
    {
      "cell_type": "code",
      "metadata": {
        "colab": {
          "base_uri": "https://localhost:8080/"
        },
        "id": "pF7sjGZ4TySB",
        "outputId": "1b07c669-c7b8-4441-9481-4e3394d67427"
      },
      "source": [
        "print('Taylor 0 ln(x) ≅', taylor(log(x), 0, 0).subs(x,2),' = ',taylor(log(x), 0, 0).subs(x,2).evalf())\n",
        "print('Taylor 1 ln(x) ≅', taylor(log(x), 0, 1).subs(x,2),' = ',taylor(log(x), 0, 1).subs(x,2).evalf())\n",
        "print('Taylor 2 ln(x) ≅', taylor(log(x), 0, 2).subs(x,2),' = ',taylor(log(x), 0, 2).subs(x,2).evalf())\n",
        "print('Taylor 3 ln(x) ≅', taylor(log(x), 0, 3).subs(x,2),' = ',taylor(log(x), 0, 3).subs(x,2).evalf())\n",
        "print('Taylor 4 ln(x) ≅', taylor(log(x), 0, 4).subs(x,2),' = ',taylor(log(x), 0, 4).subs(x,2).evalf())\n",
        "print('Taylor 5 ln(x) ≅', taylor(log(x), 0, 5).subs(x,2),' = ',taylor(log(x), 0, 5).subs(x,2).evalf())\n",
        "print('Taylor 6 ln(x) ≅', taylor(log(x), 0, 6).subs(x,2),' = ',taylor(log(x), 0, 6).subs(x,2).evalf())\n",
        "print('Taylor 7 ln(x) ≅', taylor(log(x), 0, 8).subs(x,2),' = ',taylor(log(x), 0, 7).subs(x,2).evalf())"
      ],
      "execution_count": 30,
      "outputs": [
        {
          "output_type": "stream",
          "text": [
            "Taylor 0 ln(x) ≅ log(2)  =  0.693147180559945\n",
            "Taylor 1 ln(x) ≅ log(2)  =  0.693147180559945\n",
            "Taylor 2 ln(x) ≅ log(2)  =  0.693147180559945\n",
            "Taylor 3 ln(x) ≅ log(2)  =  0.693147180559945\n",
            "Taylor 4 ln(x) ≅ log(2)  =  0.693147180559945\n",
            "Taylor 5 ln(x) ≅ log(2)  =  0.693147180559945\n",
            "Taylor 6 ln(x) ≅ log(2)  =  0.693147180559945\n",
            "Taylor 7 ln(x) ≅ log(2)  =  0.693147180559945\n"
          ],
          "name": "stdout"
        }
      ]
    },
    {
      "cell_type": "code",
      "metadata": {
        "colab": {
          "base_uri": "https://localhost:8080/"
        },
        "id": "L66cDOlOUzVy",
        "outputId": "819110b3-2ee2-4766-9b0c-13720ea00848"
      },
      "source": [
        "print('Taylor 0 sin(x) ≅', taylor(sin(x), 0, 1).subs(x,2),' = ',taylor(sin(x), 0, 1).subs(x,2).evalf())\n",
        "print('Taylor 1 sin(x) ≅', taylor(sin(x), 0, 3).subs(x,2),' = ',taylor(sin(x), 0, 3).subs(x,2).evalf())\n",
        "print('Taylor 2 sin(x) ≅', taylor(sin(x), 0, 5).subs(x,2),' = ',taylor(sin(x), 0, 5).subs(x,2).evalf())\n",
        "print('Taylor 3 sin(x) ≅', taylor(sin(x), 0, 7).subs(x,2),' = ',taylor(sin(x), 0, 7).subs(x,2).evalf())\n",
        "print('Taylor 4 sin(x) ≅', taylor(sin(x), 0, 4).subs(x,2),' = ',taylor(sin(x), 0, 9).subs(x,2).evalf())\n",
        "print('Taylor 5 sin(x) ≅', taylor(sin(x), 0, 11).subs(x,2),' = ',taylor(sin(x), 0, 11).subs(x,2).evalf())\n",
        "print('Taylor 6 sin(x) ≅', taylor(sin(x), 0, 13).subs(x,2),' = ',taylor(sin(x), 0, 13).subs(x,2).evalf())\n",
        "print('Taylor 7 sin(x) ≅', taylor(sin(x), 0, 15).subs(x,2),' = ',taylor(sin(x), 0, 15).subs(x,2).evalf())"
      ],
      "execution_count": 32,
      "outputs": [
        {
          "output_type": "stream",
          "text": [
            "Taylor 0 sin(x) ≅ 0  =  0\n",
            "Taylor 1 sin(x) ≅ 2  =  2.00000000000000\n",
            "Taylor 2 sin(x) ≅ 2/3  =  0.666666666666667\n",
            "Taylor 3 sin(x) ≅ 14/15  =  0.933333333333333\n",
            "Taylor 4 sin(x) ≅ 2/3  =  0.907936507936508\n",
            "Taylor 5 sin(x) ≅ 2578/2835  =  0.909347442680776\n",
            "Taylor 6 sin(x) ≅ 141782/155925  =  0.909296135962803\n",
            "Taylor 7 sin(x) ≅ 5529506/6081075  =  0.909297451519674\n"
          ],
          "name": "stdout"
        }
      ]
    },
    {
      "cell_type": "code",
      "metadata": {
        "id": "6CAcVG99Oxp4",
        "colab": {
          "base_uri": "https://localhost:8080/"
        },
        "outputId": "9875f677-bd5e-4e82-bdab-70d572506a0c"
      },
      "source": [
        "import math\n",
        "print('sympy exp(x)subs(x,2) =', exp(x).subs(x,2))\n",
        "print('sympy exp(x).subs(x,2).evalf() =', exp(x).subs(x,2).evalf())\n",
        "print('math.exp(2) =', math.exp(2))"
      ],
      "execution_count": 8,
      "outputs": [
        {
          "output_type": "stream",
          "text": [
            "sympy exp(x)subs(x,2) = exp(2)\n",
            "sympy exp(x).subs(x,2).evalf() = 7.38905609893065\n",
            "math.exp(2) = 7.38905609893065\n"
          ],
          "name": "stdout"
        }
      ]
    },
    {
      "cell_type": "code",
      "metadata": {
        "colab": {
          "base_uri": "https://localhost:8080/"
        },
        "id": "fqhN4cNjVfMh",
        "outputId": "576ad526-592e-44cc-e1ed-6c57391f3b85"
      },
      "source": [
        "import math\n",
        "print('sympy ln(x)subs(x,2) =', log(x).subs(x,2))\n",
        "print('sympy ln(x).subs(x,2).evalf() =', log(x).subs(x,2).evalf())\n",
        "print('math.log(2) =', math.log(2))"
      ],
      "execution_count": 33,
      "outputs": [
        {
          "output_type": "stream",
          "text": [
            "sympy ln(x)subs(x,2) = log(2)\n",
            "sympy ln(x).subs(x,2).evalf() = 0.693147180559945\n",
            "math.log(2) = 0.6931471805599453\n"
          ],
          "name": "stdout"
        }
      ]
    },
    {
      "cell_type": "code",
      "metadata": {
        "colab": {
          "base_uri": "https://localhost:8080/"
        },
        "id": "Y_AWeUA5VxOd",
        "outputId": "4acc84e9-c6d4-4dbe-e487-cd8a850a3ca3"
      },
      "source": [
        "import math\n",
        "print('sympy sin(x)subs(x,math.pi/2) =', sin(x).subs(x,math.pi/2))\n",
        "print('sympy sin(x).subs(x,math.pi/2).evalf() =', sin(x).subs(x,math.pi/2).evalf())\n",
        "print('math.sin(math.pi/2) =', math.sin(math.pi/2))"
      ],
      "execution_count": 35,
      "outputs": [
        {
          "output_type": "stream",
          "text": [
            "sympy sin(x)subs(x,math.pi/2) = 1.00000000000000\n",
            "sympy sin(x).subs(x,math.pi/2).evalf() = 1.00000000000000\n",
            "math.sin(math.pi/2) = 1.0\n"
          ],
          "name": "stdout"
        }
      ]
    },
    {
      "cell_type": "code",
      "metadata": {
        "id": "7-SIZbyzVb8I",
        "colab": {
          "base_uri": "https://localhost:8080/",
          "height": 265
        },
        "outputId": "0ed2caa3-8e9e-4bff-ee60-3b5fcd359a93"
      },
      "source": [
        "import math\n",
        "import numpy as np\n",
        "import matplotlib.pyplot as plt\n",
        "# if using a Jupyter notebook, include:\n",
        "%matplotlib inline\n",
        "\n",
        "values = np.arange(-5,5,0.1)\n",
        "p_exp = np.exp(values)\n",
        "t_exp1 = [taylor(exp(x), 0, 1).subs(x,v) for v in values]\n",
        "legends = ['exp() ','Taylor 1 (constant)']\n",
        "\n",
        "fig, ax = plt.subplots()\n",
        "ax.plot(values,p_exp, color ='red')\n",
        "ax.plot(values,t_exp1)\n",
        "\n",
        "ax.set_ylim([-5,5])\n",
        "ax.axhline(y=0.0, xmin=-5.0, xmax=5.0, color='black')\n",
        "ax.axvline(x=0.0, ymin=-10.0, ymax=10.0, color='black')\n",
        "ax.legend(legends)\n",
        "\n",
        "plt.show()"
      ],
      "execution_count": 10,
      "outputs": [
        {
          "output_type": "display_data",
          "data": {
            "image/png": "[encoded data removed]",
            "text/plain": [
              "<Figure size 432x288 with 1 Axes>"
            ]
          },
          "metadata": {
            "tags": [],
            "needs_background": "light"
          }
        }
      ]
    },
    {
      "cell_type": "code",
      "metadata": {
        "id": "nEX84A5GV6-g",
        "colab": {
          "base_uri": "https://localhost:8080/",
          "height": 265
        },
        "outputId": "2e42c24f-c1fd-4e77-84d7-eebfa08d8ad2"
      },
      "source": [
        "import math\n",
        "import numpy as np\n",
        "import matplotlib.pyplot as plt\n",
        "# if using a Jupyter notebook, include:\n",
        "%matplotlib inline\n",
        "\n",
        "values = np.arange(-5,5,0.1)\n",
        "p_exp = np.exp(values)\n",
        "t_exp2 = [taylor(exp(x), 0, 2).subs(x,v) for v in values]\n",
        "legends = ['exp() ','Taylor 2 (linear)']\n",
        "\n",
        "fig, ax = plt.subplots()\n",
        "ax.plot(values,p_exp, color ='red')\n",
        "ax.plot(values,t_exp2)\n",
        "\n",
        "ax.set_ylim([-5,5])\n",
        "ax.axhline(y=0.0, xmin=-5.0, xmax=5.0, color='black')\n",
        "ax.axvline(x=0.0, ymin=-10.0, ymax=10.0, color='black')\n",
        "ax.legend(legends)\n",
        "\n",
        "plt.show()"
      ],
      "execution_count": 12,
      "outputs": [
        {
          "output_type": "display_data",
          "data": {
            "image/png": "[encoded data removed]",
            "text/plain": [
              "<Figure size 432x288 with 1 Axes>"
            ]
          },
          "metadata": {
            "tags": [],
            "needs_background": "light"
          }
        }
      ]
    },
    {
      "cell_type": "code",
      "metadata": {
        "id": "0tgel982WPXX",
        "colab": {
          "base_uri": "https://localhost:8080/",
          "height": 265
        },
        "outputId": "9c016ccf-a7c7-46cd-b2ca-5b8563a7a31a"
      },
      "source": [
        "import math\n",
        "import numpy as np\n",
        "import matplotlib.pyplot as plt\n",
        "# if using a Jupyter notebook, include:\n",
        "%matplotlib inline\n",
        "\n",
        "values = np.arange(-5,5,0.1)\n",
        "p_exp = np.exp(values)\n",
        "t_exp3 = [taylor(exp(x), 0, 3).subs(x,v) for v in values]\n",
        "legends = ['exp() ','Taylor 3 (quadratic)']\n",
        "\n",
        "fig, ax = plt.subplots()\n",
        "ax.plot(values,p_exp, color ='red')\n",
        "ax.plot(values,t_exp3)\n",
        "\n",
        "ax.set_ylim([-5,5])\n",
        "ax.axhline(y=0.0, xmin=-5.0, xmax=5.0, color='black')\n",
        "ax.axvline(x=0.0, ymin=-10.0, ymax=10.0, color='black')\n",
        "ax.legend(legends)\n",
        "\n",
        "plt.show()"
      ],
      "execution_count": 13,
      "outputs": [
        {
          "output_type": "display_data",
          "data": {
            "image/png": "[encoded data removed]",
            "text/plain": [
              "<Figure size 432x288 with 1 Axes>"
            ]
          },
          "metadata": {
            "tags": [],
            "needs_background": "light"
          }
        }
      ]
    },
    {
      "cell_type": "code",
      "metadata": {
        "id": "coXe9XZGWbLO",
        "colab": {
          "base_uri": "https://localhost:8080/",
          "height": 265
        },
        "outputId": "aac0e93f-dd0e-4af8-9596-e0e57f5d44e6"
      },
      "source": [
        "import math\n",
        "import numpy as np\n",
        "import matplotlib.pyplot as plt\n",
        "# if using a Jupyter notebook, include:\n",
        "%matplotlib inline\n",
        "\n",
        "values = np.arange(-5,5,0.1)\n",
        "p_exp = np.exp(values)\n",
        "t_exp4 = [taylor(exp(x), 0, 4).subs(x,v) for v in values]\n",
        "legends = ['exp() ','Taylor 4 (cubic)']\n",
        "\n",
        "fig, ax = plt.subplots()\n",
        "ax.plot(values,p_exp, color ='red')\n",
        "ax.plot(values,t_exp4)\n",
        "\n",
        "ax.set_ylim([-5,5])\n",
        "ax.axhline(y=0.0, xmin=-5.0, xmax=5.0, color='black')\n",
        "ax.axvline(x=0.0, ymin=-10.0, ymax=10.0, color='black')\n",
        "ax.legend(legends)\n",
        "\n",
        "plt.show()"
      ],
      "execution_count": 14,
      "outputs": [
        {
          "output_type": "display_data",
          "data": {
            "image/png": "[encoded data removed]",
            "text/plain": [
              "<Figure size 432x288 with 1 Axes>"
            ]
          },
          "metadata": {
            "tags": [],
            "needs_background": "light"
          }
        }
      ]
    },
    {
      "cell_type": "code",
      "metadata": {
        "id": "9xTFhhEMPS1w",
        "colab": {
          "base_uri": "https://localhost:8080/",
          "height": 265
        },
        "outputId": "63df7d01-15ef-4ff4-a94a-13f9923220c4"
      },
      "source": [
        "import math\n",
        "import numpy as np\n",
        "import matplotlib.pyplot as plt\n",
        "# if using a Jupyter notebook, include:\n",
        "%matplotlib inline\n",
        "\n",
        "values = np.arange(-5,5,0.1)\n",
        "p_exp = np.exp(values)\n",
        "t_exp1 = [taylor(exp(x), 0, 1).subs(x,v) for v in values]\n",
        "t_exp2 = [taylor(exp(x), 0, 2).subs(x,v) for v in values]\n",
        "t_exp3 = [taylor(exp(x), 0, 3).subs(x,v) for v in values]\n",
        "t_exp4 = [taylor(exp(x), 0, 4).subs(x,v) for v in values]\n",
        "legends = ['exp() ','Taylor 1 (constant)','Taylor 3 (linear)','Taylor 3 (quadratic)','Taylor 4 (cubic)']\n",
        "\n",
        "fig, ax = plt.subplots()\n",
        "ax.plot(values,p_exp)\n",
        "ax.plot(values,t_exp1)\n",
        "ax.plot(values,t_exp2)\n",
        "ax.plot(values,t_exp3)\n",
        "ax.plot(values,t_exp4)\n",
        "\n",
        "ax.set_ylim([-5,5])\n",
        "ax.axhline(y=0.0, xmin=-5.0, xmax=5.0, color='black')\n",
        "ax.axvline(x=0.0, ymin=-10.0, ymax=10.0, color='black')\n",
        "ax.legend(legends)\n",
        "\n",
        "plt.show()"
      ],
      "execution_count": 16,
      "outputs": [
        {
          "output_type": "display_data",
          "data": {
            "image/png": "[encoded data removed]",
            "text/plain": [
              "<Figure size 432x288 with 1 Axes>"
            ]
          },
          "metadata": {
            "tags": [],
            "needs_background": "light"
          }
        }
      ]
    },
    {
      "cell_type": "code",
      "metadata": {
        "colab": {
          "base_uri": "https://localhost:8080/",
          "height": 269
        },
        "id": "VEYyY8X-Wkpk",
        "outputId": "d31f116a-a59d-4986-c4b6-7d6d1ee2dec4"
      },
      "source": [
        "import math\n",
        "import numpy as np\n",
        "import matplotlib.pyplot as plt\n",
        "# if using a Jupyter notebook, include:\n",
        "%matplotlib inline\n",
        "\n",
        "values = np.arange(0.1,10,0.1)\n",
        "p_ln = np.log(values)\n",
        "t_ln1 = [taylor(log(x), 0, 1).subs(x,v) for v in values]\n",
        "t_ln2 = [taylor(log(x), 0, 2).subs(x,v) for v in values]\n",
        "t_ln3 = [taylor(log(x), 0, 3).subs(x,v) for v in values]\n",
        "t_ln4 = [taylor(log(x), 0, 4).subs(x,v) for v in values]\n",
        "legends = ['ln() ','Taylor 1 (constant)','Taylor 3 (linear)','Taylor 3 (quadratic)','Taylor 4 (cubic)']\n",
        "\n",
        "fig, ax = plt.subplots()\n",
        "ax.plot(values,p_ln)\n",
        "ax.plot(values,t_ln1)\n",
        "ax.plot(values,t_ln2)\n",
        "ax.plot(values,t_ln3)\n",
        "ax.plot(values,t_ln4)\n",
        "\n",
        "ax.set_ylim([-10,10])\n",
        "ax.axhline(y=0.0, xmin=-5.0, xmax=5.0, color='black')\n",
        "ax.axvline(x=0.0, ymin=-10.0, ymax=10.0, color='black')\n",
        "ax.legend(legends)\n",
        "\n",
        "plt.show()"
      ],
      "execution_count": 40,
      "outputs": [
        {
          "output_type": "display_data",
          "data": {
            "image/png": "[encoded data removed]",
            "text/plain": [
              "<Figure size 432x288 with 1 Axes>"
            ]
          },
          "metadata": {
            "tags": [],
            "needs_background": "light"
          }
        }
      ]
    },
    {
      "cell_type": "code",
      "metadata": {
        "colab": {
          "base_uri": "https://localhost:8080/",
          "height": 265
        },
        "id": "pXovuZb9YNof",
        "outputId": "25a5d689-d1bf-49a8-c376-9a220f35aeaf"
      },
      "source": [
        "import math\n",
        "import numpy as np\n",
        "import matplotlib.pyplot as plt\n",
        "# if using a Jupyter notebook, include:\n",
        "%matplotlib inline\n",
        "\n",
        "values = np.arange(-7,7,0.1)\n",
        "p_sin = np.sin(values)\n",
        "t_sin1 = [taylor(sin(x), 0, 1).subs(x,v) for v in values]\n",
        "t_sin2 = [taylor(sin(x), 0, 3).subs(x,v) for v in values]\n",
        "t_sin3 = [taylor(sin(x), 0, 5).subs(x,v) for v in values]\n",
        "t_sin4 = [taylor(sin(x), 0, 7).subs(x,v) for v in values]\n",
        "legends = ['sin() ','Taylor 1 (constant)','Taylor 3 (linear)','Taylor 3 (quadratic)','Taylor 4 (cubic)']\n",
        "\n",
        "fig, ax = plt.subplots()\n",
        "ax.plot(values,p_sin)\n",
        "ax.plot(values,t_sin1)\n",
        "ax.plot(values,t_sin2)\n",
        "ax.plot(values,t_sin3)\n",
        "ax.plot(values,t_sin4)\n",
        "\n",
        "ax.set_ylim([-7,7])\n",
        "ax.axhline(y=0.0, xmin=-5.0, xmax=5.0, color='black')\n",
        "ax.axvline(x=0.0, ymin=-10.0, ymax=10.0, color='black')\n",
        "ax.legend(legends)\n",
        "\n",
        "plt.show()"
      ],
      "execution_count": 41,
      "outputs": [
        {
          "output_type": "display_data",
          "data": {
            "image/png": "[encoded data removed]",
            "text/plain": [
              "<Figure size 432x288 with 1 Axes>"
            ]
          },
          "metadata": {
            "tags": [],
            "needs_background": "light"
          }
        }
      ]
    }
  ]
}