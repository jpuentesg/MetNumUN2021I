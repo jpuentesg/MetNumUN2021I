{
  "nbformat": 4,
  "nbformat_minor": 0,
  "metadata": {
    "colab": {
      "name": "jpuentesgAlgorithmicToolboxWeek1Quadratic.ipynb",
      "provenance": [],
      "collapsed_sections": []
    },
    "kernelspec": {
      "name": "python3",
      "display_name": "Python 3"
    }
  },
  "cells": [
    {
      "cell_type": "markdown",
      "metadata": {
        "id": "OBc93xD1zMDD"
      },
      "source": [
        "# I. $LU$ factorization of a square matrix\n",
        "When we premultply $A$ by lower triangular elemetary matrices $\\Lambda_j$ it is trasfrommed in an  upper triangular matrix $U$\n",
        "\n",
        "$$  \\Lambda_{n-1}  \\ldots\\Lambda_2  \\Lambda_1 A  = U$$\n",
        "\n",
        "$$  A  = (\\Lambda_{n-1}  \\ldots\\Lambda_2  \\Lambda_2 )^{-1} U$$\n",
        "\n",
        "The inverse of a product of matrices is the revesre product of inverses\n",
        "$$  A  = (\\Lambda_1^{-1}  \\Lambda_2^{-1} \\ldots  \\Lambda_{n-1}^{-1}) U$$\n",
        "\n",
        "and inverse of a Lower Triangular Elemetary Matrix is minus the matrix $\\Lambda_j^{-1} = - \\Lambda_j$, so \n",
        "\n",
        "$$ A  =  (-\\Lambda_1) (-\\Lambda_2) \\ldots   (-\\Lambda_{n-1})  U$$\n",
        "\n",
        "So the $LU$ column pivot factorization is \n",
        "$$  A  = L U$$\n",
        "with\n",
        "$$ U = \\Lambda_{n-1}  \\ldots\\Lambda_2  \\Lambda_1 A  $$\n",
        "an upper triangular matrix\n",
        "$$ L  =  \\Lambda_1^{-1}  \\Lambda_2^{-1} \\ldots  \\Lambda_{n-1}^{-1} $$\n",
        "an lower triangular matrix."
      ]
    },
    {
      "cell_type": "markdown",
      "metadata": {
        "id": "dmO1wEA5zVVS"
      },
      "source": [
        "Consider a simple naive implementation of the LU decomposition. \n",
        "\n",
        "Note that we're using the `numpy` arrays to represent matrices [do **not** use `np.matrix`]."
      ]
    },
    {
      "cell_type": "code",
      "metadata": {
        "id": "0jzv0-yyzDM2"
      },
      "source": [
        "import numpy as np\n",
        "\n",
        "def diy_lu(a):\n",
        "    \"\"\"Construct the LU decomposition of the input matrix.\n",
        "    \n",
        "    Naive LU decomposition: work column by column, accumulate elementary triangular matrices.\n",
        "    No pivoting.\n",
        "    \"\"\"\n",
        "    N = a.shape[0]\n",
        "    \n",
        "    u = a.copy()\n",
        "    L = np.eye(N)\n",
        "    for j in range(N-1):\n",
        "        lam = np.eye(N)\n",
        "        gamma = u[j+1:, j] / u[j, j]\n",
        "        lam[j+1:, j] = -gamma\n",
        "        u = lam @ u\n",
        "\n",
        "        lam[j+1:, j] = gamma\n",
        "        L = L @ lam\n",
        "    return L, u"
      ],
      "execution_count": 1,
      "outputs": []
    },
    {
      "cell_type": "code",
      "metadata": {
        "colab": {
          "base_uri": "https://localhost:8080/"
        },
        "id": "yW-cZc_qzd0Z",
        "outputId": "3bca41d0-4b2c-476c-de73-ada7b9dea29a"
      },
      "source": [
        "# Now, generate a full rank matrix and test the naive implementation\n",
        "\n",
        "import numpy as np\n",
        "\n",
        "N = 6\n",
        "a = np.zeros((N, N), dtype=float)\n",
        "for i in range(N):\n",
        "    for j in range(N):\n",
        "        a[i, j] = 3. / (0.6*i*j + 1)\n",
        "\n",
        "np.linalg.matrix_rank(a)"
      ],
      "execution_count": 2,
      "outputs": [
        {
          "output_type": "execute_result",
          "data": {
            "text/plain": [
              "6"
            ]
          },
          "metadata": {
            "tags": []
          },
          "execution_count": 2
        }
      ]
    },
    {
      "cell_type": "code",
      "metadata": {
        "colab": {
          "base_uri": "https://localhost:8080/"
        },
        "id": "MJs7LATHzhZq",
        "outputId": "2b694b4b-eb08-4d02-9836-315d3c090c0a"
      },
      "source": [
        "a"
      ],
      "execution_count": 3,
      "outputs": [
        {
          "output_type": "execute_result",
          "data": {
            "text/plain": [
              "array([[3.        , 3.        , 3.        , 3.        , 3.        ,\n",
              "        3.        ],\n",
              "       [3.        , 1.875     , 1.36363636, 1.07142857, 0.88235294,\n",
              "        0.75      ],\n",
              "       [3.        , 1.36363636, 0.88235294, 0.65217391, 0.51724138,\n",
              "        0.42857143],\n",
              "       [3.        , 1.07142857, 0.65217391, 0.46875   , 0.36585366,\n",
              "        0.3       ],\n",
              "       [3.        , 0.88235294, 0.51724138, 0.36585366, 0.28301887,\n",
              "        0.23076923],\n",
              "       [3.        , 0.75      , 0.42857143, 0.3       , 0.23076923,\n",
              "        0.1875    ]])"
            ]
          },
          "metadata": {
            "tags": []
          },
          "execution_count": 3
        }
      ]
    },
    {
      "cell_type": "code",
      "metadata": {
        "id": "siqi2RnZzn9x"
      },
      "source": [
        "# Tweak the printing of floating-point numbers, for clarity\n",
        "np.set_printoptions(precision=3)"
      ],
      "execution_count": 4,
      "outputs": []
    },
    {
      "cell_type": "code",
      "metadata": {
        "colab": {
          "base_uri": "https://localhost:8080/"
        },
        "id": "Y21gOqQ8zsqp",
        "outputId": "0821761c-fede-4f41-bfe6-8a904b8ede5f"
      },
      "source": [
        "L, u = diy_lu(a)\n",
        "\n",
        "print(L, \"\\n\")\n",
        "print(u, \"\\n\")\n",
        "\n",
        "# Quick sanity check: L times U must equal the original matrix, up to floating-point errors.\n",
        "print(L@u - a)"
      ],
      "execution_count": 5,
      "outputs": [
        {
          "output_type": "stream",
          "text": [
            "[[1.    0.    0.    0.    0.    0.   ]\n",
            " [1.    1.    0.    0.    0.    0.   ]\n",
            " [1.    1.455 1.    0.    0.    0.   ]\n",
            " [1.    1.714 1.742 1.    0.    0.   ]\n",
            " [1.    1.882 2.276 2.039 1.    0.   ]\n",
            " [1.    2.    2.671 2.944 2.354 1.   ]] \n",
            "\n",
            "[[ 3.000e+00  3.000e+00  3.000e+00  3.000e+00  3.000e+00  3.000e+00]\n",
            " [ 0.000e+00 -1.125e+00 -1.636e+00 -1.929e+00 -2.118e+00 -2.250e+00]\n",
            " [ 0.000e+00  0.000e+00  2.625e-01  4.574e-01  5.975e-01  7.013e-01]\n",
            " [ 0.000e+00  2.220e-16  0.000e+00 -2.197e-02 -4.480e-02 -6.469e-02]\n",
            " [ 0.000e+00 -4.528e-16  0.000e+00  6.939e-18  8.080e-04  1.902e-03]\n",
            " [ 0.000e+00  4.123e-16  0.000e+00 -1.634e-17  0.000e+00 -1.585e-05]] \n",
            "\n",
            "[[ 0.000e+00  0.000e+00  0.000e+00  0.000e+00  0.000e+00  0.000e+00]\n",
            " [ 0.000e+00  0.000e+00  0.000e+00  0.000e+00  0.000e+00  0.000e+00]\n",
            " [ 0.000e+00  0.000e+00 -1.110e-16  1.110e-16  1.110e-16 -5.551e-17]\n",
            " [ 0.000e+00  0.000e+00  3.331e-16 -2.220e-16 -5.551e-17  0.000e+00]\n",
            " [ 0.000e+00  0.000e+00  0.000e+00 -1.110e-16 -1.665e-16  0.000e+00]\n",
            " [ 0.000e+00  0.000e+00 -1.110e-16 -2.776e-16  1.110e-16  1.110e-16]]\n"
          ],
          "name": "stdout"
        }
      ]
    },
    {
      "cell_type": "markdown",
      "metadata": {
        "id": "oSvHYsWuza06"
      },
      "source": [
        "# II. The need for pivoting"
      ]
    },
    {
      "cell_type": "markdown",
      "metadata": {
        "id": "B6z9Gausz4lS"
      },
      "source": [
        "Let's tweak the matrix a little bit, we only change a single element:"
      ]
    },
    {
      "cell_type": "code",
      "metadata": {
        "id": "tkGx4QSTzxOo"
      },
      "source": [
        "a1 = a.copy()\n",
        "a1[1, 1] = 3"
      ],
      "execution_count": 6,
      "outputs": []
    },
    {
      "cell_type": "code",
      "metadata": {
        "colab": {
          "base_uri": "https://localhost:8080/"
        },
        "id": "MiuSdcUcz_rK",
        "outputId": "c67c4e4f-7e22-42a2-cfb8-96942a5db339"
      },
      "source": [
        "np.linalg.matrix_rank(a1)"
      ],
      "execution_count": 7,
      "outputs": [
        {
          "output_type": "execute_result",
          "data": {
            "text/plain": [
              "6"
            ]
          },
          "metadata": {
            "tags": []
          },
          "execution_count": 7
        }
      ]
    },
    {
      "cell_type": "code",
      "metadata": {
        "colab": {
          "base_uri": "https://localhost:8080/"
        },
        "id": "NfvRXF3l0Czz",
        "outputId": "189a3206-c696-4bef-9c7f-c78c65f58290"
      },
      "source": [
        "l, u = diy_lu(a1)\n",
        "\n",
        "print(l, u)"
      ],
      "execution_count": 8,
      "outputs": [
        {
          "output_type": "stream",
          "text": [
            "[[nan nan nan nan nan nan]\n",
            " [nan nan nan nan nan nan]\n",
            " [nan nan nan nan nan nan]\n",
            " [nan nan nan nan nan nan]\n",
            " [nan nan nan nan nan nan]\n",
            " [nan nan nan nan nan nan]] [[nan nan nan nan nan nan]\n",
            " [nan nan nan nan nan nan]\n",
            " [nan nan nan nan nan nan]\n",
            " [nan nan nan nan nan nan]\n",
            " [nan nan nan nan nan nan]\n",
            " [nan nan nan nan nan nan]]\n"
          ],
          "name": "stdout"
        },
        {
          "output_type": "stream",
          "text": [
            "/usr/local/lib/python3.7/dist-packages/ipykernel_launcher.py:15: RuntimeWarning: divide by zero encountered in true_divide\n",
            "  from ipykernel import kernelapp as app\n",
            "/usr/local/lib/python3.7/dist-packages/ipykernel_launcher.py:17: RuntimeWarning: invalid value encountered in matmul\n",
            "/usr/local/lib/python3.7/dist-packages/ipykernel_launcher.py:20: RuntimeWarning: invalid value encountered in matmul\n",
            "/usr/local/lib/python3.7/dist-packages/ipykernel_launcher.py:15: RuntimeWarning: invalid value encountered in true_divide\n",
            "  from ipykernel import kernelapp as app\n"
          ],
          "name": "stderr"
        }
      ]
    },
    {
      "cell_type": "markdown",
      "metadata": {
        "id": "OqWxeK450I58"
      },
      "source": [
        "### Test II.1\n",
        "\n",
        "For a naive LU decomposition to work, all leading minors of a matrix should be non-zero. Check if this requirement is satisfied for the two matrices `a` and `a1`.\n",
        "\n",
        "(20% of the grade)"
      ]
    },
    {
      "cell_type": "code",
      "metadata": {
        "colab": {
          "base_uri": "https://localhost:8080/"
        },
        "id": "nrDIJAjl0H0d",
        "outputId": "fe849ada-cf34-408c-db2e-b7ab1119e405"
      },
      "source": [
        "def leading_minors_test(A):\n",
        "  l1=[]\n",
        "  x=1\n",
        "  for i in range(len(A)):\n",
        "    l1 = A\n",
        "    l1 = A[:i, :i]\n",
        "    det = np.linalg.det(l1)\n",
        "    if det == 0:\n",
        "      x=0\n",
        "  return bool(x)\n",
        "\n",
        "leading_minors_test(a), leading_minors_test(a1)"
      ],
      "execution_count": 21,
      "outputs": [
        {
          "output_type": "execute_result",
          "data": {
            "text/plain": [
              "(True, False)"
            ]
          },
          "metadata": {
            "tags": []
          },
          "execution_count": 21
        }
      ]
    },
    {
      "cell_type": "markdown",
      "metadata": {
        "id": "Qs8AJkWd0XXQ"
      },
      "source": [
        "### Test II.2\n",
        "\n",
        "Modify the `diy_lu` routine to implement column pivoting. Keep track of pivots, you can either construct a permutation matrix, or a swap array (your choice).\n",
        "\n",
        "(40% of the grade)\n",
        "\n",
        "Implement a function to reconstruct the original matrix from a decompositon. Test your routines on the matrices `a` and `a1`.\n",
        "\n",
        "(40% of the grade)"
      ]
    },
    {
      "cell_type": "markdown",
      "metadata": {
        "id": "tUb6w3y60eyP"
      },
      "source": [
        "# 2. $LU$ factorization column pivoting\n",
        "When we premultply $A$ by elementary permutation matricex$P_j$( to find a good pivot) and the premultply by lower triangular elemetary matrices $\\Lambda_j$  it is trasfrommed in an  upper triangular matrix $U$\n",
        "\n",
        "$$  \\Lambda_{n-1} P_{n-1} \\ldots \\Lambda_2 P_2 \\Lambda_1 P_1 A  = U$$\n",
        "$$  A  = (\\Lambda_{n-1} P_{n-1} \\ldots \\Lambda_2 P_2 \\Lambda_1 P_1)^{-1} U$$\n",
        "\n",
        "with\n",
        "\n",
        "\\begin{array}{ll}L  &=  (\\Lambda_{n-1} P_{n-1} \\ldots \\Lambda_2 P_2 \\Lambda_1 P_1)^{-1}\\\\\n",
        "&= P_1^{-1} \\Lambda_1^{-1} P_2^{-1} \\Lambda_2^{-1} \\ldots  P_{n-1}^{-1}\\\\\n",
        " &= P_1^{t} (-\\Lambda_1) P_2^{t} (-\\Lambda_2) \\ldots  P_{n-1}^{t} (-\\Lambda_{n-1})\n",
        "\\end{array}\n",
        "\n",
        "\n",
        "\n",
        "Because the inverse a of a Lower Triangular Elemetary Matrix is minus the matrix $\\Lambda_i^{-1} = - \\Lambda_i$ and the inverse of a Permutation Matrix (in particular an elementary permutation matrix)  is its transpose [math.stackexchange](\n",
        "        https://math.stackexchange.com/questions/98549/the-transpose-of-a-permutation-matrix-is-its-inverse#:~:text=Taking%20the%20transpose%20of%20P,Pt%3DP%E2%88%921.)  $P_i^{-1}=P_i^{t}$, so\n",
        "\n",
        "\n",
        "If we use \n",
        "$$  \\hat{L}  = (\\Lambda_{n-1}  \\ldots \\Lambda_2\\Lambda_1)^{-1}$$\n",
        "The inverse of a product of matrices is the revesre product of inverses \n",
        "$$ \\hat{L} = \\Lambda_1^{-1}\\Lambda_2^{-1} \\ldots  \\Lambda_{n-1}^{-1} $$\n",
        "the inverse a of a Lower Triangular Elemetary Matrix is minus the matrix $\\Lambda_i^{-1} = - \\Lambda_i$\n",
        "$$ \\hat{L} = (-\\Lambda_1)  (-\\Lambda_2) \\ldots  (-\\Lambda_{n-1}) $$\n",
        "\n",
        "Then\n",
        "$$    A_\\pi  = \\hat{L} U$$\n",
        "with $A_\\pi$ equal to $A$ with rows permutated acoording to some permutation $\\pi$\n",
        "\n",
        "Equiavlently \n",
        "$$   A  = (\\hat{L}U)_{\\pi'}$$\n",
        " $(\\hat{L}U)_{\\pi'}$ equal to $\\hat{L}U$ with rows permutated acoording to some permutation $\\pi'$"
      ]
    },
    {
      "cell_type": "code",
      "metadata": {
        "id": "jUro86AH0RJE"
      },
      "source": [
        "def diy_lu_column_pivot(a):\n",
        "    \"\"\"Construct the LU decomposition of the input matrix.\n",
        "    \n",
        "    LU decomposition with pivot: work column by column, accumulate elementary triangular matrices L @ np.transpose(Pj) .\n",
        "    \"\"\"\n",
        "    x = a.shape[0]\n",
        "    u = a.copy()\n",
        "    L = np.eye(x)\n",
        "    P1 = np.eye(x) \n",
        "    P = np.eye(x) \n",
        "\n",
        "    for j in range(x-1):\n",
        "      y = np.eye(x)\n",
        "      i = j\n",
        "      while (u[i, i] == 0.0 and i < x-1):\n",
        "        aux = np.argmax(abs(u[i:,i])) + i\n",
        "        P[i], P[aux] = P[aux], P[i].copy()\n",
        "        u = P @ u\n",
        "        i += 1\n",
        "      z = u[j+1:, j] / u[j, j]\n",
        "      y[j+1:, j] = -z\n",
        "      u = y @ u\n",
        "\n",
        "      y[j+1:, j] = z\n",
        "      L = L @ y @ P1\n",
        "    return  L, u, P"
      ],
      "execution_count": 22,
      "outputs": []
    },
    {
      "cell_type": "code",
      "metadata": {
        "colab": {
          "base_uri": "https://localhost:8080/"
        },
        "id": "oCa4b90-0uD7",
        "outputId": "770eb1d1-d1a8-48f4-ac15-a1cfe7befbf8"
      },
      "source": [
        "N = 6\n",
        "a = np.zeros((N, N), dtype=float)\n",
        "for i in range(N):\n",
        "    for j in range(N):\n",
        "        a[i, j] = 3. / (0.6*i*j + 1)\n",
        "\n",
        "L, u, P = diy_lu_column_pivot(a)\n",
        "\n",
        "print(\"L\\n\",L, \"\\n\")\n",
        "print(\"u\\n\",u, \"\\n\")\n",
        "print(\"L@u\\n\", L@u, \"\\n\")\n",
        "print(\"a\\n\",a, \"\\n\")\n",
        "print(\"P\\n\", P, \"\\n\")\n",
        "print(\"P@L@u\\n\", P@L@u, \"\\n\")\n",
        "print(\"a\\n\",a, \"\\n\")"
      ],
      "execution_count": 23,
      "outputs": [
        {
          "output_type": "stream",
          "text": [
            "L\n",
            " [[1.    0.    0.    0.    0.    0.   ]\n",
            " [1.    1.    0.    0.    0.    0.   ]\n",
            " [1.    1.455 1.    0.    0.    0.   ]\n",
            " [1.    1.714 1.742 1.    0.    0.   ]\n",
            " [1.    1.882 2.276 2.039 1.    0.   ]\n",
            " [1.    2.    2.671 2.944 2.354 1.   ]] \n",
            "\n",
            "u\n",
            " [[ 3.000e+00  3.000e+00  3.000e+00  3.000e+00  3.000e+00  3.000e+00]\n",
            " [ 0.000e+00 -1.125e+00 -1.636e+00 -1.929e+00 -2.118e+00 -2.250e+00]\n",
            " [ 0.000e+00  0.000e+00  2.625e-01  4.574e-01  5.975e-01  7.013e-01]\n",
            " [ 0.000e+00  2.220e-16  0.000e+00 -2.197e-02 -4.480e-02 -6.469e-02]\n",
            " [ 0.000e+00 -4.528e-16  0.000e+00  6.939e-18  8.080e-04  1.902e-03]\n",
            " [ 0.000e+00  4.123e-16  0.000e+00 -1.634e-17  0.000e+00 -1.585e-05]] \n",
            "\n",
            "L@u\n",
            " [[3.    3.    3.    3.    3.    3.   ]\n",
            " [3.    1.875 1.364 1.071 0.882 0.75 ]\n",
            " [3.    1.364 0.882 0.652 0.517 0.429]\n",
            " [3.    1.071 0.652 0.469 0.366 0.3  ]\n",
            " [3.    0.882 0.517 0.366 0.283 0.231]\n",
            " [3.    0.75  0.429 0.3   0.231 0.188]] \n",
            "\n",
            "a\n",
            " [[3.    3.    3.    3.    3.    3.   ]\n",
            " [3.    1.875 1.364 1.071 0.882 0.75 ]\n",
            " [3.    1.364 0.882 0.652 0.517 0.429]\n",
            " [3.    1.071 0.652 0.469 0.366 0.3  ]\n",
            " [3.    0.882 0.517 0.366 0.283 0.231]\n",
            " [3.    0.75  0.429 0.3   0.231 0.188]] \n",
            "\n",
            "P\n",
            " [[1. 0. 0. 0. 0. 0.]\n",
            " [0. 1. 0. 0. 0. 0.]\n",
            " [0. 0. 1. 0. 0. 0.]\n",
            " [0. 0. 0. 1. 0. 0.]\n",
            " [0. 0. 0. 0. 1. 0.]\n",
            " [0. 0. 0. 0. 0. 1.]] \n",
            "\n",
            "P@L@u\n",
            " [[3.    3.    3.    3.    3.    3.   ]\n",
            " [3.    1.875 1.364 1.071 0.882 0.75 ]\n",
            " [3.    1.364 0.882 0.652 0.517 0.429]\n",
            " [3.    1.071 0.652 0.469 0.366 0.3  ]\n",
            " [3.    0.882 0.517 0.366 0.283 0.231]\n",
            " [3.    0.75  0.429 0.3   0.231 0.188]] \n",
            "\n",
            "a\n",
            " [[3.    3.    3.    3.    3.    3.   ]\n",
            " [3.    1.875 1.364 1.071 0.882 0.75 ]\n",
            " [3.    1.364 0.882 0.652 0.517 0.429]\n",
            " [3.    1.071 0.652 0.469 0.366 0.3  ]\n",
            " [3.    0.882 0.517 0.366 0.283 0.231]\n",
            " [3.    0.75  0.429 0.3   0.231 0.188]] \n",
            "\n"
          ],
          "name": "stdout"
        }
      ]
    },
    {
      "cell_type": "code",
      "metadata": {
        "colab": {
          "base_uri": "https://localhost:8080/"
        },
        "id": "473EfeLC0ztJ",
        "outputId": "d0b11aae-6b40-40f8-da49-5d8cffe0e752"
      },
      "source": [
        "a1 = a.copy()\n",
        "a1[1, 1] = 3\n",
        "\n",
        "L, u , P = diy_lu_column_pivot(a1)\n",
        "\n",
        "print(\"L\\n\",L, \"\\n\")\n",
        "print(\"u\\n\",u, \"\\n\")\n",
        "print(\"L@u\\n\", L@u, \"\\n\")\n",
        "print(\"a\\n\",a, \"\\n\")\n",
        "print(\"P\\n\", P, \"\\n\")\n",
        "print(\"P@L@u\\n\", P@L@u, \"\\n\")\n",
        "print(\"a\\n\",a, \"\\n\")"
      ],
      "execution_count": 24,
      "outputs": [
        {
          "output_type": "stream",
          "text": [
            "L\n",
            " [[1.000e+00 0.000e+00 0.000e+00 0.000e+00 0.000e+00 0.000e+00]\n",
            " [1.000e+00 1.000e+00 0.000e+00 0.000e+00 0.000e+00 0.000e+00]\n",
            " [1.000e+00 7.273e-01 1.000e+00 0.000e+00 0.000e+00 0.000e+00]\n",
            " [1.000e+00 8.571e-01 5.807e-01 1.000e+00 0.000e+00 0.000e+00]\n",
            " [1.000e+00 9.412e-01 2.529e-01 6.797e-01 1.000e+00 0.000e+00]\n",
            " [1.000e+00 0.000e+00 6.611e+00 9.937e+01 2.597e+03 1.000e+00]] \n",
            "\n",
            "u\n",
            " [[ 3.000e+00  3.000e+00  3.000e+00  3.000e+00  3.000e+00  3.000e+00]\n",
            " [ 0.000e+00 -2.250e+00 -2.571e+00 -2.700e+00 -2.769e+00 -2.812e+00]\n",
            " [ 0.000e+00  0.000e+00 -2.475e-01 -3.842e-01 -4.688e-01 -5.260e-01]\n",
            " [ 0.000e+00  2.220e-16  0.000e+00  6.152e-03  1.172e-02  1.617e-02]\n",
            " [ 0.000e+00 -1.509e-16  0.000e+00  0.000e+00 -7.044e-05 -1.585e-04]\n",
            " [ 0.000e+00  3.699e-13  0.000e+00  0.000e+00  0.000e+00  3.202e-02]] \n",
            "\n",
            "L@u\n",
            " [[3.    3.    3.    3.    3.    3.   ]\n",
            " [3.    0.75  0.429 0.3   0.231 0.188]\n",
            " [3.    1.364 0.882 0.652 0.517 0.429]\n",
            " [3.    1.071 0.652 0.469 0.366 0.3  ]\n",
            " [3.    0.882 0.517 0.366 0.283 0.231]\n",
            " [3.    3.    1.364 1.071 0.882 0.75 ]] \n",
            "\n",
            "a\n",
            " [[3.    3.    3.    3.    3.    3.   ]\n",
            " [3.    1.875 1.364 1.071 0.882 0.75 ]\n",
            " [3.    1.364 0.882 0.652 0.517 0.429]\n",
            " [3.    1.071 0.652 0.469 0.366 0.3  ]\n",
            " [3.    0.882 0.517 0.366 0.283 0.231]\n",
            " [3.    0.75  0.429 0.3   0.231 0.188]] \n",
            "\n",
            "P\n",
            " [[1. 0. 0. 0. 0. 0.]\n",
            " [0. 0. 0. 0. 0. 1.]\n",
            " [0. 0. 1. 0. 0. 0.]\n",
            " [0. 0. 0. 1. 0. 0.]\n",
            " [0. 0. 0. 0. 1. 0.]\n",
            " [0. 1. 0. 0. 0. 0.]] \n",
            "\n",
            "P@L@u\n",
            " [[3.    3.    3.    3.    3.    3.   ]\n",
            " [3.    3.    1.364 1.071 0.882 0.75 ]\n",
            " [3.    1.364 0.882 0.652 0.517 0.429]\n",
            " [3.    1.071 0.652 0.469 0.366 0.3  ]\n",
            " [3.    0.882 0.517 0.366 0.283 0.231]\n",
            " [3.    0.75  0.429 0.3   0.231 0.188]] \n",
            "\n",
            "a\n",
            " [[3.    3.    3.    3.    3.    3.   ]\n",
            " [3.    1.875 1.364 1.071 0.882 0.75 ]\n",
            " [3.    1.364 0.882 0.652 0.517 0.429]\n",
            " [3.    1.071 0.652 0.469 0.366 0.3  ]\n",
            " [3.    0.882 0.517 0.366 0.283 0.231]\n",
            " [3.    0.75  0.429 0.3   0.231 0.188]] \n",
            "\n"
          ],
          "name": "stdout"
        }
      ]
    },
    {
      "cell_type": "code",
      "metadata": {
        "colab": {
          "base_uri": "https://localhost:8080/"
        },
        "id": "yafNw7uY04At",
        "outputId": "bb391d9c-ade7-47e9-86d9-4885f6633165"
      },
      "source": [
        "a2 = np.array([[4,3,1], [5,7,0], [9,9,3], [8,2,4]])\n",
        "\n",
        "L, u, P = diy_lu_column_pivot(a2)\n",
        "\n",
        "print(\"L\\n\",L, \"\\n\")\n",
        "print(\"u\\n\",u, \"\\n\")\n",
        "print(\"L@u\\n\", L@u, \"\\n\")\n",
        "print(\"a\\n\",a, \"\\n\")\n",
        "print(\"P\\n\", P, \"\\n\")\n",
        "print(\"a\\n\",a, \"\\n\")"
      ],
      "execution_count": 25,
      "outputs": [
        {
          "output_type": "stream",
          "text": [
            "L\n",
            " [[ 1.     0.     0.     0.   ]\n",
            " [ 1.25   1.     0.     0.   ]\n",
            " [ 2.25   0.692  1.     0.   ]\n",
            " [ 2.    -1.231  0.286  1.   ]] \n",
            "\n",
            "u\n",
            " [[ 4.     3.     1.   ]\n",
            " [ 0.     3.25  -1.25 ]\n",
            " [ 0.     0.     1.615]\n",
            " [ 0.     0.     0.   ]] \n",
            "\n",
            "L@u\n",
            " [[4. 3. 1.]\n",
            " [5. 7. 0.]\n",
            " [9. 9. 3.]\n",
            " [8. 2. 4.]] \n",
            "\n",
            "a\n",
            " [[3.    3.    3.    3.    3.    3.   ]\n",
            " [3.    1.875 1.364 1.071 0.882 0.75 ]\n",
            " [3.    1.364 0.882 0.652 0.517 0.429]\n",
            " [3.    1.071 0.652 0.469 0.366 0.3  ]\n",
            " [3.    0.882 0.517 0.366 0.283 0.231]\n",
            " [3.    0.75  0.429 0.3   0.231 0.188]] \n",
            "\n",
            "P\n",
            " [[1. 0. 0. 0.]\n",
            " [0. 1. 0. 0.]\n",
            " [0. 0. 1. 0.]\n",
            " [0. 0. 0. 1.]] \n",
            "\n",
            "a\n",
            " [[3.    3.    3.    3.    3.    3.   ]\n",
            " [3.    1.875 1.364 1.071 0.882 0.75 ]\n",
            " [3.    1.364 0.882 0.652 0.517 0.429]\n",
            " [3.    1.071 0.652 0.469 0.366 0.3  ]\n",
            " [3.    0.882 0.517 0.366 0.283 0.231]\n",
            " [3.    0.75  0.429 0.3   0.231 0.188]] \n",
            "\n"
          ],
          "name": "stdout"
        }
      ]
    },
    {
      "cell_type": "markdown",
      "metadata": {
        "id": "h1F1gBbj08Py"
      },
      "source": [
        "# 3. $LU$ factorization column pivoting and reconstruction\n",
        "When we premultply $A$ by elementary permutation matricex$P_j$( to find a good pivot) and the premultply by lower triangular elemetary matrices $\\Lambda_j$  it is trasfrommed in an  upper triangular matrix $U$\n",
        "\n",
        "$$  \\Lambda_{n-1} P_{n-1} \\ldots \\Lambda_2 P_2 \\Lambda_1 P_1 A  = U$$\n",
        "$$  A  = (\\Lambda_{n-1} P_{n-1} \\ldots \\Lambda_2 P_2 \\Lambda_1 P_1)^{-1} U$$\n",
        "$$  A  = (\\Lambda_{n-1} P_{n-1} \\ldots \\Lambda_2 P_2 \\Lambda_1 P_1)^{-1} U$$\n",
        "\n",
        "The inverse of a product of matrices is the revesre product of inverses \n",
        "$$  A  = ( P_1^{-1} \\Lambda_1^{-1} P_2^{-1} \\Lambda_2^{-1} \\ldots  P_{n-1}^{-1}\\Lambda_{n-1}^{-1} ) U$$\n",
        "\n",
        "So the $LU$ column pivot factorization is \n",
        "$$  A  = L U$$\n",
        "with\n",
        "$$ U = \\Lambda_{n-1} P_{n-1} \\ldots \\Lambda_2 P_2 \\Lambda_1 P_1 A  $$\n",
        "\n",
        "\n",
        "\n",
        "$$ L  = P_1^{-1} \\Lambda_1^{-1} P_2^{-1} \\Lambda_2^{-1} \\ldots  P_{n-1}^{-1}\\Lambda_{n-1}^{-1} $$\n",
        "\n",
        "the inverse a of a Lower Triangular Elemetary Matrix is minus the matrix $\\Lambda_i^{-1} = - \\Lambda_i$ and the inverse of a Permutation Matrix (in particular an elementary permutation matrix)  is its transpose [math.stackexchange](\n",
        "        https://math.stackexchange.com/questions/98549/the-transpose-of-a-permutation-matrix-is-its-inverse#:~:text=Taking%20the%20transpose%20of%20P,Pt%3DP%E2%88%921.)  $P_i^{-1}=P_i^{t}$, so\n",
        "\n",
        "$$ L  =  P_1^{t} (-\\Lambda_1) P_2^{t} (-\\Lambda_2) \\ldots  P_{n-1}^{t} (-\\Lambda_{n-1}) $$\n"
      ]
    },
    {
      "cell_type": "code",
      "metadata": {
        "id": "16uuRFJu09YM"
      },
      "source": [
        "def diy_lu_column_pivot_reconstruct(a):\n",
        "    \"\"\"Construct the LU decomposition of the input matrix.\n",
        "    \n",
        "    LU decomposition with pivot: work column by column, accumulate elementary triangular matrices L @ np.transpose(Pj) .\n",
        "    \"\"\"\n",
        "    x = a.shape[0]\n",
        "\n",
        "    u = a.copy()\n",
        "    L = np.eye(x)\n",
        "\n",
        "    for i in range(1, x-1):\n",
        "        y = np.eye(x)\n",
        "        z = u[i-1:, i] / u[i, i]\n",
        "        y[i-1:, i] = -z\n",
        "        u = y @ u\n",
        "\n",
        "        y[i-1:, i] = z\n",
        "        L = L @ y\n",
        "\n",
        "    return  L, u"
      ],
      "execution_count": 26,
      "outputs": []
    },
    {
      "cell_type": "code",
      "metadata": {
        "colab": {
          "base_uri": "https://localhost:8080/"
        },
        "id": "XIpfRzl21IDH",
        "outputId": "8ddef041-ad87-4fe3-ac15-67db35cb3cd6"
      },
      "source": [
        "N = 6\n",
        "a = np.zeros((N, N), dtype=float)\n",
        "for i in range(N):\n",
        "    for j in range(N):\n",
        "        a[i, j] = 3. / (0.6*i*j + 1)\n",
        "\n",
        "L, u = diy_lu_column_pivot_reconstruct(a)\n",
        "\n",
        "print(\"L\\n\",L, \"\\n\")\n",
        "print(\"u\\n\",u, \"\\n\")\n",
        "print(\"L@u\\n\", L@u, \"\\n\")\n",
        "print(\"a\\n\",a, \"\\n\")"
      ],
      "execution_count": 27,
      "outputs": [
        {
          "output_type": "stream",
          "text": [
            "L\n",
            " [[1.000e+00 1.600e+00 1.995e+01 6.228e+02 4.605e+04 0.000e+00]\n",
            " [0.000e+00 1.000e+00 1.247e+01 3.893e+02 2.878e+04 0.000e+00]\n",
            " [0.000e+00 7.273e-01 1.007e+01 3.143e+02 2.324e+04 0.000e+00]\n",
            " [0.000e+00 5.714e-01 8.285e+00 2.597e+02 1.920e+04 0.000e+00]\n",
            " [0.000e+00 4.706e-01 7.005e+00 2.202e+02 1.628e+04 0.000e+00]\n",
            " [0.000e+00 4.000e-01 6.055e+00 1.908e+02 1.411e+04 1.000e+00]] \n",
            "\n",
            "u\n",
            " [[-1.800e+00 -1.665e-16  8.182e-01  1.286e+00  1.588e+00  1.800e+00]\n",
            " [-1.320e+01 -1.875e+00 -4.242e-17  5.124e-01  6.694e-01  7.071e-01]\n",
            " [-1.129e+01  0.000e+00  1.094e-01 -7.476e-19 -6.982e-02 -1.075e-01]\n",
            " [-1.100e+01  0.000e+00  0.000e+00 -4.069e-03  9.253e-20  4.533e-03]\n",
            " [-1.443e-01  0.000e+00  0.000e+00  0.000e+00  8.416e-05  1.585e-04]\n",
            " [ 6.152e-02  0.000e+00  0.000e+00  0.000e+00  0.000e+00  1.056e-06]] \n",
            "\n",
            "L@u\n",
            " [[-1.374e+04 -3.000e+00  3.000e+00 -4.286e-01  5.142e+00  1.091e+01]\n",
            " [-8.588e+03 -1.875e+00  1.364e+00 -1.071e+00  2.221e+00  5.694e+00]\n",
            " [-6.934e+03 -1.364e+00  1.101e+00 -9.063e-01  1.740e+00  4.541e+00]\n",
            " [-5.728e+03 -1.071e+00  9.063e-01 -7.639e-01  1.420e+00  3.734e+00]\n",
            " [-4.857e+03 -8.824e-01  7.662e-01 -6.550e-01  1.196e+00  3.160e+00]\n",
            " [-4.209e+03 -7.500e-01  6.623e-01 -5.715e-01  1.033e+00  2.734e+00]] \n",
            "\n",
            "a\n",
            " [[3.    3.    3.    3.    3.    3.   ]\n",
            " [3.    1.875 1.364 1.071 0.882 0.75 ]\n",
            " [3.    1.364 0.882 0.652 0.517 0.429]\n",
            " [3.    1.071 0.652 0.469 0.366 0.3  ]\n",
            " [3.    0.882 0.517 0.366 0.283 0.231]\n",
            " [3.    0.75  0.429 0.3   0.231 0.188]] \n",
            "\n"
          ],
          "name": "stdout"
        }
      ]
    },
    {
      "cell_type": "code",
      "metadata": {
        "colab": {
          "base_uri": "https://localhost:8080/"
        },
        "id": "Ea5i2TSF1RPx",
        "outputId": "e3ca702e-36c7-4faf-9164-4860034006c2"
      },
      "source": [
        "a1 = a.copy()\n",
        "a1[1, 1] = 3\n",
        "\n",
        "L, u, = diy_lu_column_pivot_reconstruct(a1)\n",
        "\n",
        "print(\"L\\n\",L, \"\\n\")\n",
        "print(\"u\\n\",u, \"\\n\")\n",
        "print(\"L@u\\n\", L@u, \"\\n\")\n",
        "print(\"a2\\n\",a1, \"\\n\")\n",
        "\n",
        "# Quick sanity check: L times U must equal the original matrix, up to floating-point errors.\n",
        "print(\"L@u - a1\\n\",L@u - a1, \"\\n\")"
      ],
      "execution_count": 28,
      "outputs": [
        {
          "output_type": "stream",
          "text": [
            "L\n",
            " [[ 1.000e+00  1.000e+00 -5.194e+00 -4.816e+01 -6.549e+03  0.000e+00]\n",
            " [ 0.000e+00  1.000e+00 -5.194e+00 -4.816e+01 -6.549e+03  0.000e+00]\n",
            " [ 0.000e+00  4.545e-01 -1.361e+00 -1.262e+01 -1.716e+03  0.000e+00]\n",
            " [ 0.000e+00  3.571e-01 -1.226e+00 -1.037e+01 -1.410e+03  0.000e+00]\n",
            " [ 0.000e+00  2.941e-01 -1.085e+00 -8.807e+00 -1.197e+03  0.000e+00]\n",
            " [ 0.000e+00  2.500e-01 -9.647e-01 -7.653e+00 -1.039e+03  1.000e+00]] \n",
            "\n",
            "u\n",
            " [[ 0.000e+00  0.000e+00  1.636e+00  1.929e+00  2.118e+00  2.250e+00]\n",
            " [ 5.500e+00 -3.000e+00 -1.061e-16 -2.135e-01 -2.789e-01 -2.946e-01]\n",
            " [-9.973e+00  0.000e+00 -2.625e-01 -1.069e-17  9.116e-02  1.257e-01]\n",
            " [-3.691e+01  0.000e+00  0.000e+00  1.781e-02 -2.112e-18 -1.400e-02]\n",
            " [-2.649e-01  0.000e+00  0.000e+00  0.000e+00 -1.645e-04 -2.722e-04]\n",
            " [ 1.038e-01  0.000e+00  0.000e+00  0.000e+00  0.000e+00 -1.846e-06]] \n",
            "\n",
            "L@u\n",
            " [[ 3.570e+03 -3.000e+00  3.000e+00  8.571e-01  2.442e+00  3.760e+00]\n",
            " [ 3.570e+03 -3.000e+00  1.364e+00 -1.071e+00  3.245e-01  1.510e+00]\n",
            " [ 9.365e+02 -1.364e+00  3.573e-01 -3.219e-01  3.135e-02  3.389e-01]\n",
            " [ 7.703e+02 -1.071e+00  3.219e-01 -2.609e-01  2.046e-02  2.696e-01]\n",
            " [ 6.545e+02 -8.824e-01  2.849e-01 -2.197e-01  1.581e-02  2.260e-01]\n",
            " [ 5.688e+02 -7.500e-01  2.532e-01 -1.897e-01  1.319e-02  1.951e-01]] \n",
            "\n",
            "a2\n",
            " [[3.    3.    3.    3.    3.    3.   ]\n",
            " [3.    3.    1.364 1.071 0.882 0.75 ]\n",
            " [3.    1.364 0.882 0.652 0.517 0.429]\n",
            " [3.    1.071 0.652 0.469 0.366 0.3  ]\n",
            " [3.    0.882 0.517 0.366 0.283 0.231]\n",
            " [3.    0.75  0.429 0.3   0.231 0.188]] \n",
            "\n",
            "L@u - a1\n",
            " [[ 3.567e+03 -6.000e+00  0.000e+00 -2.143e+00 -5.578e-01  7.596e-01]\n",
            " [ 3.567e+03 -6.000e+00 -2.220e-16 -2.143e+00 -5.578e-01  7.596e-01]\n",
            " [ 9.335e+02 -2.727e+00 -5.250e-01 -9.740e-01 -4.859e-01 -8.972e-02]\n",
            " [ 7.673e+02 -2.143e+00 -3.303e-01 -7.297e-01 -3.454e-01 -3.039e-02]\n",
            " [ 6.515e+02 -1.765e+00 -2.323e-01 -5.855e-01 -2.672e-01 -4.785e-03]\n",
            " [ 5.658e+02 -1.500e+00 -1.753e-01 -4.897e-01 -2.176e-01  7.568e-03]] \n",
            "\n"
          ],
          "name": "stdout"
        }
      ]
    },
    {
      "cell_type": "code",
      "metadata": {
        "colab": {
          "base_uri": "https://localhost:8080/"
        },
        "id": "fhVlk2aj1Ux5",
        "outputId": "42109b45-637b-4f09-ddb1-7a001b6cb150"
      },
      "source": [
        "a2 = np.array([[4,3,1], [5,7,0], [9,9,3], [8,2,4]])\n",
        "\n",
        "L, u, = diy_lu_column_pivot_reconstruct(a2)\n",
        "\n",
        "print(\"L\\n\",L, \"\\n\")\n",
        "print(\"u\\n\",u, \"\\n\")\n",
        "print(\"L@u\\n\", L@u, \"\\n\")\n",
        "print(\"a2\\n\",a2, \"\\n\")\n",
        "\n",
        "# Quick sanity check: L times U must equal the original matrix, up to floating-point errors.\n",
        "print(\"L@u - a2\\n\",L@u - a2, \"\\n\")"
      ],
      "execution_count": 29,
      "outputs": [
        {
          "output_type": "stream",
          "text": [
            "L\n",
            " [[1.    0.429 0.    0.   ]\n",
            " [0.    1.    0.    0.   ]\n",
            " [0.    1.286 1.    0.   ]\n",
            " [0.    0.286 1.333 1.   ]] \n",
            "\n",
            "u\n",
            " [[ 1.857e+00  1.665e-16  1.000e+00]\n",
            " [-5.000e+00 -7.000e+00  0.000e+00]\n",
            " [-2.571e+00  0.000e+00 -3.000e+00]\n",
            " [ 3.143e+00  0.000e+00  0.000e+00]] \n",
            "\n",
            "L@u\n",
            " [[-0.286 -3.     1.   ]\n",
            " [-5.    -7.     0.   ]\n",
            " [-9.    -9.    -3.   ]\n",
            " [-1.714 -2.    -4.   ]] \n",
            "\n",
            "a2\n",
            " [[4 3 1]\n",
            " [5 7 0]\n",
            " [9 9 3]\n",
            " [8 2 4]] \n",
            "\n",
            "L@u - a2\n",
            " [[ -4.286  -6.      0.   ]\n",
            " [-10.    -14.      0.   ]\n",
            " [-18.    -18.     -6.   ]\n",
            " [ -9.714  -4.     -8.   ]] \n",
            "\n"
          ],
          "name": "stdout"
        }
      ]
    }
  ]
}