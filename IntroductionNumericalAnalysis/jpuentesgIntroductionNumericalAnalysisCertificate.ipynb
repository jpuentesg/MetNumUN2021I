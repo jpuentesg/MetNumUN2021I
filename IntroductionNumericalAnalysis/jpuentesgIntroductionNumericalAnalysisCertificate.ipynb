{
  "nbformat": 4,
  "nbformat_minor": 0,
  "metadata": {
    "colab": {
      "name": "jpuentesgIntroductionNumericalAnalysisCertificate.ipynb",
      "provenance": [],
      "collapsed_sections": []
    },
    "kernelspec": {
      "name": "python3",
      "display_name": "Python 3"
    },
    "language_info": {
      "name": "python"
    }
  },
  "cells": [
    {
      "cell_type": "markdown",
      "metadata": {
        "id": "eeHFA9K-IUbE"
      },
      "source": [
        "<img src=\"https://github.com/jpuentesg/MetNumUN2021I/blob/main/IntroductionNumericalAnalysis/Coursera%20Certificate.png?raw=true\">"
      ]
    },
    {
      "cell_type": "markdown",
      "metadata": {
        "id": "znySZi_HJXL1"
      },
      "source": [
        "#https://www.linkedin.com/posts/julian-david-puentes-gil-6a320520b_introduction-to-numerical-analysis-course-activity-6827957194839871489-UdnM"
      ]
    }
  ]
}